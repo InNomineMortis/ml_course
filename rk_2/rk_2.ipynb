{
 "cells": [
  {
   "cell_type": "code",
   "execution_count": 38,
   "outputs": [],
   "source": [
    "import pandas as pd\n",
    "import numpy as np\n",
    "import seaborn as sns\n",
    "from sklearn.preprocessing import LabelEncoder\n",
    "from sklearn.model_selection import train_test_split\n",
    "from sklearn.metrics import f1_score, precision_score\n",
    "from sklearn.linear_model import LogisticRegression\n",
    "import matplotlib.pyplot as plt\n",
    "from sklearn.naive_bayes import MultinomialNB, ComplementNB, BernoulliNB\n",
    "from sklearn.metrics import accuracy_score\n",
    "from sklearn.svm import LinearSVC\n",
    "from sklearn.feature_extraction.text import TfidfVectorizer\n",
    "\n",
    "%matplotlib inline \n",
    "sns.set(style=\"ticks\")\n"
   ],
   "metadata": {
    "collapsed": false,
    "pycharm": {
     "name": "#%%\n",
     "is_executing": false
    }
   }
  },
  {
   "cell_type": "code",
   "execution_count": 44,
   "outputs": [
    {
     "data": {
      "text/plain": "      index  season no.  episode no.            episode name   name  \\\n0         0           1            1                   Pilot   Rick   \n1         1           1            1                   Pilot  Morty   \n2         2           1            1                   Pilot   Rick   \n3         3           1            1                   Pilot  Morty   \n4         4           1            1                   Pilot   Rick   \n...     ...         ...          ...                     ...    ...   \n1900   2483           3            7  Tales From the Citadel  Morty   \n1901   2484           3            7  Tales From the Citadel   Rick   \n1902   2485           3            7  Tales From the Citadel  Morty   \n1903   2486           3            7  Tales From the Citadel   Rick   \n1904   2487           3            7  Tales From the Citadel  Morty   \n\n                                                   line  \n0     Morty! You gotta come on. Jus'... you gotta co...  \n1                          What, Rick? What’s going on?  \n2                      I got a surprise for you, Morty.  \n3     It's the middle of the night. What are you tal...  \n4     Come on, I got a surprise for you.  Come on, h...  \n...                                                 ...  \n1900                                  That was amazing!  \n1901                     Got some of that mermaid puss!  \n1902  I'm really hoping it wasn't a one-off thing an...  \n1903  Pssh! Not at all, Morty. That place will never...  \n1904                     Whoo! Yeah! Yeaah! Ohhh, shit!  \n\n[1905 rows x 6 columns]",
      "text/html": "<div>\n<style scoped>\n    .dataframe tbody tr th:only-of-type {\n        vertical-align: middle;\n    }\n\n    .dataframe tbody tr th {\n        vertical-align: top;\n    }\n\n    .dataframe thead th {\n        text-align: right;\n    }\n</style>\n<table border=\"1\" class=\"dataframe\">\n  <thead>\n    <tr style=\"text-align: right;\">\n      <th></th>\n      <th>index</th>\n      <th>season no.</th>\n      <th>episode no.</th>\n      <th>episode name</th>\n      <th>name</th>\n      <th>line</th>\n    </tr>\n  </thead>\n  <tbody>\n    <tr>\n      <th>0</th>\n      <td>0</td>\n      <td>1</td>\n      <td>1</td>\n      <td>Pilot</td>\n      <td>Rick</td>\n      <td>Morty! You gotta come on. Jus'... you gotta co...</td>\n    </tr>\n    <tr>\n      <th>1</th>\n      <td>1</td>\n      <td>1</td>\n      <td>1</td>\n      <td>Pilot</td>\n      <td>Morty</td>\n      <td>What, Rick? What’s going on?</td>\n    </tr>\n    <tr>\n      <th>2</th>\n      <td>2</td>\n      <td>1</td>\n      <td>1</td>\n      <td>Pilot</td>\n      <td>Rick</td>\n      <td>I got a surprise for you, Morty.</td>\n    </tr>\n    <tr>\n      <th>3</th>\n      <td>3</td>\n      <td>1</td>\n      <td>1</td>\n      <td>Pilot</td>\n      <td>Morty</td>\n      <td>It's the middle of the night. What are you tal...</td>\n    </tr>\n    <tr>\n      <th>4</th>\n      <td>4</td>\n      <td>1</td>\n      <td>1</td>\n      <td>Pilot</td>\n      <td>Rick</td>\n      <td>Come on, I got a surprise for you.  Come on, h...</td>\n    </tr>\n    <tr>\n      <th>...</th>\n      <td>...</td>\n      <td>...</td>\n      <td>...</td>\n      <td>...</td>\n      <td>...</td>\n      <td>...</td>\n    </tr>\n    <tr>\n      <th>1900</th>\n      <td>2483</td>\n      <td>3</td>\n      <td>7</td>\n      <td>Tales From the Citadel</td>\n      <td>Morty</td>\n      <td>That was amazing!</td>\n    </tr>\n    <tr>\n      <th>1901</th>\n      <td>2484</td>\n      <td>3</td>\n      <td>7</td>\n      <td>Tales From the Citadel</td>\n      <td>Rick</td>\n      <td>Got some of that mermaid puss!</td>\n    </tr>\n    <tr>\n      <th>1902</th>\n      <td>2485</td>\n      <td>3</td>\n      <td>7</td>\n      <td>Tales From the Citadel</td>\n      <td>Morty</td>\n      <td>I'm really hoping it wasn't a one-off thing an...</td>\n    </tr>\n    <tr>\n      <th>1903</th>\n      <td>2486</td>\n      <td>3</td>\n      <td>7</td>\n      <td>Tales From the Citadel</td>\n      <td>Rick</td>\n      <td>Pssh! Not at all, Morty. That place will never...</td>\n    </tr>\n    <tr>\n      <th>1904</th>\n      <td>2487</td>\n      <td>3</td>\n      <td>7</td>\n      <td>Tales From the Citadel</td>\n      <td>Morty</td>\n      <td>Whoo! Yeah! Yeaah! Ohhh, shit!</td>\n    </tr>\n  </tbody>\n</table>\n<p>1905 rows × 6 columns</p>\n</div>"
     },
     "metadata": {},
     "output_type": "execute_result",
     "execution_count": 44
    }
   ],
   "source": [
    "data = pd.read_csv('../datasets/RickAndMortyScripts.csv')\n",
    "data"
   ],
   "metadata": {
    "collapsed": false,
    "pycharm": {
     "name": "#%%\n",
     "is_executing": false
    }
   }
  },
  {
   "cell_type": "code",
   "execution_count": 51,
   "outputs": [],
   "source": [
    "data = data.drop(columns = ['season no.', 'episode no.','episode name'])"
   ],
   "metadata": {
    "collapsed": false,
    "pycharm": {
     "name": "#%%\n",
     "is_executing": false
    }
   }
  },
  {
   "cell_type": "code",
   "execution_count": 52,
   "outputs": [
    {
     "data": {
      "text/plain": "Index(['index', 'name', 'line'], dtype='object')"
     },
     "metadata": {},
     "output_type": "execute_result",
     "execution_count": 52
    }
   ],
   "source": [
    "data.columns"
   ],
   "metadata": {
    "collapsed": false,
    "pycharm": {
     "name": "#%% \n",
     "is_executing": false
    }
   }
  },
  {
   "cell_type": "code",
   "execution_count": 53,
   "outputs": [
    {
     "data": {
      "text/plain": "Rick                      420\nMorty                     347\nBeth                      148\nJerry                     132\nSummer                     97\nPickle Rick                77\nSupernova                  44\nCop Morty                  34\nAll Ricks                  32\nMr. Goldenfold             28\nPresident                  27\nCop Rick                   26\nTesticle Monster A         26\nPrincipal Vagina           25\nCornvelious Daniel         22\nSnuffles                   22\nDrunk Rick                 21\nDr. Wong                   21\nAgency Director            20\nAlan                       19\nCandidate Morty            18\nVance                      17\nScary Terry                17\nJessica                    16\nMillion Ants               15\nAll Mortys                 15\nIce-T                      13\nMorty 2                    13\nAll Summers                13\nRiq IV                     13\nAlien Doctor               12\nCampaign Manager Morty     12\nLizard Morty               11\nCromulon                   10\nBrad                       10\nSlick                      10\nNathan                     10\nBirdperson                  9\nGlasses Morty               9\nRick J-22                   9\nYoung Rick                  9\nVet                         9\nMorty 1                     8\nAnnouncer                   8\nMrs. Pancakes               8\nTeacher Rick                8\nNarrator                    8\nSummer 1                    7\nName: name, dtype: int64"
     },
     "metadata": {},
     "output_type": "execute_result",
     "execution_count": 53
    }
   ],
   "source": [
    "data['name'].value_counts()"
   ],
   "metadata": {
    "collapsed": false,
    "pycharm": {
     "name": "#%%\n",
     "is_executing": false
    }
   }
  },
  {
   "cell_type": "code",
   "execution_count": 54,
   "outputs": [
    {
     "data": {
      "text/plain": "      index   name                                               line\n0         0   Rick  Morty! You gotta come on. Jus'... you gotta co...\n1         1  Morty                       What, Rick? What’s going on?\n2         2   Rick                   I got a surprise for you, Morty.\n3         3  Morty  It's the middle of the night. What are you tal...\n4         4   Rick  Come on, I got a surprise for you.  Come on, h...\n...     ...    ...                                                ...\n1900   2483  Morty                                  That was amazing!\n1901   2484   Rick                     Got some of that mermaid puss!\n1902   2485  Morty  I'm really hoping it wasn't a one-off thing an...\n1903   2486   Rick  Pssh! Not at all, Morty. That place will never...\n1904   2487  Morty                     Whoo! Yeah! Yeaah! Ohhh, shit!\n\n[1144 rows x 3 columns]",
      "text/html": "<div>\n<style scoped>\n    .dataframe tbody tr th:only-of-type {\n        vertical-align: middle;\n    }\n\n    .dataframe tbody tr th {\n        vertical-align: top;\n    }\n\n    .dataframe thead th {\n        text-align: right;\n    }\n</style>\n<table border=\"1\" class=\"dataframe\">\n  <thead>\n    <tr style=\"text-align: right;\">\n      <th></th>\n      <th>index</th>\n      <th>name</th>\n      <th>line</th>\n    </tr>\n  </thead>\n  <tbody>\n    <tr>\n      <th>0</th>\n      <td>0</td>\n      <td>Rick</td>\n      <td>Morty! You gotta come on. Jus'... you gotta co...</td>\n    </tr>\n    <tr>\n      <th>1</th>\n      <td>1</td>\n      <td>Morty</td>\n      <td>What, Rick? What’s going on?</td>\n    </tr>\n    <tr>\n      <th>2</th>\n      <td>2</td>\n      <td>Rick</td>\n      <td>I got a surprise for you, Morty.</td>\n    </tr>\n    <tr>\n      <th>3</th>\n      <td>3</td>\n      <td>Morty</td>\n      <td>It's the middle of the night. What are you tal...</td>\n    </tr>\n    <tr>\n      <th>4</th>\n      <td>4</td>\n      <td>Rick</td>\n      <td>Come on, I got a surprise for you.  Come on, h...</td>\n    </tr>\n    <tr>\n      <th>...</th>\n      <td>...</td>\n      <td>...</td>\n      <td>...</td>\n    </tr>\n    <tr>\n      <th>1900</th>\n      <td>2483</td>\n      <td>Morty</td>\n      <td>That was amazing!</td>\n    </tr>\n    <tr>\n      <th>1901</th>\n      <td>2484</td>\n      <td>Rick</td>\n      <td>Got some of that mermaid puss!</td>\n    </tr>\n    <tr>\n      <th>1902</th>\n      <td>2485</td>\n      <td>Morty</td>\n      <td>I'm really hoping it wasn't a one-off thing an...</td>\n    </tr>\n    <tr>\n      <th>1903</th>\n      <td>2486</td>\n      <td>Rick</td>\n      <td>Pssh! Not at all, Morty. That place will never...</td>\n    </tr>\n    <tr>\n      <th>1904</th>\n      <td>2487</td>\n      <td>Morty</td>\n      <td>Whoo! Yeah! Yeaah! Ohhh, shit!</td>\n    </tr>\n  </tbody>\n</table>\n<p>1144 rows × 3 columns</p>\n</div>"
     },
     "metadata": {},
     "output_type": "execute_result",
     "execution_count": 54
    }
   ],
   "source": [
    "data = data[data['name'].isin(['Rick', 'Morty', 'Beth', 'Jerry', 'Summer'])]\n",
    "data"
   ],
   "metadata": {
    "collapsed": false,
    "pycharm": {
     "name": "#%%\n",
     "is_executing": false
    }
   }
  },
  {
   "cell_type": "code",
   "execution_count": 55,
   "outputs": [],
   "source": [
    "X = data.drop('name', axis=1)\n",
    "Y = data['name']"
   ],
   "metadata": {
    "collapsed": false,
    "pycharm": {
     "name": "#%%\n",
     "is_executing": false
    }
   }
  },
  {
   "cell_type": "code",
   "execution_count": 57,
   "outputs": [
    {
     "data": {
      "text/plain": "      index                                               line\n0         0  Morty! You gotta come on. Jus'... you gotta co...\n1         1                       What, Rick? What’s going on?\n2         2                   I got a surprise for you, Morty.\n3         3  It's the middle of the night. What are you tal...\n4         4  Come on, I got a surprise for you.  Come on, h...\n...     ...                                                ...\n1900   2483                                  That was amazing!\n1901   2484                     Got some of that mermaid puss!\n1902   2485  I'm really hoping it wasn't a one-off thing an...\n1903   2486  Pssh! Not at all, Morty. That place will never...\n1904   2487                     Whoo! Yeah! Yeaah! Ohhh, shit!\n\n[1144 rows x 2 columns]",
      "text/html": "<div>\n<style scoped>\n    .dataframe tbody tr th:only-of-type {\n        vertical-align: middle;\n    }\n\n    .dataframe tbody tr th {\n        vertical-align: top;\n    }\n\n    .dataframe thead th {\n        text-align: right;\n    }\n</style>\n<table border=\"1\" class=\"dataframe\">\n  <thead>\n    <tr style=\"text-align: right;\">\n      <th></th>\n      <th>index</th>\n      <th>line</th>\n    </tr>\n  </thead>\n  <tbody>\n    <tr>\n      <th>0</th>\n      <td>0</td>\n      <td>Morty! You gotta come on. Jus'... you gotta co...</td>\n    </tr>\n    <tr>\n      <th>1</th>\n      <td>1</td>\n      <td>What, Rick? What’s going on?</td>\n    </tr>\n    <tr>\n      <th>2</th>\n      <td>2</td>\n      <td>I got a surprise for you, Morty.</td>\n    </tr>\n    <tr>\n      <th>3</th>\n      <td>3</td>\n      <td>It's the middle of the night. What are you tal...</td>\n    </tr>\n    <tr>\n      <th>4</th>\n      <td>4</td>\n      <td>Come on, I got a surprise for you.  Come on, h...</td>\n    </tr>\n    <tr>\n      <th>...</th>\n      <td>...</td>\n      <td>...</td>\n    </tr>\n    <tr>\n      <th>1900</th>\n      <td>2483</td>\n      <td>That was amazing!</td>\n    </tr>\n    <tr>\n      <th>1901</th>\n      <td>2484</td>\n      <td>Got some of that mermaid puss!</td>\n    </tr>\n    <tr>\n      <th>1902</th>\n      <td>2485</td>\n      <td>I'm really hoping it wasn't a one-off thing an...</td>\n    </tr>\n    <tr>\n      <th>1903</th>\n      <td>2486</td>\n      <td>Pssh! Not at all, Morty. That place will never...</td>\n    </tr>\n    <tr>\n      <th>1904</th>\n      <td>2487</td>\n      <td>Whoo! Yeah! Yeaah! Ohhh, shit!</td>\n    </tr>\n  </tbody>\n</table>\n<p>1144 rows × 2 columns</p>\n</div>"
     },
     "metadata": {},
     "output_type": "execute_result",
     "execution_count": 57
    }
   ],
   "source": [
    "X"
   ],
   "metadata": {
    "collapsed": false,
    "pycharm": {
     "name": "#%%\n",
     "is_executing": false
    }
   }
  },
  {
   "cell_type": "code",
   "execution_count": 58,
   "outputs": [
    {
     "data": {
      "text/plain": "0        Rick\n1       Morty\n2        Rick\n3       Morty\n4        Rick\n        ...  \n1900    Morty\n1901     Rick\n1902    Morty\n1903     Rick\n1904    Morty\nName: name, Length: 1144, dtype: object"
     },
     "metadata": {},
     "output_type": "execute_result",
     "execution_count": 58
    }
   ],
   "source": [
    "Y"
   ],
   "metadata": {
    "collapsed": false,
    "pycharm": {
     "name": "#%%\n",
     "is_executing": false
    }
   }
  },
  {
   "cell_type": "code",
   "execution_count": 59,
   "outputs": [
    {
     "name": "stdout",
     "text": [
      "(858, 2), (286, 2)\n",
      "(858,), (286,)\n"
     ],
     "output_type": "stream"
    }
   ],
   "source": [
    "X_train, X_test, Y_train, Y_test = train_test_split(X, Y, test_size=0.25, random_state=1)\n",
    "print('{}, {}'.format(X_train.shape, X_test.shape))\n",
    "print('{}, {}'.format(Y_train.shape, Y_test.shape))"
   ],
   "metadata": {
    "collapsed": false,
    "pycharm": {
     "name": "#%%\n",
     "is_executing": false
    }
   }
  },
  {
   "cell_type": "code",
   "execution_count": 73,
   "outputs": [
    {
     "data": {
      "text/plain": "index    float64\nline      object\ndtype: object"
     },
     "metadata": {},
     "output_type": "execute_result",
     "execution_count": 73
    }
   ],
   "source": [
    "vectorizer = TfidfVectorizer()\n",
    "vectorizer.fit(X_train + X_test)"
   ],
   "metadata": {
    "collapsed": false,
    "pycharm": {
     "name": "#%%\n",
     "is_executing": false
    }
   }
  },
  {
   "cell_type": "code",
   "execution_count": 61,
   "outputs": [
    {
     "data": {
      "text/plain": "      index                                               line\n239     267                          Ohh, man.  Oh, geez! Ohh.\n87       95  Aw, geez. Okay. I guess I can skip history. Wh...\n494     566                                               Oww!\n538     611  You have dropped so many balls, man. Do you ev...\n2         2                   I got a surprise for you, Morty.\n...     ...                                                ...\n1028   1276  Hey, what's wrong Morty? Oh, you're worried ab...\n1277   1652                                         McNuggets?\n1686   2123  I think... no matter what we put on there, we ...\n259     288                                         Roll over.\n1606   2040  Because my epidermis is laced with a nanofiber...\n\n[858 rows x 2 columns]",
      "text/html": "<div>\n<style scoped>\n    .dataframe tbody tr th:only-of-type {\n        vertical-align: middle;\n    }\n\n    .dataframe tbody tr th {\n        vertical-align: top;\n    }\n\n    .dataframe thead th {\n        text-align: right;\n    }\n</style>\n<table border=\"1\" class=\"dataframe\">\n  <thead>\n    <tr style=\"text-align: right;\">\n      <th></th>\n      <th>index</th>\n      <th>line</th>\n    </tr>\n  </thead>\n  <tbody>\n    <tr>\n      <th>239</th>\n      <td>267</td>\n      <td>Ohh, man.  Oh, geez! Ohh.</td>\n    </tr>\n    <tr>\n      <th>87</th>\n      <td>95</td>\n      <td>Aw, geez. Okay. I guess I can skip history. Wh...</td>\n    </tr>\n    <tr>\n      <th>494</th>\n      <td>566</td>\n      <td>Oww!</td>\n    </tr>\n    <tr>\n      <th>538</th>\n      <td>611</td>\n      <td>You have dropped so many balls, man. Do you ev...</td>\n    </tr>\n    <tr>\n      <th>2</th>\n      <td>2</td>\n      <td>I got a surprise for you, Morty.</td>\n    </tr>\n    <tr>\n      <th>...</th>\n      <td>...</td>\n      <td>...</td>\n    </tr>\n    <tr>\n      <th>1028</th>\n      <td>1276</td>\n      <td>Hey, what's wrong Morty? Oh, you're worried ab...</td>\n    </tr>\n    <tr>\n      <th>1277</th>\n      <td>1652</td>\n      <td>McNuggets?</td>\n    </tr>\n    <tr>\n      <th>1686</th>\n      <td>2123</td>\n      <td>I think... no matter what we put on there, we ...</td>\n    </tr>\n    <tr>\n      <th>259</th>\n      <td>288</td>\n      <td>Roll over.</td>\n    </tr>\n    <tr>\n      <th>1606</th>\n      <td>2040</td>\n      <td>Because my epidermis is laced with a nanofiber...</td>\n    </tr>\n  </tbody>\n</table>\n<p>858 rows × 2 columns</p>\n</div>"
     },
     "metadata": {},
     "output_type": "execute_result",
     "execution_count": 61
    }
   ],
   "source": [
    "X_train"
   ],
   "metadata": {
    "collapsed": false,
    "pycharm": {
     "name": "#%%\n",
     "is_executing": false
    }
   }
  },
  {
   "cell_type": "code",
   "execution_count": 62,
   "outputs": [],
   "source": [
    "X_train_vec = vectorizer.transform(X_train['line'])\n",
    "X_test_vec = vectorizer.transform(X_test['line'])"
   ],
   "metadata": {
    "collapsed": false,
    "pycharm": {
     "name": "#%%\n",
     "is_executing": false
    }
   }
  },
  {
   "cell_type": "code",
   "execution_count": 63,
   "outputs": [
    {
     "data": {
      "text/plain": "(858, 2)"
     },
     "metadata": {},
     "output_type": "execute_result",
     "execution_count": 63
    }
   ],
   "source": [
    "\n",
    "X_train_vec.shape"
   ],
   "metadata": {
    "collapsed": false,
    "pycharm": {
     "name": "#%%\n",
     "is_executing": false
    }
   }
  },
  {
   "cell_type": "code",
   "execution_count": 64,
   "outputs": [],
   "source": [
    "def test(model):\n",
    "    print(model)\n",
    "    model.fit(X_train_vec, Y_train)\n",
    "    print(\"accuracy:\", accuracy_score(Y_test, model.predict(X_test_vec)))"
   ],
   "metadata": {
    "collapsed": false,
    "pycharm": {
     "name": "#%%\n",
     "is_executing": false
    }
   }
  },
  {
   "cell_type": "code",
   "execution_count": 65,
   "outputs": [
    {
     "name": "stdout",
     "text": [
      "LogisticRegression()\n",
      "accuracy: 0.3706293706293706\n"
     ],
     "output_type": "stream"
    }
   ],
   "source": [
    "test(LogisticRegression(solver='lbfgs', multi_class='auto'))"
   ],
   "metadata": {
    "collapsed": false,
    "pycharm": {
     "name": "#%%\n",
     "is_executing": false
    }
   }
  },
  {
   "cell_type": "code",
   "execution_count": 66,
   "outputs": [
    {
     "name": "stdout",
     "text": [
      "LinearSVC()\n",
      "accuracy: 0.3706293706293706\n"
     ],
     "output_type": "stream"
    }
   ],
   "source": [
    "test(LinearSVC())"
   ],
   "metadata": {
    "collapsed": false,
    "pycharm": {
     "name": "#%%\n",
     "is_executing": false
    }
   }
  },
  {
   "cell_type": "code",
   "execution_count": 67,
   "outputs": [
    {
     "name": "stdout",
     "text": [
      "MultinomialNB()\n",
      "accuracy: 0.3706293706293706\n"
     ],
     "output_type": "stream"
    }
   ],
   "source": [
    "test(MultinomialNB())"
   ],
   "metadata": {
    "collapsed": false,
    "pycharm": {
     "name": "#%%\n",
     "is_executing": false
    }
   }
  },
  {
   "cell_type": "code",
   "execution_count": 68,
   "outputs": [
    {
     "name": "stdout",
     "text": [
      "ComplementNB()\n",
      "accuracy: 0.13986013986013987\n"
     ],
     "output_type": "stream"
    }
   ],
   "source": [
    "test(ComplementNB())"
   ],
   "metadata": {
    "collapsed": false,
    "pycharm": {
     "name": "#%%\n",
     "is_executing": false
    }
   }
  },
  {
   "cell_type": "code",
   "execution_count": 69,
   "outputs": [
    {
     "name": "stdout",
     "text": [
      "BernoulliNB()\n",
      "accuracy: 0.3706293706293706\n"
     ],
     "output_type": "stream"
    }
   ],
   "source": [
    "test(BernoulliNB())\n"
   ],
   "metadata": {
    "collapsed": false,
    "pycharm": {
     "name": "#%%\n",
     "is_executing": false
    }
   }
  }
 ],
 "metadata": {
  "kernelspec": {
   "display_name": "Python 3",
   "language": "python",
   "name": "python3"
  },
  "language_info": {
   "codemirror_mode": {
    "name": "ipython",
    "version": 2
   },
   "file_extension": ".py",
   "mimetype": "text/x-python",
   "name": "python",
   "nbconvert_exporter": "python",
   "pygments_lexer": "ipython2",
   "version": "2.7.6"
  },
  "pycharm": {
   "stem_cell": {
    "cell_type": "raw",
    "source": [],
    "metadata": {
     "collapsed": false
    }
   }
  }
 },
 "nbformat": 4,
 "nbformat_minor": 0
}