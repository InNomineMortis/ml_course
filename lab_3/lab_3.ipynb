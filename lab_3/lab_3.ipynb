{
 "cells": [
  {
   "cell_type": "code",
   "execution_count": 1,
   "metadata": {
    "collapsed": true,
    "pycharm": {
     "is_executing": false
    }
   },
   "outputs": [],
   "source": [
    "import numpy as np\n",
    "import pandas as pd\n",
    "import seaborn as sns\n",
    "import matplotlib.pyplot as plt\n",
    "%matplotlib inline \n",
    "sns.set(style=\"ticks\")\n"
   ]
  },
  {
   "cell_type": "code",
   "execution_count": 2,
   "outputs": [],
   "source": [
    "# Будем использовать только обучающую выборку\n",
    "data = pd.read_csv('../datasets/vgsales.csv', sep=\",\")"
   ],
   "metadata": {
    "collapsed": false,
    "pycharm": {
     "name": "#%%\n",
     "is_executing": false
    }
   }
  },
  {
   "cell_type": "code",
   "execution_count": 3,
   "outputs": [
    {
     "data": {
      "text/plain": "(16598, 11)"
     },
     "metadata": {},
     "output_type": "execute_result",
     "execution_count": 3
    }
   ],
   "source": [
    "# размер набора данных\n",
    "data.shape"
   ],
   "metadata": {
    "collapsed": false,
    "pycharm": {
     "name": "#%%\n",
     "is_executing": false
    }
   }
  },
  {
   "cell_type": "code",
   "execution_count": 4,
   "outputs": [
    {
     "data": {
      "text/plain": "Rank              int64\nName             object\nPlatform         object\nYear            float64\nGenre            object\nPublisher        object\nNA_Sales        float64\nEU_Sales        float64\nJP_Sales        float64\nOther_Sales     float64\nGlobal_Sales    float64\ndtype: object"
     },
     "metadata": {},
     "output_type": "execute_result",
     "execution_count": 4
    }
   ],
   "source": [
    "# типы колонок\n",
    "data.dtypes"
   ],
   "metadata": {
    "collapsed": false,
    "pycharm": {
     "name": "#%%\n",
     "is_executing": false
    }
   }
  },
  {
   "cell_type": "code",
   "execution_count": 5,
   "outputs": [
    {
     "data": {
      "text/plain": "Rank              0\nName              0\nPlatform          0\nYear            271\nGenre             0\nPublisher        58\nNA_Sales          0\nEU_Sales          0\nJP_Sales          0\nOther_Sales       0\nGlobal_Sales      0\ndtype: int64"
     },
     "metadata": {},
     "output_type": "execute_result",
     "execution_count": 5
    }
   ],
   "source": [
    "# проверим есть ли пропущенные значения\n",
    "data.isnull().sum()"
   ],
   "metadata": {
    "collapsed": false,
    "pycharm": {
     "name": "#%%\n",
     "is_executing": false
    }
   }
  },
  {
   "cell_type": "code",
   "execution_count": 6,
   "outputs": [
    {
     "data": {
      "text/plain": "   Rank                      Name Platform    Year         Genre Publisher  \\\n0     1                Wii Sports      Wii  2006.0        Sports  Nintendo   \n1     2         Super Mario Bros.      NES  1985.0      Platform  Nintendo   \n2     3            Mario Kart Wii      Wii  2008.0        Racing  Nintendo   \n3     4         Wii Sports Resort      Wii  2009.0        Sports  Nintendo   \n4     5  Pokemon Red/Pokemon Blue       GB  1996.0  Role-Playing  Nintendo   \n\n   NA_Sales  EU_Sales  JP_Sales  Other_Sales  Global_Sales  \n0     41.49     29.02      3.77         8.46         82.74  \n1     29.08      3.58      6.81         0.77         40.24  \n2     15.85     12.88      3.79         3.31         35.82  \n3     15.75     11.01      3.28         2.96         33.00  \n4     11.27      8.89     10.22         1.00         31.37  ",
      "text/html": "<div>\n<style scoped>\n    .dataframe tbody tr th:only-of-type {\n        vertical-align: middle;\n    }\n\n    .dataframe tbody tr th {\n        vertical-align: top;\n    }\n\n    .dataframe thead th {\n        text-align: right;\n    }\n</style>\n<table border=\"1\" class=\"dataframe\">\n  <thead>\n    <tr style=\"text-align: right;\">\n      <th></th>\n      <th>Rank</th>\n      <th>Name</th>\n      <th>Platform</th>\n      <th>Year</th>\n      <th>Genre</th>\n      <th>Publisher</th>\n      <th>NA_Sales</th>\n      <th>EU_Sales</th>\n      <th>JP_Sales</th>\n      <th>Other_Sales</th>\n      <th>Global_Sales</th>\n    </tr>\n  </thead>\n  <tbody>\n    <tr>\n      <th>0</th>\n      <td>1</td>\n      <td>Wii Sports</td>\n      <td>Wii</td>\n      <td>2006.0</td>\n      <td>Sports</td>\n      <td>Nintendo</td>\n      <td>41.49</td>\n      <td>29.02</td>\n      <td>3.77</td>\n      <td>8.46</td>\n      <td>82.74</td>\n    </tr>\n    <tr>\n      <th>1</th>\n      <td>2</td>\n      <td>Super Mario Bros.</td>\n      <td>NES</td>\n      <td>1985.0</td>\n      <td>Platform</td>\n      <td>Nintendo</td>\n      <td>29.08</td>\n      <td>3.58</td>\n      <td>6.81</td>\n      <td>0.77</td>\n      <td>40.24</td>\n    </tr>\n    <tr>\n      <th>2</th>\n      <td>3</td>\n      <td>Mario Kart Wii</td>\n      <td>Wii</td>\n      <td>2008.0</td>\n      <td>Racing</td>\n      <td>Nintendo</td>\n      <td>15.85</td>\n      <td>12.88</td>\n      <td>3.79</td>\n      <td>3.31</td>\n      <td>35.82</td>\n    </tr>\n    <tr>\n      <th>3</th>\n      <td>4</td>\n      <td>Wii Sports Resort</td>\n      <td>Wii</td>\n      <td>2009.0</td>\n      <td>Sports</td>\n      <td>Nintendo</td>\n      <td>15.75</td>\n      <td>11.01</td>\n      <td>3.28</td>\n      <td>2.96</td>\n      <td>33.00</td>\n    </tr>\n    <tr>\n      <th>4</th>\n      <td>5</td>\n      <td>Pokemon Red/Pokemon Blue</td>\n      <td>GB</td>\n      <td>1996.0</td>\n      <td>Role-Playing</td>\n      <td>Nintendo</td>\n      <td>11.27</td>\n      <td>8.89</td>\n      <td>10.22</td>\n      <td>1.00</td>\n      <td>31.37</td>\n    </tr>\n  </tbody>\n</table>\n</div>"
     },
     "metadata": {},
     "output_type": "execute_result",
     "execution_count": 6
    }
   ],
   "source": [
    "# Первые 5 строк датасета\n",
    "data.head()"
   ],
   "metadata": {
    "collapsed": false,
    "pycharm": {
     "name": "#%%\n",
     "is_executing": false
    }
   }
  },
  {
   "cell_type": "code",
   "execution_count": 7,
   "outputs": [
    {
     "name": "stdout",
     "text": [
      "Всего строк: 16598\n"
     ],
     "output_type": "stream"
    }
   ],
   "source": [
    "total_count = data.shape[0]\n",
    "print('Всего строк: {}'.format(total_count))"
   ],
   "metadata": {
    "collapsed": false,
    "pycharm": {
     "name": "#%%\n",
     "is_executing": false
    }
   }
  },
  {
   "cell_type": "code",
   "execution_count": 8,
   "outputs": [
    {
     "data": {
      "text/plain": "((16598, 11), (16598, 9))"
     },
     "metadata": {},
     "output_type": "execute_result",
     "execution_count": 8
    }
   ],
   "source": [
    "# Удаление колонок, содержащих пустые значения\n",
    "data_new_1 = data.dropna(axis=1, how='any')\n",
    "(data.shape, data_new_1.shape)"
   ],
   "metadata": {
    "collapsed": false,
    "pycharm": {
     "name": "#%%\n",
     "is_executing": false
    }
   }
  },
  {
   "cell_type": "code",
   "execution_count": 9,
   "outputs": [
    {
     "data": {
      "text/plain": "((16598, 11), (16291, 11))"
     },
     "metadata": {},
     "output_type": "execute_result",
     "execution_count": 9
    }
   ],
   "source": [
    "# Удаление строк, содержащих пустые значения\n",
    "data_new_2 = data.dropna(axis=0, how='any')\n",
    "(data.shape, data_new_2.shape)\n"
   ],
   "metadata": {
    "collapsed": false,
    "pycharm": {
     "name": "#%%\n",
     "is_executing": false
    }
   }
  },
  {
   "cell_type": "code",
   "execution_count": 10,
   "outputs": [
    {
     "data": {
      "text/plain": "   Rank                      Name Platform    Year         Genre Publisher  \\\n0     1                Wii Sports      Wii  2006.0        Sports  Nintendo   \n1     2         Super Mario Bros.      NES  1985.0      Platform  Nintendo   \n2     3            Mario Kart Wii      Wii  2008.0        Racing  Nintendo   \n3     4         Wii Sports Resort      Wii  2009.0        Sports  Nintendo   \n4     5  Pokemon Red/Pokemon Blue       GB  1996.0  Role-Playing  Nintendo   \n\n   NA_Sales  EU_Sales  JP_Sales  Other_Sales  Global_Sales  \n0     41.49     29.02      3.77         8.46         82.74  \n1     29.08      3.58      6.81         0.77         40.24  \n2     15.85     12.88      3.79         3.31         35.82  \n3     15.75     11.01      3.28         2.96         33.00  \n4     11.27      8.89     10.22         1.00         31.37  ",
      "text/html": "<div>\n<style scoped>\n    .dataframe tbody tr th:only-of-type {\n        vertical-align: middle;\n    }\n\n    .dataframe tbody tr th {\n        vertical-align: top;\n    }\n\n    .dataframe thead th {\n        text-align: right;\n    }\n</style>\n<table border=\"1\" class=\"dataframe\">\n  <thead>\n    <tr style=\"text-align: right;\">\n      <th></th>\n      <th>Rank</th>\n      <th>Name</th>\n      <th>Platform</th>\n      <th>Year</th>\n      <th>Genre</th>\n      <th>Publisher</th>\n      <th>NA_Sales</th>\n      <th>EU_Sales</th>\n      <th>JP_Sales</th>\n      <th>Other_Sales</th>\n      <th>Global_Sales</th>\n    </tr>\n  </thead>\n  <tbody>\n    <tr>\n      <th>0</th>\n      <td>1</td>\n      <td>Wii Sports</td>\n      <td>Wii</td>\n      <td>2006.0</td>\n      <td>Sports</td>\n      <td>Nintendo</td>\n      <td>41.49</td>\n      <td>29.02</td>\n      <td>3.77</td>\n      <td>8.46</td>\n      <td>82.74</td>\n    </tr>\n    <tr>\n      <th>1</th>\n      <td>2</td>\n      <td>Super Mario Bros.</td>\n      <td>NES</td>\n      <td>1985.0</td>\n      <td>Platform</td>\n      <td>Nintendo</td>\n      <td>29.08</td>\n      <td>3.58</td>\n      <td>6.81</td>\n      <td>0.77</td>\n      <td>40.24</td>\n    </tr>\n    <tr>\n      <th>2</th>\n      <td>3</td>\n      <td>Mario Kart Wii</td>\n      <td>Wii</td>\n      <td>2008.0</td>\n      <td>Racing</td>\n      <td>Nintendo</td>\n      <td>15.85</td>\n      <td>12.88</td>\n      <td>3.79</td>\n      <td>3.31</td>\n      <td>35.82</td>\n    </tr>\n    <tr>\n      <th>3</th>\n      <td>4</td>\n      <td>Wii Sports Resort</td>\n      <td>Wii</td>\n      <td>2009.0</td>\n      <td>Sports</td>\n      <td>Nintendo</td>\n      <td>15.75</td>\n      <td>11.01</td>\n      <td>3.28</td>\n      <td>2.96</td>\n      <td>33.00</td>\n    </tr>\n    <tr>\n      <th>4</th>\n      <td>5</td>\n      <td>Pokemon Red/Pokemon Blue</td>\n      <td>GB</td>\n      <td>1996.0</td>\n      <td>Role-Playing</td>\n      <td>Nintendo</td>\n      <td>11.27</td>\n      <td>8.89</td>\n      <td>10.22</td>\n      <td>1.00</td>\n      <td>31.37</td>\n    </tr>\n  </tbody>\n</table>\n</div>"
     },
     "metadata": {},
     "output_type": "execute_result",
     "execution_count": 10
    }
   ],
   "source": [
    "data.head()"
   ],
   "metadata": {
    "collapsed": false,
    "pycharm": {
     "name": "#%%\n",
     "is_executing": false
    }
   }
  },
  {
   "cell_type": "code",
   "execution_count": 11,
   "outputs": [
    {
     "data": {
      "text/plain": "   Rank                      Name Platform    Year         Genre Publisher  \\\n0     1                Wii Sports      Wii  2006.0        Sports  Nintendo   \n1     2         Super Mario Bros.      NES  1985.0      Platform  Nintendo   \n2     3            Mario Kart Wii      Wii  2008.0        Racing  Nintendo   \n3     4         Wii Sports Resort      Wii  2009.0        Sports  Nintendo   \n4     5  Pokemon Red/Pokemon Blue       GB  1996.0  Role-Playing  Nintendo   \n\n   NA_Sales  EU_Sales  JP_Sales  Other_Sales  Global_Sales  \n0     41.49     29.02      3.77         8.46         82.74  \n1     29.08      3.58      6.81         0.77         40.24  \n2     15.85     12.88      3.79         3.31         35.82  \n3     15.75     11.01      3.28         2.96         33.00  \n4     11.27      8.89     10.22         1.00         31.37  ",
      "text/html": "<div>\n<style scoped>\n    .dataframe tbody tr th:only-of-type {\n        vertical-align: middle;\n    }\n\n    .dataframe tbody tr th {\n        vertical-align: top;\n    }\n\n    .dataframe thead th {\n        text-align: right;\n    }\n</style>\n<table border=\"1\" class=\"dataframe\">\n  <thead>\n    <tr style=\"text-align: right;\">\n      <th></th>\n      <th>Rank</th>\n      <th>Name</th>\n      <th>Platform</th>\n      <th>Year</th>\n      <th>Genre</th>\n      <th>Publisher</th>\n      <th>NA_Sales</th>\n      <th>EU_Sales</th>\n      <th>JP_Sales</th>\n      <th>Other_Sales</th>\n      <th>Global_Sales</th>\n    </tr>\n  </thead>\n  <tbody>\n    <tr>\n      <th>0</th>\n      <td>1</td>\n      <td>Wii Sports</td>\n      <td>Wii</td>\n      <td>2006.0</td>\n      <td>Sports</td>\n      <td>Nintendo</td>\n      <td>41.49</td>\n      <td>29.02</td>\n      <td>3.77</td>\n      <td>8.46</td>\n      <td>82.74</td>\n    </tr>\n    <tr>\n      <th>1</th>\n      <td>2</td>\n      <td>Super Mario Bros.</td>\n      <td>NES</td>\n      <td>1985.0</td>\n      <td>Platform</td>\n      <td>Nintendo</td>\n      <td>29.08</td>\n      <td>3.58</td>\n      <td>6.81</td>\n      <td>0.77</td>\n      <td>40.24</td>\n    </tr>\n    <tr>\n      <th>2</th>\n      <td>3</td>\n      <td>Mario Kart Wii</td>\n      <td>Wii</td>\n      <td>2008.0</td>\n      <td>Racing</td>\n      <td>Nintendo</td>\n      <td>15.85</td>\n      <td>12.88</td>\n      <td>3.79</td>\n      <td>3.31</td>\n      <td>35.82</td>\n    </tr>\n    <tr>\n      <th>3</th>\n      <td>4</td>\n      <td>Wii Sports Resort</td>\n      <td>Wii</td>\n      <td>2009.0</td>\n      <td>Sports</td>\n      <td>Nintendo</td>\n      <td>15.75</td>\n      <td>11.01</td>\n      <td>3.28</td>\n      <td>2.96</td>\n      <td>33.00</td>\n    </tr>\n    <tr>\n      <th>4</th>\n      <td>5</td>\n      <td>Pokemon Red/Pokemon Blue</td>\n      <td>GB</td>\n      <td>1996.0</td>\n      <td>Role-Playing</td>\n      <td>Nintendo</td>\n      <td>11.27</td>\n      <td>8.89</td>\n      <td>10.22</td>\n      <td>1.00</td>\n      <td>31.37</td>\n    </tr>\n  </tbody>\n</table>\n</div>"
     },
     "metadata": {},
     "output_type": "execute_result",
     "execution_count": 11
    }
   ],
   "source": [
    "# Заполнение всех пропущенных значений нулями\n",
    "# В данном случае это некорректно, так как нулями заполняются в том числе категориальные колонки\n",
    "data_new_3 = data.fillna(0)\n",
    "data_new_3.head()"
   ],
   "metadata": {
    "collapsed": false,
    "pycharm": {
     "name": "#%%\n",
     "is_executing": false
    }
   }
  },
  {
   "cell_type": "code",
   "execution_count": 12,
   "outputs": [
    {
     "name": "stdout",
     "text": [
      "Колонка Year. Тип данных float64. Количество пустых значений 271, 1.63%.\n"
     ],
     "output_type": "stream"
    }
   ],
   "source": [
    "\n",
    "# Выберем числовые колонки с пропущенными значениями\n",
    "# Цикл по колонкам датасета\n",
    "num_cols = []\n",
    "for col in data.columns:\n",
    "    # Количество пустых значений \n",
    "    temp_null_count = data[data[col].isnull()].shape[0]\n",
    "    dt = str(data[col].dtype)\n",
    "    if temp_null_count>0 and (dt=='float64' or dt=='int64'):\n",
    "        num_cols.append(col)\n",
    "        temp_perc = round((temp_null_count / total_count) * 100.0, 2)\n",
    "        print('Колонка {}. Тип данных {}. Количество пустых значений {}, {}%.'.format(col, dt, temp_null_count, temp_perc))"
   ],
   "metadata": {
    "collapsed": false,
    "pycharm": {
     "name": "#%%\n",
     "is_executing": false
    }
   }
  },
  {
   "cell_type": "code",
   "execution_count": 13,
   "outputs": [
    {
     "data": {
      "text/plain": "         Year\n0      2006.0\n1      1985.0\n2      2008.0\n3      2009.0\n4      1996.0\n...       ...\n16593  2002.0\n16594  2003.0\n16595  2008.0\n16596  2010.0\n16597  2003.0\n\n[16598 rows x 1 columns]",
      "text/html": "<div>\n<style scoped>\n    .dataframe tbody tr th:only-of-type {\n        vertical-align: middle;\n    }\n\n    .dataframe tbody tr th {\n        vertical-align: top;\n    }\n\n    .dataframe thead th {\n        text-align: right;\n    }\n</style>\n<table border=\"1\" class=\"dataframe\">\n  <thead>\n    <tr style=\"text-align: right;\">\n      <th></th>\n      <th>Year</th>\n    </tr>\n  </thead>\n  <tbody>\n    <tr>\n      <th>0</th>\n      <td>2006.0</td>\n    </tr>\n    <tr>\n      <th>1</th>\n      <td>1985.0</td>\n    </tr>\n    <tr>\n      <th>2</th>\n      <td>2008.0</td>\n    </tr>\n    <tr>\n      <th>3</th>\n      <td>2009.0</td>\n    </tr>\n    <tr>\n      <th>4</th>\n      <td>1996.0</td>\n    </tr>\n    <tr>\n      <th>...</th>\n      <td>...</td>\n    </tr>\n    <tr>\n      <th>16593</th>\n      <td>2002.0</td>\n    </tr>\n    <tr>\n      <th>16594</th>\n      <td>2003.0</td>\n    </tr>\n    <tr>\n      <th>16595</th>\n      <td>2008.0</td>\n    </tr>\n    <tr>\n      <th>16596</th>\n      <td>2010.0</td>\n    </tr>\n    <tr>\n      <th>16597</th>\n      <td>2003.0</td>\n    </tr>\n  </tbody>\n</table>\n<p>16598 rows × 1 columns</p>\n</div>"
     },
     "metadata": {},
     "output_type": "execute_result",
     "execution_count": 13
    }
   ],
   "source": [
    "# Фильтр по колонкам с пропущенными значениями\n",
    "data_num = data[num_cols]\n",
    "data_num"
   ],
   "metadata": {
    "collapsed": false,
    "pycharm": {
     "name": "#%%\n",
     "is_executing": false
    }
   }
  },
  {
   "cell_type": "code",
   "execution_count": 14,
   "outputs": [
    {
     "name": "stderr",
     "text": [
      "/usr/local/lib/python3.7/dist-packages/numpy/lib/histograms.py:839: RuntimeWarning: invalid value encountered in greater_equal\n",
      "  keep = (tmp_a >= first_edge)\n",
      "/usr/local/lib/python3.7/dist-packages/numpy/lib/histograms.py:840: RuntimeWarning: invalid value encountered in less_equal\n",
      "  keep &= (tmp_a <= last_edge)\n"
     ],
     "output_type": "stream"
    },
    {
     "data": {
      "text/plain": "<Figure size 432x288 with 1 Axes>",
      "image/png": "[encoded data removed]"
     },
     "metadata": {},
     "output_type": "display_data"
    }
   ],
   "source": [
    "# Гистограмма по признакам\n",
    "for col in data_num:\n",
    "    plt.hist(data[col], 50)\n",
    "    plt.xlabel(col)\n",
    "    plt.show()\n",
    "\n"
   ],
   "metadata": {
    "collapsed": false,
    "pycharm": {
     "name": "#%%\n",
     "is_executing": false
    }
   }
  },
  {
   "cell_type": "code",
   "execution_count": 15,
   "outputs": [
    {
     "data": {
      "text/plain": "        Rank                         Name Platform  Year         Genre  \\\n179      180              Madden NFL 2004      PS2   NaN        Sports   \n377      378             FIFA Soccer 2004      PS2   NaN        Sports   \n431      432   LEGO Batman: The Videogame      Wii   NaN        Action   \n470      471   wwe Smackdown vs. Raw 2006      PS2   NaN      Fighting   \n607      608               Space Invaders     2600   NaN       Shooter   \n...      ...                          ...      ...   ...           ...   \n16307  16310                Freaky Flyers       GC   NaN        Racing   \n16327  16330                    Inversion       PC   NaN       Shooter   \n16366  16369  Hakuouki: Shinsengumi Kitan      PS3   NaN     Adventure   \n16427  16430                 Virtua Quest       GC   NaN  Role-Playing   \n16493  16496                   The Smurfs      3DS   NaN        Action   \n\n                                    Publisher  NA_Sales  EU_Sales  JP_Sales  \\\n179                           Electronic Arts      4.26      0.26      0.01   \n377                           Electronic Arts      0.59      2.36      0.04   \n431    Warner Bros. Interactive Entertainment      1.86      1.02      0.00   \n470                                       NaN      1.57      1.02      0.00   \n607                                     Atari      2.36      0.14      0.00   \n...                                       ...       ...       ...       ...   \n16307                                 Unknown      0.01      0.00      0.00   \n16327                      Namco Bandai Games      0.01      0.00      0.00   \n16366                                 Unknown      0.01      0.00      0.00   \n16427                                 Unknown      0.01      0.00      0.00   \n16493                                 Unknown      0.00      0.01      0.00   \n\n       Other_Sales  Global_Sales  \n179           0.71          5.23  \n377           0.51          3.49  \n431           0.29          3.17  \n470           0.41          3.00  \n607           0.03          2.53  \n...            ...           ...  \n16307         0.00          0.01  \n16327         0.00          0.01  \n16366         0.00          0.01  \n16427         0.00          0.01  \n16493         0.00          0.01  \n\n[271 rows x 11 columns]",
      "text/html": "<div>\n<style scoped>\n    .dataframe tbody tr th:only-of-type {\n        vertical-align: middle;\n    }\n\n    .dataframe tbody tr th {\n        vertical-align: top;\n    }\n\n    .dataframe thead th {\n        text-align: right;\n    }\n</style>\n<table border=\"1\" class=\"dataframe\">\n  <thead>\n    <tr style=\"text-align: right;\">\n      <th></th>\n      <th>Rank</th>\n      <th>Name</th>\n      <th>Platform</th>\n      <th>Year</th>\n      <th>Genre</th>\n      <th>Publisher</th>\n      <th>NA_Sales</th>\n      <th>EU_Sales</th>\n      <th>JP_Sales</th>\n      <th>Other_Sales</th>\n      <th>Global_Sales</th>\n    </tr>\n  </thead>\n  <tbody>\n    <tr>\n      <th>179</th>\n      <td>180</td>\n      <td>Madden NFL 2004</td>\n      <td>PS2</td>\n      <td>NaN</td>\n      <td>Sports</td>\n      <td>Electronic Arts</td>\n      <td>4.26</td>\n      <td>0.26</td>\n      <td>0.01</td>\n      <td>0.71</td>\n      <td>5.23</td>\n    </tr>\n    <tr>\n      <th>377</th>\n      <td>378</td>\n      <td>FIFA Soccer 2004</td>\n      <td>PS2</td>\n      <td>NaN</td>\n      <td>Sports</td>\n      <td>Electronic Arts</td>\n      <td>0.59</td>\n      <td>2.36</td>\n      <td>0.04</td>\n      <td>0.51</td>\n      <td>3.49</td>\n    </tr>\n    <tr>\n      <th>431</th>\n      <td>432</td>\n      <td>LEGO Batman: The Videogame</td>\n      <td>Wii</td>\n      <td>NaN</td>\n      <td>Action</td>\n      <td>Warner Bros. Interactive Entertainment</td>\n      <td>1.86</td>\n      <td>1.02</td>\n      <td>0.00</td>\n      <td>0.29</td>\n      <td>3.17</td>\n    </tr>\n    <tr>\n      <th>470</th>\n      <td>471</td>\n      <td>wwe Smackdown vs. Raw 2006</td>\n      <td>PS2</td>\n      <td>NaN</td>\n      <td>Fighting</td>\n      <td>NaN</td>\n      <td>1.57</td>\n      <td>1.02</td>\n      <td>0.00</td>\n      <td>0.41</td>\n      <td>3.00</td>\n    </tr>\n    <tr>\n      <th>607</th>\n      <td>608</td>\n      <td>Space Invaders</td>\n      <td>2600</td>\n      <td>NaN</td>\n      <td>Shooter</td>\n      <td>Atari</td>\n      <td>2.36</td>\n      <td>0.14</td>\n      <td>0.00</td>\n      <td>0.03</td>\n      <td>2.53</td>\n    </tr>\n    <tr>\n      <th>...</th>\n      <td>...</td>\n      <td>...</td>\n      <td>...</td>\n      <td>...</td>\n      <td>...</td>\n      <td>...</td>\n      <td>...</td>\n      <td>...</td>\n      <td>...</td>\n      <td>...</td>\n      <td>...</td>\n    </tr>\n    <tr>\n      <th>16307</th>\n      <td>16310</td>\n      <td>Freaky Flyers</td>\n      <td>GC</td>\n      <td>NaN</td>\n      <td>Racing</td>\n      <td>Unknown</td>\n      <td>0.01</td>\n      <td>0.00</td>\n      <td>0.00</td>\n      <td>0.00</td>\n      <td>0.01</td>\n    </tr>\n    <tr>\n      <th>16327</th>\n      <td>16330</td>\n      <td>Inversion</td>\n      <td>PC</td>\n      <td>NaN</td>\n      <td>Shooter</td>\n      <td>Namco Bandai Games</td>\n      <td>0.01</td>\n      <td>0.00</td>\n      <td>0.00</td>\n      <td>0.00</td>\n      <td>0.01</td>\n    </tr>\n    <tr>\n      <th>16366</th>\n      <td>16369</td>\n      <td>Hakuouki: Shinsengumi Kitan</td>\n      <td>PS3</td>\n      <td>NaN</td>\n      <td>Adventure</td>\n      <td>Unknown</td>\n      <td>0.01</td>\n      <td>0.00</td>\n      <td>0.00</td>\n      <td>0.00</td>\n      <td>0.01</td>\n    </tr>\n    <tr>\n      <th>16427</th>\n      <td>16430</td>\n      <td>Virtua Quest</td>\n      <td>GC</td>\n      <td>NaN</td>\n      <td>Role-Playing</td>\n      <td>Unknown</td>\n      <td>0.01</td>\n      <td>0.00</td>\n      <td>0.00</td>\n      <td>0.00</td>\n      <td>0.01</td>\n    </tr>\n    <tr>\n      <th>16493</th>\n      <td>16496</td>\n      <td>The Smurfs</td>\n      <td>3DS</td>\n      <td>NaN</td>\n      <td>Action</td>\n      <td>Unknown</td>\n      <td>0.00</td>\n      <td>0.01</td>\n      <td>0.00</td>\n      <td>0.00</td>\n      <td>0.01</td>\n    </tr>\n  </tbody>\n</table>\n<p>271 rows × 11 columns</p>\n</div>"
     },
     "metadata": {},
     "output_type": "execute_result",
     "execution_count": 15
    }
   ],
   "source": [
    "\n",
    "# Фильтр по пустым значениям поля LotFrontage\n",
    "data[data['Year'].isnull()]"
   ],
   "metadata": {
    "collapsed": false,
    "pycharm": {
     "name": "#%%\n",
     "is_executing": false
    }
   }
  },
  {
   "cell_type": "code",
   "execution_count": 18,
   "outputs": [
    {
     "data": {
      "text/plain": "Int64Index([  179,   377,   431,   470,   607,   624,   649,   652,   711,\n              782,\n            ...\n            16191, 16194, 16198, 16229, 16246, 16307, 16327, 16366, 16427,\n            16493],\n           dtype='int64', length=271)"
     },
     "metadata": {},
     "output_type": "execute_result",
     "execution_count": 18
    }
   ],
   "source": [
    "# Запоминаем индексы строк с пустыми значениями\n",
    "flt_index = data[data['Year'].isnull()].index\n",
    "flt_index"
   ],
   "metadata": {
    "collapsed": false,
    "pycharm": {
     "name": "#%%\n",
     "is_executing": false
    }
   }
  },
  {
   "cell_type": "code",
   "execution_count": 20,
   "outputs": [
    {
     "data": {
      "text/plain": "        Rank                         Name Platform  Year         Genre  \\\n179      180              Madden NFL 2004      PS2   NaN        Sports   \n377      378             FIFA Soccer 2004      PS2   NaN        Sports   \n431      432   LEGO Batman: The Videogame      Wii   NaN        Action   \n470      471   wwe Smackdown vs. Raw 2006      PS2   NaN      Fighting   \n607      608               Space Invaders     2600   NaN       Shooter   \n...      ...                          ...      ...   ...           ...   \n16307  16310                Freaky Flyers       GC   NaN        Racing   \n16327  16330                    Inversion       PC   NaN       Shooter   \n16366  16369  Hakuouki: Shinsengumi Kitan      PS3   NaN     Adventure   \n16427  16430                 Virtua Quest       GC   NaN  Role-Playing   \n16493  16496                   The Smurfs      3DS   NaN        Action   \n\n                                    Publisher  NA_Sales  EU_Sales  JP_Sales  \\\n179                           Electronic Arts      4.26      0.26      0.01   \n377                           Electronic Arts      0.59      2.36      0.04   \n431    Warner Bros. Interactive Entertainment      1.86      1.02      0.00   \n470                                       NaN      1.57      1.02      0.00   \n607                                     Atari      2.36      0.14      0.00   \n...                                       ...       ...       ...       ...   \n16307                                 Unknown      0.01      0.00      0.00   \n16327                      Namco Bandai Games      0.01      0.00      0.00   \n16366                                 Unknown      0.01      0.00      0.00   \n16427                                 Unknown      0.01      0.00      0.00   \n16493                                 Unknown      0.00      0.01      0.00   \n\n       Other_Sales  Global_Sales  \n179           0.71          5.23  \n377           0.51          3.49  \n431           0.29          3.17  \n470           0.41          3.00  \n607           0.03          2.53  \n...            ...           ...  \n16307         0.00          0.01  \n16327         0.00          0.01  \n16366         0.00          0.01  \n16427         0.00          0.01  \n16493         0.00          0.01  \n\n[271 rows x 11 columns]",
      "text/html": "<div>\n<style scoped>\n    .dataframe tbody tr th:only-of-type {\n        vertical-align: middle;\n    }\n\n    .dataframe tbody tr th {\n        vertical-align: top;\n    }\n\n    .dataframe thead th {\n        text-align: right;\n    }\n</style>\n<table border=\"1\" class=\"dataframe\">\n  <thead>\n    <tr style=\"text-align: right;\">\n      <th></th>\n      <th>Rank</th>\n      <th>Name</th>\n      <th>Platform</th>\n      <th>Year</th>\n      <th>Genre</th>\n      <th>Publisher</th>\n      <th>NA_Sales</th>\n      <th>EU_Sales</th>\n      <th>JP_Sales</th>\n      <th>Other_Sales</th>\n      <th>Global_Sales</th>\n    </tr>\n  </thead>\n  <tbody>\n    <tr>\n      <th>179</th>\n      <td>180</td>\n      <td>Madden NFL 2004</td>\n      <td>PS2</td>\n      <td>NaN</td>\n      <td>Sports</td>\n      <td>Electronic Arts</td>\n      <td>4.26</td>\n      <td>0.26</td>\n      <td>0.01</td>\n      <td>0.71</td>\n      <td>5.23</td>\n    </tr>\n    <tr>\n      <th>377</th>\n      <td>378</td>\n      <td>FIFA Soccer 2004</td>\n      <td>PS2</td>\n      <td>NaN</td>\n      <td>Sports</td>\n      <td>Electronic Arts</td>\n      <td>0.59</td>\n      <td>2.36</td>\n      <td>0.04</td>\n      <td>0.51</td>\n      <td>3.49</td>\n    </tr>\n    <tr>\n      <th>431</th>\n      <td>432</td>\n      <td>LEGO Batman: The Videogame</td>\n      <td>Wii</td>\n      <td>NaN</td>\n      <td>Action</td>\n      <td>Warner Bros. Interactive Entertainment</td>\n      <td>1.86</td>\n      <td>1.02</td>\n      <td>0.00</td>\n      <td>0.29</td>\n      <td>3.17</td>\n    </tr>\n    <tr>\n      <th>470</th>\n      <td>471</td>\n      <td>wwe Smackdown vs. Raw 2006</td>\n      <td>PS2</td>\n      <td>NaN</td>\n      <td>Fighting</td>\n      <td>NaN</td>\n      <td>1.57</td>\n      <td>1.02</td>\n      <td>0.00</td>\n      <td>0.41</td>\n      <td>3.00</td>\n    </tr>\n    <tr>\n      <th>607</th>\n      <td>608</td>\n      <td>Space Invaders</td>\n      <td>2600</td>\n      <td>NaN</td>\n      <td>Shooter</td>\n      <td>Atari</td>\n      <td>2.36</td>\n      <td>0.14</td>\n      <td>0.00</td>\n      <td>0.03</td>\n      <td>2.53</td>\n    </tr>\n    <tr>\n      <th>...</th>\n      <td>...</td>\n      <td>...</td>\n      <td>...</td>\n      <td>...</td>\n      <td>...</td>\n      <td>...</td>\n      <td>...</td>\n      <td>...</td>\n      <td>...</td>\n      <td>...</td>\n      <td>...</td>\n    </tr>\n    <tr>\n      <th>16307</th>\n      <td>16310</td>\n      <td>Freaky Flyers</td>\n      <td>GC</td>\n      <td>NaN</td>\n      <td>Racing</td>\n      <td>Unknown</td>\n      <td>0.01</td>\n      <td>0.00</td>\n      <td>0.00</td>\n      <td>0.00</td>\n      <td>0.01</td>\n    </tr>\n    <tr>\n      <th>16327</th>\n      <td>16330</td>\n      <td>Inversion</td>\n      <td>PC</td>\n      <td>NaN</td>\n      <td>Shooter</td>\n      <td>Namco Bandai Games</td>\n      <td>0.01</td>\n      <td>0.00</td>\n      <td>0.00</td>\n      <td>0.00</td>\n      <td>0.01</td>\n    </tr>\n    <tr>\n      <th>16366</th>\n      <td>16369</td>\n      <td>Hakuouki: Shinsengumi Kitan</td>\n      <td>PS3</td>\n      <td>NaN</td>\n      <td>Adventure</td>\n      <td>Unknown</td>\n      <td>0.01</td>\n      <td>0.00</td>\n      <td>0.00</td>\n      <td>0.00</td>\n      <td>0.01</td>\n    </tr>\n    <tr>\n      <th>16427</th>\n      <td>16430</td>\n      <td>Virtua Quest</td>\n      <td>GC</td>\n      <td>NaN</td>\n      <td>Role-Playing</td>\n      <td>Unknown</td>\n      <td>0.01</td>\n      <td>0.00</td>\n      <td>0.00</td>\n      <td>0.00</td>\n      <td>0.01</td>\n    </tr>\n    <tr>\n      <th>16493</th>\n      <td>16496</td>\n      <td>The Smurfs</td>\n      <td>3DS</td>\n      <td>NaN</td>\n      <td>Action</td>\n      <td>Unknown</td>\n      <td>0.00</td>\n      <td>0.01</td>\n      <td>0.00</td>\n      <td>0.00</td>\n      <td>0.01</td>\n    </tr>\n  </tbody>\n</table>\n<p>271 rows × 11 columns</p>\n</div>"
     },
     "metadata": {},
     "output_type": "execute_result",
     "execution_count": 20
    }
   ],
   "source": [
    "# Проверяем что выводятся нужные строки\n",
    "data[data.index.isin(flt_index)]"
   ],
   "metadata": {
    "collapsed": false,
    "pycharm": {
     "name": "#%%\n",
     "is_executing": false
    }
   }
  },
  {
   "cell_type": "code",
   "execution_count": 21,
   "outputs": [
    {
     "data": {
      "text/plain": "179     NaN\n377     NaN\n431     NaN\n470     NaN\n607     NaN\n         ..\n16307   NaN\n16327   NaN\n16366   NaN\n16427   NaN\n16493   NaN\nName: Year, Length: 271, dtype: float64"
     },
     "metadata": {},
     "output_type": "execute_result",
     "execution_count": 21
    }
   ],
   "source": [
    "# фильтр по колонке\n",
    "data_num[data_num.index.isin(flt_index)]['Year']"
   ],
   "metadata": {
    "collapsed": false,
    "pycharm": {
     "name": "#%%\n",
     "is_executing": false
    }
   }
  },
  {
   "cell_type": "code",
   "execution_count": 22,
   "outputs": [
    {
     "data": {
      "text/plain": "     Year\n0  2006.0\n1  1985.0\n2  2008.0\n3  2009.0\n4  1996.0",
      "text/html": "<div>\n<style scoped>\n    .dataframe tbody tr th:only-of-type {\n        vertical-align: middle;\n    }\n\n    .dataframe tbody tr th {\n        vertical-align: top;\n    }\n\n    .dataframe thead th {\n        text-align: right;\n    }\n</style>\n<table border=\"1\" class=\"dataframe\">\n  <thead>\n    <tr style=\"text-align: right;\">\n      <th></th>\n      <th>Year</th>\n    </tr>\n  </thead>\n  <tbody>\n    <tr>\n      <th>0</th>\n      <td>2006.0</td>\n    </tr>\n    <tr>\n      <th>1</th>\n      <td>1985.0</td>\n    </tr>\n    <tr>\n      <th>2</th>\n      <td>2008.0</td>\n    </tr>\n    <tr>\n      <th>3</th>\n      <td>2009.0</td>\n    </tr>\n    <tr>\n      <th>4</th>\n      <td>1996.0</td>\n    </tr>\n  </tbody>\n</table>\n</div>"
     },
     "metadata": {},
     "output_type": "execute_result",
     "execution_count": 22
    }
   ],
   "source": [
    "data_num_MasVnrArea = data_num[['Year']]\n",
    "data_num_MasVnrArea.head()"
   ],
   "metadata": {
    "collapsed": false,
    "pycharm": {
     "name": "#%%\n",
     "is_executing": false
    }
   }
  },
  {
   "cell_type": "code",
   "execution_count": 23,
   "outputs": [],
   "source": [
    "from sklearn.impute import SimpleImputer\n",
    "from sklearn.impute import MissingIndicator"
   ],
   "metadata": {
    "collapsed": false,
    "pycharm": {
     "name": "#%%\n",
     "is_executing": false
    }
   }
  },
  {
   "cell_type": "code",
   "execution_count": 24,
   "outputs": [
    {
     "data": {
      "text/plain": "array([[False],\n       [False],\n       [False],\n       ...,\n       [False],\n       [False],\n       [False]])"
     },
     "metadata": {},
     "output_type": "execute_result",
     "execution_count": 24
    }
   ],
   "source": [
    "# Фильтр для проверки заполнения пустых значений\n",
    "indicator = MissingIndicator()\n",
    "mask_missing_values_only = indicator.fit_transform(data_num_MasVnrArea)\n",
    "mask_missing_values_only"
   ],
   "metadata": {
    "collapsed": false,
    "pycharm": {
     "name": "#%%\n",
     "is_executing": false
    }
   }
  },
  {
   "cell_type": "code",
   "execution_count": 25,
   "outputs": [
    {
     "data": {
      "text/plain": "('mean', array([2006.40644331, 2006.40644331, 2006.40644331, 2006.40644331,\n        2006.40644331, 2006.40644331, 2006.40644331, 2006.40644331,\n        2006.40644331, 2006.40644331, 2006.40644331, 2006.40644331,\n        2006.40644331, 2006.40644331, 2006.40644331, 2006.40644331,\n        2006.40644331, 2006.40644331, 2006.40644331, 2006.40644331,\n        2006.40644331, 2006.40644331, 2006.40644331, 2006.40644331,\n        2006.40644331, 2006.40644331, 2006.40644331, 2006.40644331,\n        2006.40644331, 2006.40644331, 2006.40644331, 2006.40644331,\n        2006.40644331, 2006.40644331, 2006.40644331, 2006.40644331,\n        2006.40644331, 2006.40644331, 2006.40644331, 2006.40644331,\n        2006.40644331, 2006.40644331, 2006.40644331, 2006.40644331,\n        2006.40644331, 2006.40644331, 2006.40644331, 2006.40644331,\n        2006.40644331, 2006.40644331, 2006.40644331, 2006.40644331,\n        2006.40644331, 2006.40644331, 2006.40644331, 2006.40644331,\n        2006.40644331, 2006.40644331, 2006.40644331, 2006.40644331,\n        2006.40644331, 2006.40644331, 2006.40644331, 2006.40644331,\n        2006.40644331, 2006.40644331, 2006.40644331, 2006.40644331,\n        2006.40644331, 2006.40644331, 2006.40644331, 2006.40644331,\n        2006.40644331, 2006.40644331, 2006.40644331, 2006.40644331,\n        2006.40644331, 2006.40644331, 2006.40644331, 2006.40644331,\n        2006.40644331, 2006.40644331, 2006.40644331, 2006.40644331,\n        2006.40644331, 2006.40644331, 2006.40644331, 2006.40644331,\n        2006.40644331, 2006.40644331, 2006.40644331, 2006.40644331,\n        2006.40644331, 2006.40644331, 2006.40644331, 2006.40644331,\n        2006.40644331, 2006.40644331, 2006.40644331, 2006.40644331,\n        2006.40644331, 2006.40644331, 2006.40644331, 2006.40644331,\n        2006.40644331, 2006.40644331, 2006.40644331, 2006.40644331,\n        2006.40644331, 2006.40644331, 2006.40644331, 2006.40644331,\n        2006.40644331, 2006.40644331, 2006.40644331, 2006.40644331,\n        2006.40644331, 2006.40644331, 2006.40644331, 2006.40644331,\n        2006.40644331, 2006.40644331, 2006.40644331, 2006.40644331,\n        2006.40644331, 2006.40644331, 2006.40644331, 2006.40644331,\n        2006.40644331, 2006.40644331, 2006.40644331, 2006.40644331,\n        2006.40644331, 2006.40644331, 2006.40644331, 2006.40644331,\n        2006.40644331, 2006.40644331, 2006.40644331, 2006.40644331,\n        2006.40644331, 2006.40644331, 2006.40644331, 2006.40644331,\n        2006.40644331, 2006.40644331, 2006.40644331, 2006.40644331,\n        2006.40644331, 2006.40644331, 2006.40644331, 2006.40644331,\n        2006.40644331, 2006.40644331, 2006.40644331, 2006.40644331,\n        2006.40644331, 2006.40644331, 2006.40644331, 2006.40644331,\n        2006.40644331, 2006.40644331, 2006.40644331, 2006.40644331,\n        2006.40644331, 2006.40644331, 2006.40644331, 2006.40644331,\n        2006.40644331, 2006.40644331, 2006.40644331, 2006.40644331,\n        2006.40644331, 2006.40644331, 2006.40644331, 2006.40644331,\n        2006.40644331, 2006.40644331, 2006.40644331, 2006.40644331,\n        2006.40644331, 2006.40644331, 2006.40644331, 2006.40644331,\n        2006.40644331, 2006.40644331, 2006.40644331, 2006.40644331,\n        2006.40644331, 2006.40644331, 2006.40644331, 2006.40644331,\n        2006.40644331, 2006.40644331, 2006.40644331, 2006.40644331,\n        2006.40644331, 2006.40644331, 2006.40644331, 2006.40644331,\n        2006.40644331, 2006.40644331, 2006.40644331, 2006.40644331,\n        2006.40644331, 2006.40644331, 2006.40644331, 2006.40644331,\n        2006.40644331, 2006.40644331, 2006.40644331, 2006.40644331,\n        2006.40644331, 2006.40644331, 2006.40644331, 2006.40644331,\n        2006.40644331, 2006.40644331, 2006.40644331, 2006.40644331,\n        2006.40644331, 2006.40644331, 2006.40644331, 2006.40644331,\n        2006.40644331, 2006.40644331, 2006.40644331, 2006.40644331,\n        2006.40644331, 2006.40644331, 2006.40644331, 2006.40644331,\n        2006.40644331, 2006.40644331, 2006.40644331, 2006.40644331,\n        2006.40644331, 2006.40644331, 2006.40644331, 2006.40644331,\n        2006.40644331, 2006.40644331, 2006.40644331, 2006.40644331,\n        2006.40644331, 2006.40644331, 2006.40644331, 2006.40644331,\n        2006.40644331, 2006.40644331, 2006.40644331, 2006.40644331,\n        2006.40644331, 2006.40644331, 2006.40644331, 2006.40644331,\n        2006.40644331, 2006.40644331, 2006.40644331, 2006.40644331,\n        2006.40644331, 2006.40644331, 2006.40644331, 2006.40644331,\n        2006.40644331, 2006.40644331, 2006.40644331, 2006.40644331,\n        2006.40644331, 2006.40644331, 2006.40644331]))"
     },
     "metadata": {},
     "output_type": "execute_result",
     "execution_count": 25
    }
   ],
   "source": [
    "strategies=['mean', 'median','most_frequent']\n",
    "def test_num_impute(strategy_param):\n",
    "    imp_num = SimpleImputer(strategy=strategy_param)\n",
    "    data_num_imp = imp_num.fit_transform(data_num_MasVnrArea)\n",
    "    return data_num_imp[mask_missing_values_only]\n",
    "strategies[0], test_num_impute(strategies[0])"
   ],
   "metadata": {
    "collapsed": false,
    "pycharm": {
     "name": "#%%\n",
     "is_executing": false
    }
   }
  },
  {
   "cell_type": "code",
   "execution_count": 26,
   "outputs": [
    {
     "data": {
      "text/plain": "('median',\n array([2007., 2007., 2007., 2007., 2007., 2007., 2007., 2007., 2007.,\n        2007., 2007., 2007., 2007., 2007., 2007., 2007., 2007., 2007.,\n        2007., 2007., 2007., 2007., 2007., 2007., 2007., 2007., 2007.,\n        2007., 2007., 2007., 2007., 2007., 2007., 2007., 2007., 2007.,\n        2007., 2007., 2007., 2007., 2007., 2007., 2007., 2007., 2007.,\n        2007., 2007., 2007., 2007., 2007., 2007., 2007., 2007., 2007.,\n        2007., 2007., 2007., 2007., 2007., 2007., 2007., 2007., 2007.,\n        2007., 2007., 2007., 2007., 2007., 2007., 2007., 2007., 2007.,\n        2007., 2007., 2007., 2007., 2007., 2007., 2007., 2007., 2007.,\n        2007., 2007., 2007., 2007., 2007., 2007., 2007., 2007., 2007.,\n        2007., 2007., 2007., 2007., 2007., 2007., 2007., 2007., 2007.,\n        2007., 2007., 2007., 2007., 2007., 2007., 2007., 2007., 2007.,\n        2007., 2007., 2007., 2007., 2007., 2007., 2007., 2007., 2007.,\n        2007., 2007., 2007., 2007., 2007., 2007., 2007., 2007., 2007.,\n        2007., 2007., 2007., 2007., 2007., 2007., 2007., 2007., 2007.,\n        2007., 2007., 2007., 2007., 2007., 2007., 2007., 2007., 2007.,\n        2007., 2007., 2007., 2007., 2007., 2007., 2007., 2007., 2007.,\n        2007., 2007., 2007., 2007., 2007., 2007., 2007., 2007., 2007.,\n        2007., 2007., 2007., 2007., 2007., 2007., 2007., 2007., 2007.,\n        2007., 2007., 2007., 2007., 2007., 2007., 2007., 2007., 2007.,\n        2007., 2007., 2007., 2007., 2007., 2007., 2007., 2007., 2007.,\n        2007., 2007., 2007., 2007., 2007., 2007., 2007., 2007., 2007.,\n        2007., 2007., 2007., 2007., 2007., 2007., 2007., 2007., 2007.,\n        2007., 2007., 2007., 2007., 2007., 2007., 2007., 2007., 2007.,\n        2007., 2007., 2007., 2007., 2007., 2007., 2007., 2007., 2007.,\n        2007., 2007., 2007., 2007., 2007., 2007., 2007., 2007., 2007.,\n        2007., 2007., 2007., 2007., 2007., 2007., 2007., 2007., 2007.,\n        2007., 2007., 2007., 2007., 2007., 2007., 2007., 2007., 2007.,\n        2007., 2007., 2007., 2007., 2007., 2007., 2007., 2007., 2007.,\n        2007., 2007., 2007., 2007., 2007., 2007., 2007., 2007., 2007.,\n        2007.]))"
     },
     "metadata": {},
     "output_type": "execute_result",
     "execution_count": 26
    }
   ],
   "source": [
    "strategies[1], test_num_impute(strategies[1])"
   ],
   "metadata": {
    "collapsed": false,
    "pycharm": {
     "name": "#%%\n",
     "is_executing": false
    }
   }
  },
  {
   "cell_type": "code",
   "execution_count": 27,
   "outputs": [
    {
     "data": {
      "text/plain": "('most_frequent',\n array([2009., 2009., 2009., 2009., 2009., 2009., 2009., 2009., 2009.,\n        2009., 2009., 2009., 2009., 2009., 2009., 2009., 2009., 2009.,\n        2009., 2009., 2009., 2009., 2009., 2009., 2009., 2009., 2009.,\n        2009., 2009., 2009., 2009., 2009., 2009., 2009., 2009., 2009.,\n        2009., 2009., 2009., 2009., 2009., 2009., 2009., 2009., 2009.,\n        2009., 2009., 2009., 2009., 2009., 2009., 2009., 2009., 2009.,\n        2009., 2009., 2009., 2009., 2009., 2009., 2009., 2009., 2009.,\n        2009., 2009., 2009., 2009., 2009., 2009., 2009., 2009., 2009.,\n        2009., 2009., 2009., 2009., 2009., 2009., 2009., 2009., 2009.,\n        2009., 2009., 2009., 2009., 2009., 2009., 2009., 2009., 2009.,\n        2009., 2009., 2009., 2009., 2009., 2009., 2009., 2009., 2009.,\n        2009., 2009., 2009., 2009., 2009., 2009., 2009., 2009., 2009.,\n        2009., 2009., 2009., 2009., 2009., 2009., 2009., 2009., 2009.,\n        2009., 2009., 2009., 2009., 2009., 2009., 2009., 2009., 2009.,\n        2009., 2009., 2009., 2009., 2009., 2009., 2009., 2009., 2009.,\n        2009., 2009., 2009., 2009., 2009., 2009., 2009., 2009., 2009.,\n        2009., 2009., 2009., 2009., 2009., 2009., 2009., 2009., 2009.,\n        2009., 2009., 2009., 2009., 2009., 2009., 2009., 2009., 2009.,\n        2009., 2009., 2009., 2009., 2009., 2009., 2009., 2009., 2009.,\n        2009., 2009., 2009., 2009., 2009., 2009., 2009., 2009., 2009.,\n        2009., 2009., 2009., 2009., 2009., 2009., 2009., 2009., 2009.,\n        2009., 2009., 2009., 2009., 2009., 2009., 2009., 2009., 2009.,\n        2009., 2009., 2009., 2009., 2009., 2009., 2009., 2009., 2009.,\n        2009., 2009., 2009., 2009., 2009., 2009., 2009., 2009., 2009.,\n        2009., 2009., 2009., 2009., 2009., 2009., 2009., 2009., 2009.,\n        2009., 2009., 2009., 2009., 2009., 2009., 2009., 2009., 2009.,\n        2009., 2009., 2009., 2009., 2009., 2009., 2009., 2009., 2009.,\n        2009., 2009., 2009., 2009., 2009., 2009., 2009., 2009., 2009.,\n        2009., 2009., 2009., 2009., 2009., 2009., 2009., 2009., 2009.,\n        2009., 2009., 2009., 2009., 2009., 2009., 2009., 2009., 2009.,\n        2009.]))"
     },
     "metadata": {},
     "output_type": "execute_result",
     "execution_count": 27
    }
   ],
   "source": [
    "strategies[2], test_num_impute(strategies[2])"
   ],
   "metadata": {
    "collapsed": false,
    "pycharm": {
     "name": "#%%\n",
     "is_executing": false
    }
   }
  },
  {
   "cell_type": "code",
   "execution_count": 28,
   "outputs": [
    {
     "data": {
      "text/plain": "               Year\ncount  16327.000000\nmean    2006.406443\nstd        5.828981\nmin     1980.000000\n25%     2003.000000\n50%     2007.000000\n75%     2010.000000\nmax     2020.000000",
      "text/html": "<div>\n<style scoped>\n    .dataframe tbody tr th:only-of-type {\n        vertical-align: middle;\n    }\n\n    .dataframe tbody tr th {\n        vertical-align: top;\n    }\n\n    .dataframe thead th {\n        text-align: right;\n    }\n</style>\n<table border=\"1\" class=\"dataframe\">\n  <thead>\n    <tr style=\"text-align: right;\">\n      <th></th>\n      <th>Year</th>\n    </tr>\n  </thead>\n  <tbody>\n    <tr>\n      <th>count</th>\n      <td>16327.000000</td>\n    </tr>\n    <tr>\n      <th>mean</th>\n      <td>2006.406443</td>\n    </tr>\n    <tr>\n      <th>std</th>\n      <td>5.828981</td>\n    </tr>\n    <tr>\n      <th>min</th>\n      <td>1980.000000</td>\n    </tr>\n    <tr>\n      <th>25%</th>\n      <td>2003.000000</td>\n    </tr>\n    <tr>\n      <th>50%</th>\n      <td>2007.000000</td>\n    </tr>\n    <tr>\n      <th>75%</th>\n      <td>2010.000000</td>\n    </tr>\n    <tr>\n      <th>max</th>\n      <td>2020.000000</td>\n    </tr>\n  </tbody>\n</table>\n</div>"
     },
     "metadata": {},
     "output_type": "execute_result",
     "execution_count": 28
    }
   ],
   "source": [
    "# Более сложная функция, которая позволяет задавать колонку и вид импьютации\n",
    "def test_num_impute_col(dataset, column, strategy_param):\n",
    "    temp_data = dataset[[column]]\n",
    "    \n",
    "    indicator = MissingIndicator()\n",
    "    mask_missing_values_only = indicator.fit_transform(temp_data)\n",
    "    \n",
    "    imp_num = SimpleImputer(strategy=strategy_param)\n",
    "    data_num_imp = imp_num.fit_transform(temp_data)\n",
    "    \n",
    "    filled_data = data_num_imp[mask_missing_values_only]\n",
    "    \n",
    "    return column, strategy_param, filled_data.size, filled_data[0], filled_data[filled_data.size-1]\n",
    "\n",
    "data[['Year']].describe()"
   ],
   "metadata": {
    "collapsed": false,
    "pycharm": {
     "name": "#%%\n",
     "is_executing": false
    }
   }
  },
  {
   "cell_type": "code",
   "execution_count": 29,
   "outputs": [
    {
     "data": {
      "text/plain": "('Year', 'mean', 271, 2006.4064433147546, 2006.4064433147546)"
     },
     "metadata": {},
     "output_type": "execute_result",
     "execution_count": 29
    }
   ],
   "source": [
    "test_num_impute_col(data, 'Year', strategies[0])"
   ],
   "metadata": {
    "collapsed": false,
    "pycharm": {
     "name": "#%%\n",
     "is_executing": false
    }
   }
  },
  {
   "cell_type": "code",
   "execution_count": 31,
   "outputs": [
    {
     "data": {
      "text/plain": "('Year', 'median', 271, 2007.0, 2007.0)"
     },
     "metadata": {},
     "output_type": "execute_result",
     "execution_count": 31
    }
   ],
   "source": [
    "test_num_impute_col(data, 'Year', strategies[1])"
   ],
   "metadata": {
    "collapsed": false,
    "pycharm": {
     "name": "#%%\n",
     "is_executing": false
    }
   }
  },
  {
   "cell_type": "code",
   "execution_count": 32,
   "outputs": [
    {
     "data": {
      "text/plain": "('Year', 'most_frequent', 271, 2009.0, 2009.0)"
     },
     "metadata": {},
     "output_type": "execute_result",
     "execution_count": 32
    }
   ],
   "source": [
    "test_num_impute_col(data, 'Year', strategies[2])"
   ],
   "metadata": {
    "collapsed": false,
    "pycharm": {
     "name": "#%%\n",
     "is_executing": false
    }
   }
  },
  {
   "cell_type": "code",
   "execution_count": 33,
   "outputs": [
    {
     "name": "stdout",
     "text": [
      "Колонка Publisher. Тип данных object. Количество пустых значений 58, 0.35%.\n"
     ],
     "output_type": "stream"
    }
   ],
   "source": [
    "# Выберем категориальные колонки с пропущенными значениями\n",
    "# Цикл по колонкам датасета\n",
    "cat_cols = []\n",
    "for col in data.columns:\n",
    "    # Количество пустых значений \n",
    "    temp_null_count = data[data[col].isnull()].shape[0]\n",
    "    dt = str(data[col].dtype)\n",
    "    if temp_null_count>0 and (dt=='object'):\n",
    "        cat_cols.append(col)\n",
    "        temp_perc = round((temp_null_count / total_count) * 100.0, 2)\n",
    "        print('Колонка {}. Тип данных {}. Количество пустых значений {}, {}%.'.format(col, dt, temp_null_count, temp_perc))"
   ],
   "metadata": {
    "collapsed": false,
    "pycharm": {
     "name": "#%%\n",
     "is_executing": false
    }
   }
  },
  {
   "cell_type": "code",
   "execution_count": 34,
   "outputs": [
    {
     "data": {
      "text/plain": "  Publisher\n0  Nintendo\n1  Nintendo\n2  Nintendo\n3  Nintendo\n4  Nintendo",
      "text/html": "<div>\n<style scoped>\n    .dataframe tbody tr th:only-of-type {\n        vertical-align: middle;\n    }\n\n    .dataframe tbody tr th {\n        vertical-align: top;\n    }\n\n    .dataframe thead th {\n        text-align: right;\n    }\n</style>\n<table border=\"1\" class=\"dataframe\">\n  <thead>\n    <tr style=\"text-align: right;\">\n      <th></th>\n      <th>Publisher</th>\n    </tr>\n  </thead>\n  <tbody>\n    <tr>\n      <th>0</th>\n      <td>Nintendo</td>\n    </tr>\n    <tr>\n      <th>1</th>\n      <td>Nintendo</td>\n    </tr>\n    <tr>\n      <th>2</th>\n      <td>Nintendo</td>\n    </tr>\n    <tr>\n      <th>3</th>\n      <td>Nintendo</td>\n    </tr>\n    <tr>\n      <th>4</th>\n      <td>Nintendo</td>\n    </tr>\n  </tbody>\n</table>\n</div>"
     },
     "metadata": {},
     "output_type": "execute_result",
     "execution_count": 34
    }
   ],
   "source": [
    "cat_temp_data = data[['Publisher']]\n",
    "cat_temp_data.head()"
   ],
   "metadata": {
    "collapsed": false,
    "pycharm": {
     "name": "#%%\n",
     "is_executing": false
    }
   }
  },
  {
   "cell_type": "code",
   "execution_count": 35,
   "outputs": [
    {
     "data": {
      "text/plain": "array(['Nintendo', 'Microsoft Game Studios', 'Take-Two Interactive',\n       'Sony Computer Entertainment', 'Activision', 'Ubisoft',\n       'Bethesda Softworks', 'Electronic Arts', 'Sega', 'SquareSoft',\n       'Atari', '505 Games', 'Capcom', 'GT Interactive',\n       'Konami Digital Entertainment',\n       'Sony Computer Entertainment Europe', 'Square Enix', 'LucasArts',\n       'Virgin Interactive', 'Warner Bros. Interactive Entertainment',\n       'Universal Interactive', 'Eidos Interactive', 'RedOctane',\n       'Vivendi Games', 'Enix Corporation', 'Namco Bandai Games',\n       'Palcom', 'Hasbro Interactive', 'THQ', 'Fox Interactive',\n       'Acclaim Entertainment', 'MTV Games', 'Disney Interactive Studios',\n       nan, 'Majesco Entertainment', 'Codemasters', 'Red Orb', 'Level 5',\n       'Arena Entertainment', 'Midway Games', 'JVC', 'Deep Silver',\n       '989 Studios', 'NCSoft', 'UEP Systems', 'Parker Bros.', 'Maxis',\n       'Imagic', 'Tecmo Koei', 'Valve Software', 'ASCII Entertainment',\n       'Mindscape', 'Infogrames', 'Unknown', 'Square', 'Valve',\n       'Activision Value', 'Banpresto', 'D3Publisher',\n       'Oxygen Interactive', 'Red Storm Entertainment', 'Video System',\n       'Hello Games', 'Global Star', 'Gotham Games', 'Westwood Studios',\n       'GungHo', 'Crave Entertainment', 'Hudson Soft', 'Coleco',\n       'Rising Star Games', 'Atlus', 'TDK Mediactive', 'ASC Games',\n       'Zoo Games', 'Accolade', 'Sony Online Entertainment', '3DO', 'RTL',\n       'Natsume', 'Focus Home Interactive', 'Alchemist',\n       'Black Label Games', 'SouthPeak Games', 'Mastertronic', 'Ocean',\n       'Zoo Digital Publishing', 'Psygnosis', 'City Interactive',\n       'Empire Interactive', 'Success', 'Compile', 'Russel', 'Taito',\n       'Agetec', 'GSP', 'Microprose', 'Play It', 'Slightly Mad Studios',\n       'Tomy Corporation', 'Sammy Corporation', 'Koch Media',\n       'Game Factory', 'Titus', 'Marvelous Entertainment', 'Genki',\n       'Mojang', 'Pinnacle', 'CTO SpA', 'TalonSoft', 'Crystal Dynamics',\n       'SCi', 'Quelle', 'mixi, Inc', 'Rage Software', 'Ubisoft Annecy',\n       'Scholastic Inc.', 'Interplay', 'Mystique', 'ChunSoft',\n       'Square EA', '20th Century Fox Video Games', 'Avanquest Software',\n       'Hudson Entertainment', 'Nordic Games', 'Men-A-Vision', 'Nobilis',\n       'Big Ben Interactive', 'Touchstone', 'Spike', 'Jester Interactive',\n       'Nippon Ichi Software', 'LEGO Media', 'Quest',\n       'Illusion Softworks', 'Tigervision', 'Funbox Media',\n       'Rocket Company', 'Metro 3D', 'Mattel Interactive', 'IE Institute',\n       'Rondomedia', 'Sony Computer Entertainment America',\n       'Universal Gamex', 'Ghostlight', 'Wizard Video Games',\n       'BMG Interactive Entertainment', 'PQube', 'Trion Worlds', 'Laguna',\n       'Ignition Entertainment', 'Takara', 'Kadokawa Shoten', 'Destineer',\n       'Enterbrain', 'Xseed Games', 'Imagineer',\n       'System 3 Arcade Software', 'CPG Products', 'Aruze Corp',\n       'Gamebridge', 'Midas Interactive Entertainment', 'Jaleco',\n       'Answer Software', 'XS Games', 'Activision Blizzard',\n       'Pack In Soft', 'Rebellion', 'Xplosiv', 'Ultravision',\n       'GameMill Entertainment', 'Wanadoo', 'NovaLogic', 'Telltale Games',\n       'Epoch', 'BAM! Entertainment', 'Knowledge Adventure', 'Mastiff',\n       'Tetris Online', 'Harmonix Music Systems', 'ESP', 'TYO',\n       'Telegames', 'Mud Duck Productions', 'Screenlife', 'Pioneer LDC',\n       'Magical Company', 'Mentor Interactive', 'Kemco',\n       'Human Entertainment', 'Avanquest', 'Data Age',\n       'Electronic Arts Victor', 'Black Bean Games', 'Jack of All Games',\n       '989 Sports', 'Takara Tomy', 'Media Rings', 'Elf', 'Kalypso Media',\n       'Starfish', 'Zushi Games', 'Jorudan', 'Destination Software, Inc',\n       'New', 'Brash Entertainment', 'ITT Family Games', 'PopCap Games',\n       'Home Entertainment Suppliers', 'Ackkstudios', 'Starpath Corp.',\n       'P2 Games', 'BPS', 'Gathering of Developers', 'NewKidCo',\n       'Storm City Games', 'CokeM Interactive', 'CBS Electronics',\n       'Magix', 'Marvelous Interactive', 'Nihon Falcom Corporation',\n       'Wargaming.net', 'Angel Studios', 'Arc System Works', 'Playmates',\n       'SNK Playmore', 'Hamster Corporation', 'From Software',\n       'Nippon Columbia', 'Nichibutsu', 'Little Orbit',\n       'Conspiracy Entertainment', 'DTP Entertainment', 'Hect',\n       'Mumbo Jumbo', 'Pacific Century Cyber Works', 'Indie Games',\n       'Liquid Games', 'NEC', 'Axela', 'ArtDink', 'Sunsoft', 'Gust',\n       'SNK', 'NEC Interchannel', 'FuRyu', 'Xing Entertainment',\n       'ValuSoft', 'Victor Interactive', 'Detn8 Games',\n       'American Softworks', 'Nordcurrent', 'Bomb', 'Falcom Corporation',\n       'AQ Interactive', 'CCP', 'Milestone S.r.l.', 'Sears',\n       'JoWood Productions', 'Seta Corporation', 'On Demand', 'NCS',\n       'Aspyr', 'Gremlin Interactive Ltd', 'Agatsuma Entertainment',\n       'Compile Heart', 'Culture Brain', 'Mad Catz', 'Shogakukan',\n       'Merscom LLC', 'Rebellion Developments', 'Nippon Telenet',\n       'TDK Core', 'bitComposer Games', 'Foreign Media Games', 'Astragon',\n       'SSI', 'Kadokawa Games', 'Idea Factory',\n       'Performance Designed Products', 'Asylum Entertainment',\n       'Core Design Ltd.', 'PlayV', 'UFO Interactive',\n       'Idea Factory International', 'Playlogic Game Factory',\n       'Essential Games', 'Adeline Software', 'Funcom',\n       'Panther Software', 'Blast! Entertainment Ltd', 'Game Life',\n       'DSI Games', 'Avalon Interactive', 'Popcorn Arcade',\n       'Neko Entertainment', 'Vir2L Studios', 'Aques', 'Syscom',\n       'White Park Bay Software', 'System 3', 'Vatical Entertainment',\n       'Daedalic', 'EA Games', 'Media Factory', 'Vic Tokai',\n       'The Adventure Company', 'Game Arts', 'Broccoli', 'Acquire',\n       'General Entertainment', 'Excalibur Publishing', 'Imadio',\n       'Swing! Entertainment', 'Sony Music Entertainment', 'Aqua Plus',\n       'Paradox Interactive', 'Hip Interactive',\n       'DreamCatcher Interactive', 'Tripwire Interactive', 'Sting',\n       'Yacht Club Games', 'SCS Software', 'Bigben Interactive',\n       'Havas Interactive', 'Slitherine Software', 'Graffiti', 'Funsta',\n       'Telstar', 'U.S. Gold', 'DreamWorks Interactive',\n       'Data Design Interactive', 'MTO', 'DHM Interactive', 'FunSoft',\n       'SPS', 'Bohemia Interactive', 'Reef Entertainment',\n       'Tru Blu Entertainment', 'Moss', 'T&E Soft', 'O-Games',\n       'Aksys Games', 'NDA Productions', 'Data East',\n       'Time Warner Interactive', 'Gainax Network Systems', 'Daito',\n       'O3 Entertainment', 'Gameloft', 'Xicat Interactive',\n       'Simon & Schuster Interactive', 'Valcon Games', 'PopTop Software',\n       'TOHO', 'HMH Interactive', '5pb', 'Cave',\n       'CDV Software Entertainment', 'Microids', 'PM Studios', 'Paon',\n       'Micro Cabin', 'GameTek', 'Benesse', 'Type-Moon',\n       'Enjoy Gaming ltd.', 'Asmik Corp', 'Interplay Productions',\n       'Asmik Ace Entertainment', 'inXile Entertainment', 'Image Epoch',\n       'Phantom EFX', 'Evolved Games', 'responDESIGN',\n       'Culture Publishers', 'Griffin International', 'Hackberry',\n       'Hearty Robin', 'Nippon Amuse', 'Origin Systems', 'Seventh Chord',\n       'Mitsui', 'Milestone', 'Abylight', 'Flight-Plan', 'Glams', 'Locus',\n       'Warp', 'Daedalic Entertainment', 'Alternative Software',\n       'Myelin Media', 'Mercury Games', 'Irem Software Engineering',\n       'Sunrise Interactive', 'Elite', 'Evolution Games', 'Tivola',\n       'Global A Entertainment', 'Edia', 'Athena', 'Aria', 'Gamecock',\n       'Tommo', 'Altron', 'Happinet', 'iWin', 'Media Works', 'Fortyfive',\n       'Revolution Software', 'Imax', 'Crimson Cow', '10TACLE Studios',\n       'Groove Games', 'Pack-In-Video', 'Insomniac Games',\n       'Ascaron Entertainment GmbH', 'Asgard', 'Ecole', 'Yumedia',\n       'Phenomedia', 'HAL Laboratory', 'Grand Prix Games', 'DigiCube',\n       'Creative Core', 'Kaga Create', 'WayForward Technologies',\n       'LSP Games', 'ASCII Media Works', 'Coconuts Japan', 'Arika',\n       'Ertain', 'Marvel Entertainment', 'Prototype',\n       'TopWare Interactive', 'Phantagram', '1C Company',\n       'The Learning Company', 'TechnoSoft', 'Vap', 'Misawa', 'Tradewest',\n       'Team17 Software', 'Yeti', 'Pow', 'Navarre Corp', 'MediaQuest',\n       'Max Five', 'Comfort', 'Monte Christo Multimedia', 'Pony Canyon',\n       'Riverhillsoft', 'Summitsoft', 'Milestone S.r.l', 'Playmore',\n       'MLB.com', 'Kool Kizz', 'Flashpoint Games', '49Games',\n       'Legacy Interactive', 'Alawar Entertainment', 'CyberFront',\n       'Cloud Imperium Games Corporation', 'Societa',\n       'Virtual Play Games', 'Interchannel', 'Sonnet', 'Experience Inc.',\n       'Zenrin', 'Iceberg Interactive', 'Ivolgamus', '2D Boy',\n       'MC2 Entertainment', 'Kando Games', 'Just Flight', 'Office Create',\n       'Mamba Games', 'Fields', 'Princess Soft', 'Maximum Family Games',\n       'Berkeley', 'Fuji', 'Dusenberry Martin Racing', 'imageepoch Inc.',\n       'Big Fish Games', 'Her Interactive', 'Kamui', 'ASK',\n       'Headup Games', 'KSS', 'Cygames', 'KID', 'Quinrose', 'Sunflowers',\n       'dramatic create', 'TGL', 'Encore', 'Extreme Entertainment Group',\n       'Intergrow', 'G.Rev', 'Sweets', 'Kokopeli Digital Studios',\n       'Number None', 'Nexon', 'id Software', 'BushiRoad', 'Tryfirst',\n       'Strategy First', '7G//AMES', 'GN Software', \"Yuke's\",\n       'Easy Interactive', 'Licensed 4U', 'FuRyu Corporation',\n       'Lexicon Entertainment', 'Paon Corporation', 'Kids Station', 'GOA',\n       'Graphsim Entertainment', 'King Records', 'Introversion Software',\n       'Minato Station', 'Devolver Digital', 'Blue Byte', 'Gaga',\n       'Yamasa Entertainment', 'Plenty', 'Views', 'fonfun', 'NetRevo',\n       'Codemasters Online', 'Quintet', 'Phoenix Games', 'Dorart',\n       'Marvelous Games', 'Focus Multimedia', 'Imageworks',\n       'Karin Entertainment', 'Aerosoft', 'Technos Japan Corporation',\n       'Gakken', 'Mirai Shounen', 'Datam Polystar', 'Saurus', 'HuneX',\n       'Revolution (Japan)', 'Giza10', 'Visco', 'Alvion', 'Mycom', 'Giga',\n       'Warashi', 'System Soft', 'Sold Out', 'Lighthouse Interactive',\n       'Masque Publishing', 'RED Entertainment', 'Michaelsoft',\n       'Media Entertainment', 'New World Computing', 'Genterprise',\n       'Interworks Unlimited, Inc.', 'Boost On', 'Stainless Games',\n       'EON Digital Entertainment', 'Epic Games', 'Naxat Soft',\n       'Ascaron Entertainment', 'Piacci', 'Nitroplus',\n       'Paradox Development', 'Otomate', 'Ongakukan', 'Commseed',\n       'Inti Creates', 'Takuyo', 'Interchannel-Holon', 'Rain Games',\n       'UIG Entertainment'], dtype=object)"
     },
     "metadata": {},
     "output_type": "execute_result",
     "execution_count": 35
    }
   ],
   "source": [
    "cat_temp_data['Publisher'].unique()"
   ],
   "metadata": {
    "collapsed": false,
    "pycharm": {
     "name": "#%%\n",
     "is_executing": false
    }
   }
  },
  {
   "cell_type": "code",
   "execution_count": 36,
   "outputs": [
    {
     "data": {
      "text/plain": "(58, 1)"
     },
     "metadata": {},
     "output_type": "execute_result",
     "execution_count": 36
    }
   ],
   "source": [
    "cat_temp_data[cat_temp_data['Publisher'].isnull()].shape"
   ],
   "metadata": {
    "collapsed": false,
    "pycharm": {
     "name": "#%%\n",
     "is_executing": false
    }
   }
  },
  {
   "cell_type": "code",
   "execution_count": 37,
   "outputs": [
    {
     "data": {
      "text/plain": "array([['Nintendo'],\n       ['Nintendo'],\n       ['Nintendo'],\n       ...,\n       ['Activision'],\n       ['7G//AMES'],\n       ['Wanadoo']], dtype=object)"
     },
     "metadata": {},
     "output_type": "execute_result",
     "execution_count": 37
    }
   ],
   "source": [
    "# Импьютация наиболее частыми значениями\n",
    "imp2 = SimpleImputer(missing_values=np.nan, strategy='most_frequent')\n",
    "data_imp2 = imp2.fit_transform(cat_temp_data)\n",
    "data_imp2"
   ],
   "metadata": {
    "collapsed": false,
    "pycharm": {
     "name": "#%%\n",
     "is_executing": false
    }
   }
  },
  {
   "cell_type": "code",
   "execution_count": 38,
   "outputs": [
    {
     "data": {
      "text/plain": "array(['10TACLE Studios', '1C Company', '20th Century Fox Video Games',\n       '2D Boy', '3DO', '49Games', '505 Games', '5pb', '7G//AMES',\n       '989 Sports', '989 Studios', 'AQ Interactive', 'ASC Games',\n       'ASCII Entertainment', 'ASCII Media Works', 'ASK', 'Abylight',\n       'Acclaim Entertainment', 'Accolade', 'Ackkstudios', 'Acquire',\n       'Activision', 'Activision Blizzard', 'Activision Value',\n       'Adeline Software', 'Aerosoft', 'Agatsuma Entertainment', 'Agetec',\n       'Aksys Games', 'Alawar Entertainment', 'Alchemist',\n       'Alternative Software', 'Altron', 'Alvion', 'American Softworks',\n       'Angel Studios', 'Answer Software', 'Aqua Plus', 'Aques',\n       'Arc System Works', 'Arena Entertainment', 'Aria', 'Arika',\n       'ArtDink', 'Aruze Corp', 'Ascaron Entertainment',\n       'Ascaron Entertainment GmbH', 'Asgard', 'Asmik Ace Entertainment',\n       'Asmik Corp', 'Aspyr', 'Astragon', 'Asylum Entertainment', 'Atari',\n       'Athena', 'Atlus', 'Avalon Interactive', 'Avanquest',\n       'Avanquest Software', 'Axela', 'BAM! Entertainment',\n       'BMG Interactive Entertainment', 'BPS', 'Banpresto', 'Benesse',\n       'Berkeley', 'Bethesda Softworks', 'Big Ben Interactive',\n       'Big Fish Games', 'Bigben Interactive', 'Black Bean Games',\n       'Black Label Games', 'Blast! Entertainment Ltd', 'Blue Byte',\n       'Bohemia Interactive', 'Bomb', 'Boost On', 'Brash Entertainment',\n       'Broccoli', 'BushiRoad', 'CBS Electronics', 'CCP',\n       'CDV Software Entertainment', 'CPG Products', 'CTO SpA', 'Capcom',\n       'Cave', 'ChunSoft', 'City Interactive',\n       'Cloud Imperium Games Corporation', 'Coconuts Japan',\n       'Codemasters', 'Codemasters Online', 'CokeM Interactive', 'Coleco',\n       'Comfort', 'Commseed', 'Compile', 'Compile Heart',\n       'Conspiracy Entertainment', 'Core Design Ltd.',\n       'Crave Entertainment', 'Creative Core', 'Crimson Cow',\n       'Crystal Dynamics', 'Culture Brain', 'Culture Publishers',\n       'CyberFront', 'Cygames', 'D3Publisher', 'DHM Interactive',\n       'DSI Games', 'DTP Entertainment', 'Daedalic',\n       'Daedalic Entertainment', 'Daito', 'Data Age',\n       'Data Design Interactive', 'Data East', 'Datam Polystar',\n       'Deep Silver', 'Destination Software, Inc', 'Destineer',\n       'Detn8 Games', 'Devolver Digital', 'DigiCube',\n       'Disney Interactive Studios', 'Dorart', 'DreamCatcher Interactive',\n       'DreamWorks Interactive', 'Dusenberry Martin Racing', 'EA Games',\n       'EON Digital Entertainment', 'ESP', 'Easy Interactive', 'Ecole',\n       'Edia', 'Eidos Interactive', 'Electronic Arts',\n       'Electronic Arts Victor', 'Elf', 'Elite', 'Empire Interactive',\n       'Encore', 'Enix Corporation', 'Enjoy Gaming ltd.', 'Enterbrain',\n       'Epic Games', 'Epoch', 'Ertain', 'Essential Games',\n       'Evolution Games', 'Evolved Games', 'Excalibur Publishing',\n       'Experience Inc.', 'Extreme Entertainment Group',\n       'Falcom Corporation', 'Fields', 'Flashpoint Games', 'Flight-Plan',\n       'Focus Home Interactive', 'Focus Multimedia',\n       'Foreign Media Games', 'Fortyfive', 'Fox Interactive',\n       'From Software', 'FuRyu', 'FuRyu Corporation', 'Fuji', 'FunSoft',\n       'Funbox Media', 'Funcom', 'Funsta', 'G.Rev', 'GN Software', 'GOA',\n       'GSP', 'GT Interactive', 'Gaga', 'Gainax Network Systems',\n       'Gakken', 'Game Arts', 'Game Factory', 'Game Life',\n       'GameMill Entertainment', 'GameTek', 'Gamebridge', 'Gamecock',\n       'Gameloft', 'Gathering of Developers', 'General Entertainment',\n       'Genki', 'Genterprise', 'Ghostlight', 'Giga', 'Giza10', 'Glams',\n       'Global A Entertainment', 'Global Star', 'Gotham Games',\n       'Graffiti', 'Grand Prix Games', 'Graphsim Entertainment',\n       'Gremlin Interactive Ltd', 'Griffin International', 'Groove Games',\n       'GungHo', 'Gust', 'HAL Laboratory', 'HMH Interactive', 'Hackberry',\n       'Hamster Corporation', 'Happinet', 'Harmonix Music Systems',\n       'Hasbro Interactive', 'Havas Interactive', 'Headup Games',\n       'Hearty Robin', 'Hect', 'Hello Games', 'Her Interactive',\n       'Hip Interactive', 'Home Entertainment Suppliers',\n       'Hudson Entertainment', 'Hudson Soft', 'Human Entertainment',\n       'HuneX', 'IE Institute', 'ITT Family Games', 'Iceberg Interactive',\n       'Idea Factory', 'Idea Factory International',\n       'Ignition Entertainment', 'Illusion Softworks', 'Imadio',\n       'Image Epoch', 'Imageworks', 'Imagic', 'Imagineer', 'Imax',\n       'Indie Games', 'Infogrames', 'Insomniac Games', 'Interchannel',\n       'Interchannel-Holon', 'Intergrow', 'Interplay',\n       'Interplay Productions', 'Interworks Unlimited, Inc.',\n       'Inti Creates', 'Introversion Software',\n       'Irem Software Engineering', 'Ivolgamus', 'JVC',\n       'Jack of All Games', 'Jaleco', 'Jester Interactive',\n       'JoWood Productions', 'Jorudan', 'Just Flight', 'KID', 'KSS',\n       'Kadokawa Games', 'Kadokawa Shoten', 'Kaga Create',\n       'Kalypso Media', 'Kamui', 'Kando Games', 'Karin Entertainment',\n       'Kemco', 'Kids Station', 'King Records', 'Knowledge Adventure',\n       'Koch Media', 'Kokopeli Digital Studios',\n       'Konami Digital Entertainment', 'Kool Kizz', 'LEGO Media',\n       'LSP Games', 'Laguna', 'Legacy Interactive', 'Level 5',\n       'Lexicon Entertainment', 'Licensed 4U', 'Lighthouse Interactive',\n       'Liquid Games', 'Little Orbit', 'Locus', 'LucasArts',\n       'MC2 Entertainment', 'MLB.com', 'MTO', 'MTV Games', 'Mad Catz',\n       'Magical Company', 'Magix', 'Majesco Entertainment', 'Mamba Games',\n       'Marvel Entertainment', 'Marvelous Entertainment',\n       'Marvelous Games', 'Marvelous Interactive', 'Masque Publishing',\n       'Mastertronic', 'Mastiff', 'Mattel Interactive', 'Max Five',\n       'Maximum Family Games', 'Maxis', 'Media Entertainment',\n       'Media Factory', 'Media Rings', 'Media Works', 'MediaQuest',\n       'Men-A-Vision', 'Mentor Interactive', 'Mercury Games',\n       'Merscom LLC', 'Metro 3D', 'Michaelsoft', 'Micro Cabin',\n       'Microids', 'Microprose', 'Microsoft Game Studios',\n       'Midas Interactive Entertainment', 'Midway Games', 'Milestone',\n       'Milestone S.r.l', 'Milestone S.r.l.', 'Minato Station',\n       'Mindscape', 'Mirai Shounen', 'Misawa', 'Mitsui', 'Mojang',\n       'Monte Christo Multimedia', 'Moss', 'Mud Duck Productions',\n       'Mumbo Jumbo', 'Mycom', 'Myelin Media', 'Mystique', 'NCS',\n       'NCSoft', 'NDA Productions', 'NEC', 'NEC Interchannel',\n       'Namco Bandai Games', 'Natsume', 'Navarre Corp', 'Naxat Soft',\n       'Neko Entertainment', 'NetRevo', 'New', 'New World Computing',\n       'NewKidCo', 'Nexon', 'Nichibutsu', 'Nihon Falcom Corporation',\n       'Nintendo', 'Nippon Amuse', 'Nippon Columbia',\n       'Nippon Ichi Software', 'Nippon Telenet', 'Nitroplus', 'Nobilis',\n       'Nordcurrent', 'Nordic Games', 'NovaLogic', 'Number None',\n       'O-Games', 'O3 Entertainment', 'Ocean', 'Office Create',\n       'On Demand', 'Ongakukan', 'Origin Systems', 'Otomate',\n       'Oxygen Interactive', 'P2 Games', 'PM Studios', 'PQube',\n       'Pacific Century Cyber Works', 'Pack In Soft', 'Pack-In-Video',\n       'Palcom', 'Panther Software', 'Paon', 'Paon Corporation',\n       'Paradox Development', 'Paradox Interactive', 'Parker Bros.',\n       'Performance Designed Products', 'Phantagram', 'Phantom EFX',\n       'Phenomedia', 'Phoenix Games', 'Piacci', 'Pinnacle', 'Pioneer LDC',\n       'Play It', 'PlayV', 'Playlogic Game Factory', 'Playmates',\n       'Playmore', 'Plenty', 'Pony Canyon', 'PopCap Games',\n       'PopTop Software', 'Popcorn Arcade', 'Pow', 'Princess Soft',\n       'Prototype', 'Psygnosis', 'Quelle', 'Quest', 'Quinrose', 'Quintet',\n       'RED Entertainment', 'RTL', 'Rage Software', 'Rain Games',\n       'Rebellion', 'Rebellion Developments', 'Red Orb',\n       'Red Storm Entertainment', 'RedOctane', 'Reef Entertainment',\n       'Revolution (Japan)', 'Revolution Software', 'Rising Star Games',\n       'Riverhillsoft', 'Rocket Company', 'Rondomedia', 'Russel',\n       'SCS Software', 'SCi', 'SNK', 'SNK Playmore', 'SPS', 'SSI',\n       'Sammy Corporation', 'Saurus', 'Scholastic Inc.', 'Screenlife',\n       'Sears', 'Sega', 'Seta Corporation', 'Seventh Chord', 'Shogakukan',\n       'Simon & Schuster Interactive', 'Slightly Mad Studios',\n       'Slitherine Software', 'Societa', 'Sold Out', 'Sonnet',\n       'Sony Computer Entertainment',\n       'Sony Computer Entertainment America',\n       'Sony Computer Entertainment Europe', 'Sony Music Entertainment',\n       'Sony Online Entertainment', 'SouthPeak Games', 'Spike', 'Square',\n       'Square EA', 'Square Enix', 'SquareSoft', 'Stainless Games',\n       'Starfish', 'Starpath Corp.', 'Sting', 'Storm City Games',\n       'Strategy First', 'Success', 'Summitsoft', 'Sunflowers',\n       'Sunrise Interactive', 'Sunsoft', 'Sweets', 'Swing! Entertainment',\n       'Syscom', 'System 3', 'System 3 Arcade Software', 'System Soft',\n       'T&E Soft', 'TDK Core', 'TDK Mediactive', 'TGL', 'THQ', 'TOHO',\n       'TYO', 'Taito', 'Takara', 'Takara Tomy', 'Take-Two Interactive',\n       'Takuyo', 'TalonSoft', 'Team17 Software', 'TechnoSoft',\n       'Technos Japan Corporation', 'Tecmo Koei', 'Telegames',\n       'Telltale Games', 'Telstar', 'Tetris Online',\n       'The Adventure Company', 'The Learning Company', 'Tigervision',\n       'Time Warner Interactive', 'Titus', 'Tivola', 'Tommo',\n       'Tomy Corporation', 'TopWare Interactive', 'Touchstone',\n       'Tradewest', 'Trion Worlds', 'Tripwire Interactive',\n       'Tru Blu Entertainment', 'Tryfirst', 'Type-Moon', 'U.S. Gold',\n       'UEP Systems', 'UFO Interactive', 'UIG Entertainment', 'Ubisoft',\n       'Ubisoft Annecy', 'Ultravision', 'Universal Gamex',\n       'Universal Interactive', 'Unknown', 'Valcon Games', 'ValuSoft',\n       'Valve', 'Valve Software', 'Vap', 'Vatical Entertainment',\n       'Vic Tokai', 'Victor Interactive', 'Video System', 'Views',\n       'Vir2L Studios', 'Virgin Interactive', 'Virtual Play Games',\n       'Visco', 'Vivendi Games', 'Wanadoo', 'Warashi', 'Wargaming.net',\n       'Warner Bros. Interactive Entertainment', 'Warp',\n       'WayForward Technologies', 'Westwood Studios',\n       'White Park Bay Software', 'Wizard Video Games', 'XS Games',\n       'Xicat Interactive', 'Xing Entertainment', 'Xplosiv',\n       'Xseed Games', 'Yacht Club Games', 'Yamasa Entertainment', 'Yeti',\n       \"Yuke's\", 'Yumedia', 'Zenrin', 'Zoo Digital Publishing',\n       'Zoo Games', 'Zushi Games', 'bitComposer Games', 'dramatic create',\n       'fonfun', 'iWin', 'id Software', 'imageepoch Inc.',\n       'inXile Entertainment', 'mixi, Inc', 'responDESIGN'], dtype=object)"
     },
     "metadata": {},
     "output_type": "execute_result",
     "execution_count": 38
    }
   ],
   "source": [
    "# Пустые значения отсутствуют\n",
    "np.unique(data_imp2)"
   ],
   "metadata": {
    "collapsed": false,
    "pycharm": {
     "name": "#%%\n",
     "is_executing": false
    }
   }
  },
  {
   "cell_type": "code",
   "execution_count": 39,
   "outputs": [
    {
     "data": {
      "text/plain": "array([['Nintendo'],\n       ['Nintendo'],\n       ['Nintendo'],\n       ...,\n       ['Activision'],\n       ['7G//AMES'],\n       ['Wanadoo']], dtype=object)"
     },
     "metadata": {},
     "output_type": "execute_result",
     "execution_count": 39
    }
   ],
   "source": [
    "# Импьютация константой\n",
    "imp3 = SimpleImputer(missing_values=np.nan, strategy='constant', fill_value='!!!')\n",
    "data_imp3 = imp3.fit_transform(cat_temp_data)\n",
    "data_imp3"
   ],
   "metadata": {
    "collapsed": false,
    "pycharm": {
     "name": "#%%\n",
     "is_executing": false
    }
   }
  },
  {
   "cell_type": "code",
   "execution_count": 40,
   "outputs": [
    {
     "data": {
      "text/plain": "array(['!!!', '10TACLE Studios', '1C Company',\n       '20th Century Fox Video Games', '2D Boy', '3DO', '49Games',\n       '505 Games', '5pb', '7G//AMES', '989 Sports', '989 Studios',\n       'AQ Interactive', 'ASC Games', 'ASCII Entertainment',\n       'ASCII Media Works', 'ASK', 'Abylight', 'Acclaim Entertainment',\n       'Accolade', 'Ackkstudios', 'Acquire', 'Activision',\n       'Activision Blizzard', 'Activision Value', 'Adeline Software',\n       'Aerosoft', 'Agatsuma Entertainment', 'Agetec', 'Aksys Games',\n       'Alawar Entertainment', 'Alchemist', 'Alternative Software',\n       'Altron', 'Alvion', 'American Softworks', 'Angel Studios',\n       'Answer Software', 'Aqua Plus', 'Aques', 'Arc System Works',\n       'Arena Entertainment', 'Aria', 'Arika', 'ArtDink', 'Aruze Corp',\n       'Ascaron Entertainment', 'Ascaron Entertainment GmbH', 'Asgard',\n       'Asmik Ace Entertainment', 'Asmik Corp', 'Aspyr', 'Astragon',\n       'Asylum Entertainment', 'Atari', 'Athena', 'Atlus',\n       'Avalon Interactive', 'Avanquest', 'Avanquest Software', 'Axela',\n       'BAM! Entertainment', 'BMG Interactive Entertainment', 'BPS',\n       'Banpresto', 'Benesse', 'Berkeley', 'Bethesda Softworks',\n       'Big Ben Interactive', 'Big Fish Games', 'Bigben Interactive',\n       'Black Bean Games', 'Black Label Games',\n       'Blast! Entertainment Ltd', 'Blue Byte', 'Bohemia Interactive',\n       'Bomb', 'Boost On', 'Brash Entertainment', 'Broccoli', 'BushiRoad',\n       'CBS Electronics', 'CCP', 'CDV Software Entertainment',\n       'CPG Products', 'CTO SpA', 'Capcom', 'Cave', 'ChunSoft',\n       'City Interactive', 'Cloud Imperium Games Corporation',\n       'Coconuts Japan', 'Codemasters', 'Codemasters Online',\n       'CokeM Interactive', 'Coleco', 'Comfort', 'Commseed', 'Compile',\n       'Compile Heart', 'Conspiracy Entertainment', 'Core Design Ltd.',\n       'Crave Entertainment', 'Creative Core', 'Crimson Cow',\n       'Crystal Dynamics', 'Culture Brain', 'Culture Publishers',\n       'CyberFront', 'Cygames', 'D3Publisher', 'DHM Interactive',\n       'DSI Games', 'DTP Entertainment', 'Daedalic',\n       'Daedalic Entertainment', 'Daito', 'Data Age',\n       'Data Design Interactive', 'Data East', 'Datam Polystar',\n       'Deep Silver', 'Destination Software, Inc', 'Destineer',\n       'Detn8 Games', 'Devolver Digital', 'DigiCube',\n       'Disney Interactive Studios', 'Dorart', 'DreamCatcher Interactive',\n       'DreamWorks Interactive', 'Dusenberry Martin Racing', 'EA Games',\n       'EON Digital Entertainment', 'ESP', 'Easy Interactive', 'Ecole',\n       'Edia', 'Eidos Interactive', 'Electronic Arts',\n       'Electronic Arts Victor', 'Elf', 'Elite', 'Empire Interactive',\n       'Encore', 'Enix Corporation', 'Enjoy Gaming ltd.', 'Enterbrain',\n       'Epic Games', 'Epoch', 'Ertain', 'Essential Games',\n       'Evolution Games', 'Evolved Games', 'Excalibur Publishing',\n       'Experience Inc.', 'Extreme Entertainment Group',\n       'Falcom Corporation', 'Fields', 'Flashpoint Games', 'Flight-Plan',\n       'Focus Home Interactive', 'Focus Multimedia',\n       'Foreign Media Games', 'Fortyfive', 'Fox Interactive',\n       'From Software', 'FuRyu', 'FuRyu Corporation', 'Fuji', 'FunSoft',\n       'Funbox Media', 'Funcom', 'Funsta', 'G.Rev', 'GN Software', 'GOA',\n       'GSP', 'GT Interactive', 'Gaga', 'Gainax Network Systems',\n       'Gakken', 'Game Arts', 'Game Factory', 'Game Life',\n       'GameMill Entertainment', 'GameTek', 'Gamebridge', 'Gamecock',\n       'Gameloft', 'Gathering of Developers', 'General Entertainment',\n       'Genki', 'Genterprise', 'Ghostlight', 'Giga', 'Giza10', 'Glams',\n       'Global A Entertainment', 'Global Star', 'Gotham Games',\n       'Graffiti', 'Grand Prix Games', 'Graphsim Entertainment',\n       'Gremlin Interactive Ltd', 'Griffin International', 'Groove Games',\n       'GungHo', 'Gust', 'HAL Laboratory', 'HMH Interactive', 'Hackberry',\n       'Hamster Corporation', 'Happinet', 'Harmonix Music Systems',\n       'Hasbro Interactive', 'Havas Interactive', 'Headup Games',\n       'Hearty Robin', 'Hect', 'Hello Games', 'Her Interactive',\n       'Hip Interactive', 'Home Entertainment Suppliers',\n       'Hudson Entertainment', 'Hudson Soft', 'Human Entertainment',\n       'HuneX', 'IE Institute', 'ITT Family Games', 'Iceberg Interactive',\n       'Idea Factory', 'Idea Factory International',\n       'Ignition Entertainment', 'Illusion Softworks', 'Imadio',\n       'Image Epoch', 'Imageworks', 'Imagic', 'Imagineer', 'Imax',\n       'Indie Games', 'Infogrames', 'Insomniac Games', 'Interchannel',\n       'Interchannel-Holon', 'Intergrow', 'Interplay',\n       'Interplay Productions', 'Interworks Unlimited, Inc.',\n       'Inti Creates', 'Introversion Software',\n       'Irem Software Engineering', 'Ivolgamus', 'JVC',\n       'Jack of All Games', 'Jaleco', 'Jester Interactive',\n       'JoWood Productions', 'Jorudan', 'Just Flight', 'KID', 'KSS',\n       'Kadokawa Games', 'Kadokawa Shoten', 'Kaga Create',\n       'Kalypso Media', 'Kamui', 'Kando Games', 'Karin Entertainment',\n       'Kemco', 'Kids Station', 'King Records', 'Knowledge Adventure',\n       'Koch Media', 'Kokopeli Digital Studios',\n       'Konami Digital Entertainment', 'Kool Kizz', 'LEGO Media',\n       'LSP Games', 'Laguna', 'Legacy Interactive', 'Level 5',\n       'Lexicon Entertainment', 'Licensed 4U', 'Lighthouse Interactive',\n       'Liquid Games', 'Little Orbit', 'Locus', 'LucasArts',\n       'MC2 Entertainment', 'MLB.com', 'MTO', 'MTV Games', 'Mad Catz',\n       'Magical Company', 'Magix', 'Majesco Entertainment', 'Mamba Games',\n       'Marvel Entertainment', 'Marvelous Entertainment',\n       'Marvelous Games', 'Marvelous Interactive', 'Masque Publishing',\n       'Mastertronic', 'Mastiff', 'Mattel Interactive', 'Max Five',\n       'Maximum Family Games', 'Maxis', 'Media Entertainment',\n       'Media Factory', 'Media Rings', 'Media Works', 'MediaQuest',\n       'Men-A-Vision', 'Mentor Interactive', 'Mercury Games',\n       'Merscom LLC', 'Metro 3D', 'Michaelsoft', 'Micro Cabin',\n       'Microids', 'Microprose', 'Microsoft Game Studios',\n       'Midas Interactive Entertainment', 'Midway Games', 'Milestone',\n       'Milestone S.r.l', 'Milestone S.r.l.', 'Minato Station',\n       'Mindscape', 'Mirai Shounen', 'Misawa', 'Mitsui', 'Mojang',\n       'Monte Christo Multimedia', 'Moss', 'Mud Duck Productions',\n       'Mumbo Jumbo', 'Mycom', 'Myelin Media', 'Mystique', 'NCS',\n       'NCSoft', 'NDA Productions', 'NEC', 'NEC Interchannel',\n       'Namco Bandai Games', 'Natsume', 'Navarre Corp', 'Naxat Soft',\n       'Neko Entertainment', 'NetRevo', 'New', 'New World Computing',\n       'NewKidCo', 'Nexon', 'Nichibutsu', 'Nihon Falcom Corporation',\n       'Nintendo', 'Nippon Amuse', 'Nippon Columbia',\n       'Nippon Ichi Software', 'Nippon Telenet', 'Nitroplus', 'Nobilis',\n       'Nordcurrent', 'Nordic Games', 'NovaLogic', 'Number None',\n       'O-Games', 'O3 Entertainment', 'Ocean', 'Office Create',\n       'On Demand', 'Ongakukan', 'Origin Systems', 'Otomate',\n       'Oxygen Interactive', 'P2 Games', 'PM Studios', 'PQube',\n       'Pacific Century Cyber Works', 'Pack In Soft', 'Pack-In-Video',\n       'Palcom', 'Panther Software', 'Paon', 'Paon Corporation',\n       'Paradox Development', 'Paradox Interactive', 'Parker Bros.',\n       'Performance Designed Products', 'Phantagram', 'Phantom EFX',\n       'Phenomedia', 'Phoenix Games', 'Piacci', 'Pinnacle', 'Pioneer LDC',\n       'Play It', 'PlayV', 'Playlogic Game Factory', 'Playmates',\n       'Playmore', 'Plenty', 'Pony Canyon', 'PopCap Games',\n       'PopTop Software', 'Popcorn Arcade', 'Pow', 'Princess Soft',\n       'Prototype', 'Psygnosis', 'Quelle', 'Quest', 'Quinrose', 'Quintet',\n       'RED Entertainment', 'RTL', 'Rage Software', 'Rain Games',\n       'Rebellion', 'Rebellion Developments', 'Red Orb',\n       'Red Storm Entertainment', 'RedOctane', 'Reef Entertainment',\n       'Revolution (Japan)', 'Revolution Software', 'Rising Star Games',\n       'Riverhillsoft', 'Rocket Company', 'Rondomedia', 'Russel',\n       'SCS Software', 'SCi', 'SNK', 'SNK Playmore', 'SPS', 'SSI',\n       'Sammy Corporation', 'Saurus', 'Scholastic Inc.', 'Screenlife',\n       'Sears', 'Sega', 'Seta Corporation', 'Seventh Chord', 'Shogakukan',\n       'Simon & Schuster Interactive', 'Slightly Mad Studios',\n       'Slitherine Software', 'Societa', 'Sold Out', 'Sonnet',\n       'Sony Computer Entertainment',\n       'Sony Computer Entertainment America',\n       'Sony Computer Entertainment Europe', 'Sony Music Entertainment',\n       'Sony Online Entertainment', 'SouthPeak Games', 'Spike', 'Square',\n       'Square EA', 'Square Enix', 'SquareSoft', 'Stainless Games',\n       'Starfish', 'Starpath Corp.', 'Sting', 'Storm City Games',\n       'Strategy First', 'Success', 'Summitsoft', 'Sunflowers',\n       'Sunrise Interactive', 'Sunsoft', 'Sweets', 'Swing! Entertainment',\n       'Syscom', 'System 3', 'System 3 Arcade Software', 'System Soft',\n       'T&E Soft', 'TDK Core', 'TDK Mediactive', 'TGL', 'THQ', 'TOHO',\n       'TYO', 'Taito', 'Takara', 'Takara Tomy', 'Take-Two Interactive',\n       'Takuyo', 'TalonSoft', 'Team17 Software', 'TechnoSoft',\n       'Technos Japan Corporation', 'Tecmo Koei', 'Telegames',\n       'Telltale Games', 'Telstar', 'Tetris Online',\n       'The Adventure Company', 'The Learning Company', 'Tigervision',\n       'Time Warner Interactive', 'Titus', 'Tivola', 'Tommo',\n       'Tomy Corporation', 'TopWare Interactive', 'Touchstone',\n       'Tradewest', 'Trion Worlds', 'Tripwire Interactive',\n       'Tru Blu Entertainment', 'Tryfirst', 'Type-Moon', 'U.S. Gold',\n       'UEP Systems', 'UFO Interactive', 'UIG Entertainment', 'Ubisoft',\n       'Ubisoft Annecy', 'Ultravision', 'Universal Gamex',\n       'Universal Interactive', 'Unknown', 'Valcon Games', 'ValuSoft',\n       'Valve', 'Valve Software', 'Vap', 'Vatical Entertainment',\n       'Vic Tokai', 'Victor Interactive', 'Video System', 'Views',\n       'Vir2L Studios', 'Virgin Interactive', 'Virtual Play Games',\n       'Visco', 'Vivendi Games', 'Wanadoo', 'Warashi', 'Wargaming.net',\n       'Warner Bros. Interactive Entertainment', 'Warp',\n       'WayForward Technologies', 'Westwood Studios',\n       'White Park Bay Software', 'Wizard Video Games', 'XS Games',\n       'Xicat Interactive', 'Xing Entertainment', 'Xplosiv',\n       'Xseed Games', 'Yacht Club Games', 'Yamasa Entertainment', 'Yeti',\n       \"Yuke's\", 'Yumedia', 'Zenrin', 'Zoo Digital Publishing',\n       'Zoo Games', 'Zushi Games', 'bitComposer Games', 'dramatic create',\n       'fonfun', 'iWin', 'id Software', 'imageepoch Inc.',\n       'inXile Entertainment', 'mixi, Inc', 'responDESIGN'], dtype=object)"
     },
     "metadata": {},
     "output_type": "execute_result",
     "execution_count": 40
    }
   ],
   "source": [
    "np.unique(data_imp3)"
   ],
   "metadata": {
    "collapsed": false,
    "pycharm": {
     "name": "#%%\n",
     "is_executing": false
    }
   }
  },
  {
   "cell_type": "code",
   "execution_count": 42,
   "outputs": [
    {
     "data": {
      "text/plain": "58"
     },
     "metadata": {},
     "output_type": "execute_result",
     "execution_count": 42
    }
   ],
   "source": [
    "data_imp3[data_imp3=='!!!'].size"
   ],
   "metadata": {
    "collapsed": false,
    "pycharm": {
     "name": "#%%\n",
     "is_executing": false
    }
   }
  },
  {
   "cell_type": "code",
   "execution_count": 43,
   "outputs": [
    {
     "data": {
      "text/plain": "               c1\n0        Nintendo\n1        Nintendo\n2        Nintendo\n3        Nintendo\n4        Nintendo\n...           ...\n16593       Kemco\n16594  Infogrames\n16595  Activision\n16596    7G//AMES\n16597     Wanadoo\n\n[16598 rows x 1 columns]",
      "text/html": "<div>\n<style scoped>\n    .dataframe tbody tr th:only-of-type {\n        vertical-align: middle;\n    }\n\n    .dataframe tbody tr th {\n        vertical-align: top;\n    }\n\n    .dataframe thead th {\n        text-align: right;\n    }\n</style>\n<table border=\"1\" class=\"dataframe\">\n  <thead>\n    <tr style=\"text-align: right;\">\n      <th></th>\n      <th>c1</th>\n    </tr>\n  </thead>\n  <tbody>\n    <tr>\n      <th>0</th>\n      <td>Nintendo</td>\n    </tr>\n    <tr>\n      <th>1</th>\n      <td>Nintendo</td>\n    </tr>\n    <tr>\n      <th>2</th>\n      <td>Nintendo</td>\n    </tr>\n    <tr>\n      <th>3</th>\n      <td>Nintendo</td>\n    </tr>\n    <tr>\n      <th>4</th>\n      <td>Nintendo</td>\n    </tr>\n    <tr>\n      <th>...</th>\n      <td>...</td>\n    </tr>\n    <tr>\n      <th>16593</th>\n      <td>Kemco</td>\n    </tr>\n    <tr>\n      <th>16594</th>\n      <td>Infogrames</td>\n    </tr>\n    <tr>\n      <th>16595</th>\n      <td>Activision</td>\n    </tr>\n    <tr>\n      <th>16596</th>\n      <td>7G//AMES</td>\n    </tr>\n    <tr>\n      <th>16597</th>\n      <td>Wanadoo</td>\n    </tr>\n  </tbody>\n</table>\n<p>16598 rows × 1 columns</p>\n</div>"
     },
     "metadata": {},
     "output_type": "execute_result",
     "execution_count": 43
    }
   ],
   "source": [
    "cat_enc = pd.DataFrame({'c1':data_imp2.T[0]})\n",
    "cat_enc"
   ],
   "metadata": {
    "collapsed": false,
    "pycharm": {
     "name": "#%%\n",
     "is_executing": false
    }
   }
  },
  {
   "cell_type": "code",
   "execution_count": 44,
   "outputs": [
    {
     "data": {
      "text/plain": "array(['Nintendo', 'Microsoft Game Studios', 'Take-Two Interactive',\n       'Sony Computer Entertainment', 'Activision', 'Ubisoft',\n       'Bethesda Softworks', 'Electronic Arts', 'Sega', 'SquareSoft',\n       'Atari', '505 Games', 'Capcom', 'GT Interactive',\n       'Konami Digital Entertainment',\n       'Sony Computer Entertainment Europe', 'Square Enix', 'LucasArts',\n       'Virgin Interactive', 'Warner Bros. Interactive Entertainment',\n       'Universal Interactive', 'Eidos Interactive', 'RedOctane',\n       'Vivendi Games', 'Enix Corporation', 'Namco Bandai Games',\n       'Palcom', 'Hasbro Interactive', 'THQ', 'Fox Interactive',\n       'Acclaim Entertainment', 'MTV Games', 'Disney Interactive Studios',\n       'Majesco Entertainment', 'Codemasters', 'Red Orb', 'Level 5',\n       'Arena Entertainment', 'Midway Games', 'JVC', 'Deep Silver',\n       '989 Studios', 'NCSoft', 'UEP Systems', 'Parker Bros.', 'Maxis',\n       'Imagic', 'Tecmo Koei', 'Valve Software', 'ASCII Entertainment',\n       'Mindscape', 'Infogrames', 'Unknown', 'Square', 'Valve',\n       'Activision Value', 'Banpresto', 'D3Publisher',\n       'Oxygen Interactive', 'Red Storm Entertainment', 'Video System',\n       'Hello Games', 'Global Star', 'Gotham Games', 'Westwood Studios',\n       'GungHo', 'Crave Entertainment', 'Hudson Soft', 'Coleco',\n       'Rising Star Games', 'Atlus', 'TDK Mediactive', 'ASC Games',\n       'Zoo Games', 'Accolade', 'Sony Online Entertainment', '3DO', 'RTL',\n       'Natsume', 'Focus Home Interactive', 'Alchemist',\n       'Black Label Games', 'SouthPeak Games', 'Mastertronic', 'Ocean',\n       'Zoo Digital Publishing', 'Psygnosis', 'City Interactive',\n       'Empire Interactive', 'Success', 'Compile', 'Russel', 'Taito',\n       'Agetec', 'GSP', 'Microprose', 'Play It', 'Slightly Mad Studios',\n       'Tomy Corporation', 'Sammy Corporation', 'Koch Media',\n       'Game Factory', 'Titus', 'Marvelous Entertainment', 'Genki',\n       'Mojang', 'Pinnacle', 'CTO SpA', 'TalonSoft', 'Crystal Dynamics',\n       'SCi', 'Quelle', 'mixi, Inc', 'Rage Software', 'Ubisoft Annecy',\n       'Scholastic Inc.', 'Interplay', 'Mystique', 'ChunSoft',\n       'Square EA', '20th Century Fox Video Games', 'Avanquest Software',\n       'Hudson Entertainment', 'Nordic Games', 'Men-A-Vision', 'Nobilis',\n       'Big Ben Interactive', 'Touchstone', 'Spike', 'Jester Interactive',\n       'Nippon Ichi Software', 'LEGO Media', 'Quest',\n       'Illusion Softworks', 'Tigervision', 'Funbox Media',\n       'Rocket Company', 'Metro 3D', 'Mattel Interactive', 'IE Institute',\n       'Rondomedia', 'Sony Computer Entertainment America',\n       'Universal Gamex', 'Ghostlight', 'Wizard Video Games',\n       'BMG Interactive Entertainment', 'PQube', 'Trion Worlds', 'Laguna',\n       'Ignition Entertainment', 'Takara', 'Kadokawa Shoten', 'Destineer',\n       'Enterbrain', 'Xseed Games', 'Imagineer',\n       'System 3 Arcade Software', 'CPG Products', 'Aruze Corp',\n       'Gamebridge', 'Midas Interactive Entertainment', 'Jaleco',\n       'Answer Software', 'XS Games', 'Activision Blizzard',\n       'Pack In Soft', 'Rebellion', 'Xplosiv', 'Ultravision',\n       'GameMill Entertainment', 'Wanadoo', 'NovaLogic', 'Telltale Games',\n       'Epoch', 'BAM! Entertainment', 'Knowledge Adventure', 'Mastiff',\n       'Tetris Online', 'Harmonix Music Systems', 'ESP', 'TYO',\n       'Telegames', 'Mud Duck Productions', 'Screenlife', 'Pioneer LDC',\n       'Magical Company', 'Mentor Interactive', 'Kemco',\n       'Human Entertainment', 'Avanquest', 'Data Age',\n       'Electronic Arts Victor', 'Black Bean Games', 'Jack of All Games',\n       '989 Sports', 'Takara Tomy', 'Media Rings', 'Elf', 'Kalypso Media',\n       'Starfish', 'Zushi Games', 'Jorudan', 'Destination Software, Inc',\n       'New', 'Brash Entertainment', 'ITT Family Games', 'PopCap Games',\n       'Home Entertainment Suppliers', 'Ackkstudios', 'Starpath Corp.',\n       'P2 Games', 'BPS', 'Gathering of Developers', 'NewKidCo',\n       'Storm City Games', 'CokeM Interactive', 'CBS Electronics',\n       'Magix', 'Marvelous Interactive', 'Nihon Falcom Corporation',\n       'Wargaming.net', 'Angel Studios', 'Arc System Works', 'Playmates',\n       'SNK Playmore', 'Hamster Corporation', 'From Software',\n       'Nippon Columbia', 'Nichibutsu', 'Little Orbit',\n       'Conspiracy Entertainment', 'DTP Entertainment', 'Hect',\n       'Mumbo Jumbo', 'Pacific Century Cyber Works', 'Indie Games',\n       'Liquid Games', 'NEC', 'Axela', 'ArtDink', 'Sunsoft', 'Gust',\n       'SNK', 'NEC Interchannel', 'FuRyu', 'Xing Entertainment',\n       'ValuSoft', 'Victor Interactive', 'Detn8 Games',\n       'American Softworks', 'Nordcurrent', 'Bomb', 'Falcom Corporation',\n       'AQ Interactive', 'CCP', 'Milestone S.r.l.', 'Sears',\n       'JoWood Productions', 'Seta Corporation', 'On Demand', 'NCS',\n       'Aspyr', 'Gremlin Interactive Ltd', 'Agatsuma Entertainment',\n       'Compile Heart', 'Culture Brain', 'Mad Catz', 'Shogakukan',\n       'Merscom LLC', 'Rebellion Developments', 'Nippon Telenet',\n       'TDK Core', 'bitComposer Games', 'Foreign Media Games', 'Astragon',\n       'SSI', 'Kadokawa Games', 'Idea Factory',\n       'Performance Designed Products', 'Asylum Entertainment',\n       'Core Design Ltd.', 'PlayV', 'UFO Interactive',\n       'Idea Factory International', 'Playlogic Game Factory',\n       'Essential Games', 'Adeline Software', 'Funcom',\n       'Panther Software', 'Blast! Entertainment Ltd', 'Game Life',\n       'DSI Games', 'Avalon Interactive', 'Popcorn Arcade',\n       'Neko Entertainment', 'Vir2L Studios', 'Aques', 'Syscom',\n       'White Park Bay Software', 'System 3', 'Vatical Entertainment',\n       'Daedalic', 'EA Games', 'Media Factory', 'Vic Tokai',\n       'The Adventure Company', 'Game Arts', 'Broccoli', 'Acquire',\n       'General Entertainment', 'Excalibur Publishing', 'Imadio',\n       'Swing! Entertainment', 'Sony Music Entertainment', 'Aqua Plus',\n       'Paradox Interactive', 'Hip Interactive',\n       'DreamCatcher Interactive', 'Tripwire Interactive', 'Sting',\n       'Yacht Club Games', 'SCS Software', 'Bigben Interactive',\n       'Havas Interactive', 'Slitherine Software', 'Graffiti', 'Funsta',\n       'Telstar', 'U.S. Gold', 'DreamWorks Interactive',\n       'Data Design Interactive', 'MTO', 'DHM Interactive', 'FunSoft',\n       'SPS', 'Bohemia Interactive', 'Reef Entertainment',\n       'Tru Blu Entertainment', 'Moss', 'T&E Soft', 'O-Games',\n       'Aksys Games', 'NDA Productions', 'Data East',\n       'Time Warner Interactive', 'Gainax Network Systems', 'Daito',\n       'O3 Entertainment', 'Gameloft', 'Xicat Interactive',\n       'Simon & Schuster Interactive', 'Valcon Games', 'PopTop Software',\n       'TOHO', 'HMH Interactive', '5pb', 'Cave',\n       'CDV Software Entertainment', 'Microids', 'PM Studios', 'Paon',\n       'Micro Cabin', 'GameTek', 'Benesse', 'Type-Moon',\n       'Enjoy Gaming ltd.', 'Asmik Corp', 'Interplay Productions',\n       'Asmik Ace Entertainment', 'inXile Entertainment', 'Image Epoch',\n       'Phantom EFX', 'Evolved Games', 'responDESIGN',\n       'Culture Publishers', 'Griffin International', 'Hackberry',\n       'Hearty Robin', 'Nippon Amuse', 'Origin Systems', 'Seventh Chord',\n       'Mitsui', 'Milestone', 'Abylight', 'Flight-Plan', 'Glams', 'Locus',\n       'Warp', 'Daedalic Entertainment', 'Alternative Software',\n       'Myelin Media', 'Mercury Games', 'Irem Software Engineering',\n       'Sunrise Interactive', 'Elite', 'Evolution Games', 'Tivola',\n       'Global A Entertainment', 'Edia', 'Athena', 'Aria', 'Gamecock',\n       'Tommo', 'Altron', 'Happinet', 'iWin', 'Media Works', 'Fortyfive',\n       'Revolution Software', 'Imax', 'Crimson Cow', '10TACLE Studios',\n       'Groove Games', 'Pack-In-Video', 'Insomniac Games',\n       'Ascaron Entertainment GmbH', 'Asgard', 'Ecole', 'Yumedia',\n       'Phenomedia', 'HAL Laboratory', 'Grand Prix Games', 'DigiCube',\n       'Creative Core', 'Kaga Create', 'WayForward Technologies',\n       'LSP Games', 'ASCII Media Works', 'Coconuts Japan', 'Arika',\n       'Ertain', 'Marvel Entertainment', 'Prototype',\n       'TopWare Interactive', 'Phantagram', '1C Company',\n       'The Learning Company', 'TechnoSoft', 'Vap', 'Misawa', 'Tradewest',\n       'Team17 Software', 'Yeti', 'Pow', 'Navarre Corp', 'MediaQuest',\n       'Max Five', 'Comfort', 'Monte Christo Multimedia', 'Pony Canyon',\n       'Riverhillsoft', 'Summitsoft', 'Milestone S.r.l', 'Playmore',\n       'MLB.com', 'Kool Kizz', 'Flashpoint Games', '49Games',\n       'Legacy Interactive', 'Alawar Entertainment', 'CyberFront',\n       'Cloud Imperium Games Corporation', 'Societa',\n       'Virtual Play Games', 'Interchannel', 'Sonnet', 'Experience Inc.',\n       'Zenrin', 'Iceberg Interactive', 'Ivolgamus', '2D Boy',\n       'MC2 Entertainment', 'Kando Games', 'Just Flight', 'Office Create',\n       'Mamba Games', 'Fields', 'Princess Soft', 'Maximum Family Games',\n       'Berkeley', 'Fuji', 'Dusenberry Martin Racing', 'imageepoch Inc.',\n       'Big Fish Games', 'Her Interactive', 'Kamui', 'ASK',\n       'Headup Games', 'KSS', 'Cygames', 'KID', 'Quinrose', 'Sunflowers',\n       'dramatic create', 'TGL', 'Encore', 'Extreme Entertainment Group',\n       'Intergrow', 'G.Rev', 'Sweets', 'Kokopeli Digital Studios',\n       'Number None', 'Nexon', 'id Software', 'BushiRoad', 'Tryfirst',\n       'Strategy First', '7G//AMES', 'GN Software', \"Yuke's\",\n       'Easy Interactive', 'Licensed 4U', 'FuRyu Corporation',\n       'Lexicon Entertainment', 'Paon Corporation', 'Kids Station', 'GOA',\n       'Graphsim Entertainment', 'King Records', 'Introversion Software',\n       'Minato Station', 'Devolver Digital', 'Blue Byte', 'Gaga',\n       'Yamasa Entertainment', 'Plenty', 'Views', 'fonfun', 'NetRevo',\n       'Codemasters Online', 'Quintet', 'Phoenix Games', 'Dorart',\n       'Marvelous Games', 'Focus Multimedia', 'Imageworks',\n       'Karin Entertainment', 'Aerosoft', 'Technos Japan Corporation',\n       'Gakken', 'Mirai Shounen', 'Datam Polystar', 'Saurus', 'HuneX',\n       'Revolution (Japan)', 'Giza10', 'Visco', 'Alvion', 'Mycom', 'Giga',\n       'Warashi', 'System Soft', 'Sold Out', 'Lighthouse Interactive',\n       'Masque Publishing', 'RED Entertainment', 'Michaelsoft',\n       'Media Entertainment', 'New World Computing', 'Genterprise',\n       'Interworks Unlimited, Inc.', 'Boost On', 'Stainless Games',\n       'EON Digital Entertainment', 'Epic Games', 'Naxat Soft',\n       'Ascaron Entertainment', 'Piacci', 'Nitroplus',\n       'Paradox Development', 'Otomate', 'Ongakukan', 'Commseed',\n       'Inti Creates', 'Takuyo', 'Interchannel-Holon', 'Rain Games',\n       'UIG Entertainment'], dtype=object)"
     },
     "metadata": {},
     "output_type": "execute_result",
     "execution_count": 44
    }
   ],
   "source": [
    "from sklearn.preprocessing import LabelEncoder, OneHotEncoder\n",
    "le = LabelEncoder()\n",
    "cat_enc_le = le.fit_transform(cat_enc['c1'])\n",
    "cat_enc['c1'].unique()"
   ],
   "metadata": {
    "collapsed": false,
    "pycharm": {
     "name": "#%%\n",
     "is_executing": false
    }
   }
  },
  {
   "cell_type": "code",
   "execution_count": 45,
   "outputs": [
    {
     "data": {
      "text/plain": "array([  0,   1,   2,   3,   4,   5,   6,   7,   8,   9,  10,  11,  12,\n        13,  14,  15,  16,  17,  18,  19,  20,  21,  22,  23,  24,  25,\n        26,  27,  28,  29,  30,  31,  32,  33,  34,  35,  36,  37,  38,\n        39,  40,  41,  42,  43,  44,  45,  46,  47,  48,  49,  50,  51,\n        52,  53,  54,  55,  56,  57,  58,  59,  60,  61,  62,  63,  64,\n        65,  66,  67,  68,  69,  70,  71,  72,  73,  74,  75,  76,  77,\n        78,  79,  80,  81,  82,  83,  84,  85,  86,  87,  88,  89,  90,\n        91,  92,  93,  94,  95,  96,  97,  98,  99, 100, 101, 102, 103,\n       104, 105, 106, 107, 108, 109, 110, 111, 112, 113, 114, 115, 116,\n       117, 118, 119, 120, 121, 122, 123, 124, 125, 126, 127, 128, 129,\n       130, 131, 132, 133, 134, 135, 136, 137, 138, 139, 140, 141, 142,\n       143, 144, 145, 146, 147, 148, 149, 150, 151, 152, 153, 154, 155,\n       156, 157, 158, 159, 160, 161, 162, 163, 164, 165, 166, 167, 168,\n       169, 170, 171, 172, 173, 174, 175, 176, 177, 178, 179, 180, 181,\n       182, 183, 184, 185, 186, 187, 188, 189, 190, 191, 192, 193, 194,\n       195, 196, 197, 198, 199, 200, 201, 202, 203, 204, 205, 206, 207,\n       208, 209, 210, 211, 212, 213, 214, 215, 216, 217, 218, 219, 220,\n       221, 222, 223, 224, 225, 226, 227, 228, 229, 230, 231, 232, 233,\n       234, 235, 236, 237, 238, 239, 240, 241, 242, 243, 244, 245, 246,\n       247, 248, 249, 250, 251, 252, 253, 254, 255, 256, 257, 258, 259,\n       260, 261, 262, 263, 264, 265, 266, 267, 268, 269, 270, 271, 272,\n       273, 274, 275, 276, 277, 278, 279, 280, 281, 282, 283, 284, 285,\n       286, 287, 288, 289, 290, 291, 292, 293, 294, 295, 296, 297, 298,\n       299, 300, 301, 302, 303, 304, 305, 306, 307, 308, 309, 310, 311,\n       312, 313, 314, 315, 316, 317, 318, 319, 320, 321, 322, 323, 324,\n       325, 326, 327, 328, 329, 330, 331, 332, 333, 334, 335, 336, 337,\n       338, 339, 340, 341, 342, 343, 344, 345, 346, 347, 348, 349, 350,\n       351, 352, 353, 354, 355, 356, 357, 358, 359, 360, 361, 362, 363,\n       364, 365, 366, 367, 368, 369, 370, 371, 372, 373, 374, 375, 376,\n       377, 378, 379, 380, 381, 382, 383, 384, 385, 386, 387, 388, 389,\n       390, 391, 392, 393, 394, 395, 396, 397, 398, 399, 400, 401, 402,\n       403, 404, 405, 406, 407, 408, 409, 410, 411, 412, 413, 414, 415,\n       416, 417, 418, 419, 420, 421, 422, 423, 424, 425, 426, 427, 428,\n       429, 430, 431, 432, 433, 434, 435, 436, 437, 438, 439, 440, 441,\n       442, 443, 444, 445, 446, 447, 448, 449, 450, 451, 452, 453, 454,\n       455, 456, 457, 458, 459, 460, 461, 462, 463, 464, 465, 466, 467,\n       468, 469, 470, 471, 472, 473, 474, 475, 476, 477, 478, 479, 480,\n       481, 482, 483, 484, 485, 486, 487, 488, 489, 490, 491, 492, 493,\n       494, 495, 496, 497, 498, 499, 500, 501, 502, 503, 504, 505, 506,\n       507, 508, 509, 510, 511, 512, 513, 514, 515, 516, 517, 518, 519,\n       520, 521, 522, 523, 524, 525, 526, 527, 528, 529, 530, 531, 532,\n       533, 534, 535, 536, 537, 538, 539, 540, 541, 542, 543, 544, 545,\n       546, 547, 548, 549, 550, 551, 552, 553, 554, 555, 556, 557, 558,\n       559, 560, 561, 562, 563, 564, 565, 566, 567, 568, 569, 570, 571,\n       572, 573, 574, 575, 576, 577])"
     },
     "metadata": {},
     "output_type": "execute_result",
     "execution_count": 45
    }
   ],
   "source": [
    "np.unique(cat_enc_le)"
   ],
   "metadata": {
    "collapsed": false,
    "pycharm": {
     "name": "#%%\n",
     "is_executing": false
    }
   }
  },
  {
   "cell_type": "code",
   "execution_count": 46,
   "outputs": [
    {
     "data": {
      "text/plain": "array(['10TACLE Studios', '1C Company', '20th Century Fox Video Games',\n       '2D Boy'], dtype=object)"
     },
     "metadata": {},
     "output_type": "execute_result",
     "execution_count": 46
    }
   ],
   "source": [
    "le.inverse_transform([0, 1, 2, 3])"
   ],
   "metadata": {
    "collapsed": false,
    "pycharm": {
     "name": "#%%\n",
     "is_executing": false
    }
   }
  },
  {
   "cell_type": "code",
   "execution_count": 47,
   "outputs": [
    {
     "data": {
      "text/plain": "(16598, 1)"
     },
     "metadata": {},
     "output_type": "execute_result",
     "execution_count": 47
    }
   ],
   "source": [
    "ohe = OneHotEncoder()\n",
    "cat_enc_ohe = ohe.fit_transform(cat_enc[['c1']])\n",
    "cat_enc.shape"
   ],
   "metadata": {
    "collapsed": false,
    "pycharm": {
     "name": "#%%\n",
     "is_executing": false
    }
   }
  },
  {
   "cell_type": "code",
   "execution_count": 48,
   "outputs": [
    {
     "data": {
      "text/plain": "(16598, 578)"
     },
     "metadata": {},
     "output_type": "execute_result",
     "execution_count": 48
    }
   ],
   "source": [
    "cat_enc_ohe.shape"
   ],
   "metadata": {
    "collapsed": false,
    "pycharm": {
     "name": "#%%\n",
     "is_executing": false
    }
   }
  },
  {
   "cell_type": "code",
   "execution_count": 49,
   "outputs": [
    {
     "data": {
      "text/plain": "<16598x578 sparse matrix of type '<class 'numpy.float64'>'\n\twith 16598 stored elements in Compressed Sparse Row format>"
     },
     "metadata": {},
     "output_type": "execute_result",
     "execution_count": 49
    }
   ],
   "source": [
    "cat_enc_ohe"
   ],
   "metadata": {
    "collapsed": false,
    "pycharm": {
     "name": "#%%\n",
     "is_executing": false
    }
   }
  },
  {
   "cell_type": "code",
   "execution_count": 50,
   "outputs": [
    {
     "data": {
      "text/plain": "matrix([[0., 0., 0., ..., 0., 0., 0.],\n        [0., 0., 0., ..., 0., 0., 0.],\n        [0., 0., 0., ..., 0., 0., 0.],\n        ...,\n        [0., 0., 0., ..., 0., 0., 0.],\n        [0., 0., 0., ..., 0., 0., 0.],\n        [0., 0., 0., ..., 0., 0., 0.]])"
     },
     "metadata": {},
     "output_type": "execute_result",
     "execution_count": 50
    }
   ],
   "source": [
    "cat_enc_ohe.todense()[0:10]"
   ],
   "metadata": {
    "collapsed": false,
    "pycharm": {
     "name": "#%%\n",
     "is_executing": false
    }
   }
  },
  {
   "cell_type": "code",
   "execution_count": 51,
   "outputs": [
    {
     "data": {
      "text/plain": "         c1\n0  Nintendo\n1  Nintendo\n2  Nintendo\n3  Nintendo\n4  Nintendo\n5  Nintendo\n6  Nintendo\n7  Nintendo\n8  Nintendo\n9  Nintendo",
      "text/html": "<div>\n<style scoped>\n    .dataframe tbody tr th:only-of-type {\n        vertical-align: middle;\n    }\n\n    .dataframe tbody tr th {\n        vertical-align: top;\n    }\n\n    .dataframe thead th {\n        text-align: right;\n    }\n</style>\n<table border=\"1\" class=\"dataframe\">\n  <thead>\n    <tr style=\"text-align: right;\">\n      <th></th>\n      <th>c1</th>\n    </tr>\n  </thead>\n  <tbody>\n    <tr>\n      <th>0</th>\n      <td>Nintendo</td>\n    </tr>\n    <tr>\n      <th>1</th>\n      <td>Nintendo</td>\n    </tr>\n    <tr>\n      <th>2</th>\n      <td>Nintendo</td>\n    </tr>\n    <tr>\n      <th>3</th>\n      <td>Nintendo</td>\n    </tr>\n    <tr>\n      <th>4</th>\n      <td>Nintendo</td>\n    </tr>\n    <tr>\n      <th>5</th>\n      <td>Nintendo</td>\n    </tr>\n    <tr>\n      <th>6</th>\n      <td>Nintendo</td>\n    </tr>\n    <tr>\n      <th>7</th>\n      <td>Nintendo</td>\n    </tr>\n    <tr>\n      <th>8</th>\n      <td>Nintendo</td>\n    </tr>\n    <tr>\n      <th>9</th>\n      <td>Nintendo</td>\n    </tr>\n  </tbody>\n</table>\n</div>"
     },
     "metadata": {},
     "output_type": "execute_result",
     "execution_count": 51
    }
   ],
   "source": [
    "cat_enc.head(10)"
   ],
   "metadata": {
    "collapsed": false,
    "pycharm": {
     "name": "#%%\n",
     "is_executing": false
    }
   }
  },
  {
   "cell_type": "code",
   "execution_count": 52,
   "outputs": [
    {
     "data": {
      "text/plain": "   c1_10TACLE Studios  c1_1C Company  c1_20th Century Fox Video Games  \\\n0                   0              0                                0   \n1                   0              0                                0   \n2                   0              0                                0   \n3                   0              0                                0   \n4                   0              0                                0   \n\n   c1_2D Boy  c1_3DO  c1_49Games  c1_505 Games  c1_5pb  c1_7G//AMES  \\\n0          0       0           0             0       0            0   \n1          0       0           0             0       0            0   \n2          0       0           0             0       0            0   \n3          0       0           0             0       0            0   \n4          0       0           0             0       0            0   \n\n   c1_989 Sports  ...  c1_Zushi Games  c1_bitComposer Games  \\\n0              0  ...               0                     0   \n1              0  ...               0                     0   \n2              0  ...               0                     0   \n3              0  ...               0                     0   \n4              0  ...               0                     0   \n\n   c1_dramatic create  c1_fonfun  c1_iWin  c1_id Software  c1_imageepoch Inc.  \\\n0                   0          0        0               0                   0   \n1                   0          0        0               0                   0   \n2                   0          0        0               0                   0   \n3                   0          0        0               0                   0   \n4                   0          0        0               0                   0   \n\n   c1_inXile Entertainment  c1_mixi, Inc  c1_responDESIGN  \n0                        0             0                0  \n1                        0             0                0  \n2                        0             0                0  \n3                        0             0                0  \n4                        0             0                0  \n\n[5 rows x 578 columns]",
      "text/html": "<div>\n<style scoped>\n    .dataframe tbody tr th:only-of-type {\n        vertical-align: middle;\n    }\n\n    .dataframe tbody tr th {\n        vertical-align: top;\n    }\n\n    .dataframe thead th {\n        text-align: right;\n    }\n</style>\n<table border=\"1\" class=\"dataframe\">\n  <thead>\n    <tr style=\"text-align: right;\">\n      <th></th>\n      <th>c1_10TACLE Studios</th>\n      <th>c1_1C Company</th>\n      <th>c1_20th Century Fox Video Games</th>\n      <th>c1_2D Boy</th>\n      <th>c1_3DO</th>\n      <th>c1_49Games</th>\n      <th>c1_505 Games</th>\n      <th>c1_5pb</th>\n      <th>c1_7G//AMES</th>\n      <th>c1_989 Sports</th>\n      <th>...</th>\n      <th>c1_Zushi Games</th>\n      <th>c1_bitComposer Games</th>\n      <th>c1_dramatic create</th>\n      <th>c1_fonfun</th>\n      <th>c1_iWin</th>\n      <th>c1_id Software</th>\n      <th>c1_imageepoch Inc.</th>\n      <th>c1_inXile Entertainment</th>\n      <th>c1_mixi, Inc</th>\n      <th>c1_responDESIGN</th>\n    </tr>\n  </thead>\n  <tbody>\n    <tr>\n      <th>0</th>\n      <td>0</td>\n      <td>0</td>\n      <td>0</td>\n      <td>0</td>\n      <td>0</td>\n      <td>0</td>\n      <td>0</td>\n      <td>0</td>\n      <td>0</td>\n      <td>0</td>\n      <td>...</td>\n      <td>0</td>\n      <td>0</td>\n      <td>0</td>\n      <td>0</td>\n      <td>0</td>\n      <td>0</td>\n      <td>0</td>\n      <td>0</td>\n      <td>0</td>\n      <td>0</td>\n    </tr>\n    <tr>\n      <th>1</th>\n      <td>0</td>\n      <td>0</td>\n      <td>0</td>\n      <td>0</td>\n      <td>0</td>\n      <td>0</td>\n      <td>0</td>\n      <td>0</td>\n      <td>0</td>\n      <td>0</td>\n      <td>...</td>\n      <td>0</td>\n      <td>0</td>\n      <td>0</td>\n      <td>0</td>\n      <td>0</td>\n      <td>0</td>\n      <td>0</td>\n      <td>0</td>\n      <td>0</td>\n      <td>0</td>\n    </tr>\n    <tr>\n      <th>2</th>\n      <td>0</td>\n      <td>0</td>\n      <td>0</td>\n      <td>0</td>\n      <td>0</td>\n      <td>0</td>\n      <td>0</td>\n      <td>0</td>\n      <td>0</td>\n      <td>0</td>\n      <td>...</td>\n      <td>0</td>\n      <td>0</td>\n      <td>0</td>\n      <td>0</td>\n      <td>0</td>\n      <td>0</td>\n      <td>0</td>\n      <td>0</td>\n      <td>0</td>\n      <td>0</td>\n    </tr>\n    <tr>\n      <th>3</th>\n      <td>0</td>\n      <td>0</td>\n      <td>0</td>\n      <td>0</td>\n      <td>0</td>\n      <td>0</td>\n      <td>0</td>\n      <td>0</td>\n      <td>0</td>\n      <td>0</td>\n      <td>...</td>\n      <td>0</td>\n      <td>0</td>\n      <td>0</td>\n      <td>0</td>\n      <td>0</td>\n      <td>0</td>\n      <td>0</td>\n      <td>0</td>\n      <td>0</td>\n      <td>0</td>\n    </tr>\n    <tr>\n      <th>4</th>\n      <td>0</td>\n      <td>0</td>\n      <td>0</td>\n      <td>0</td>\n      <td>0</td>\n      <td>0</td>\n      <td>0</td>\n      <td>0</td>\n      <td>0</td>\n      <td>0</td>\n      <td>...</td>\n      <td>0</td>\n      <td>0</td>\n      <td>0</td>\n      <td>0</td>\n      <td>0</td>\n      <td>0</td>\n      <td>0</td>\n      <td>0</td>\n      <td>0</td>\n      <td>0</td>\n    </tr>\n  </tbody>\n</table>\n<p>5 rows × 578 columns</p>\n</div>"
     },
     "metadata": {},
     "output_type": "execute_result",
     "execution_count": 52
    }
   ],
   "source": [
    "pd.get_dummies(cat_enc).head()\n"
   ],
   "metadata": {
    "collapsed": false,
    "pycharm": {
     "name": "#%%\n",
     "is_executing": false
    }
   }
  },
  {
   "cell_type": "code",
   "execution_count": 53,
   "outputs": [
    {
     "data": {
      "text/plain": "   Publisher_10TACLE Studios  Publisher_1C Company  \\\n0                          0                     0   \n1                          0                     0   \n2                          0                     0   \n3                          0                     0   \n4                          0                     0   \n\n   Publisher_20th Century Fox Video Games  Publisher_2D Boy  Publisher_3DO  \\\n0                                       0                 0              0   \n1                                       0                 0              0   \n2                                       0                 0              0   \n3                                       0                 0              0   \n4                                       0                 0              0   \n\n   Publisher_49Games  Publisher_505 Games  Publisher_5pb  Publisher_7G//AMES  \\\n0                  0                    0              0                   0   \n1                  0                    0              0                   0   \n2                  0                    0              0                   0   \n3                  0                    0              0                   0   \n4                  0                    0              0                   0   \n\n   Publisher_989 Sports  ...  Publisher_bitComposer Games  \\\n0                     0  ...                            0   \n1                     0  ...                            0   \n2                     0  ...                            0   \n3                     0  ...                            0   \n4                     0  ...                            0   \n\n   Publisher_dramatic create  Publisher_fonfun  Publisher_iWin  \\\n0                          0                 0               0   \n1                          0                 0               0   \n2                          0                 0               0   \n3                          0                 0               0   \n4                          0                 0               0   \n\n   Publisher_id Software  Publisher_imageepoch Inc.  \\\n0                      0                          0   \n1                      0                          0   \n2                      0                          0   \n3                      0                          0   \n4                      0                          0   \n\n   Publisher_inXile Entertainment  Publisher_mixi, Inc  \\\n0                               0                    0   \n1                               0                    0   \n2                               0                    0   \n3                               0                    0   \n4                               0                    0   \n\n   Publisher_responDESIGN  Publisher_nan  \n0                       0              0  \n1                       0              0  \n2                       0              0  \n3                       0              0  \n4                       0              0  \n\n[5 rows x 579 columns]",
      "text/html": "<div>\n<style scoped>\n    .dataframe tbody tr th:only-of-type {\n        vertical-align: middle;\n    }\n\n    .dataframe tbody tr th {\n        vertical-align: top;\n    }\n\n    .dataframe thead th {\n        text-align: right;\n    }\n</style>\n<table border=\"1\" class=\"dataframe\">\n  <thead>\n    <tr style=\"text-align: right;\">\n      <th></th>\n      <th>Publisher_10TACLE Studios</th>\n      <th>Publisher_1C Company</th>\n      <th>Publisher_20th Century Fox Video Games</th>\n      <th>Publisher_2D Boy</th>\n      <th>Publisher_3DO</th>\n      <th>Publisher_49Games</th>\n      <th>Publisher_505 Games</th>\n      <th>Publisher_5pb</th>\n      <th>Publisher_7G//AMES</th>\n      <th>Publisher_989 Sports</th>\n      <th>...</th>\n      <th>Publisher_bitComposer Games</th>\n      <th>Publisher_dramatic create</th>\n      <th>Publisher_fonfun</th>\n      <th>Publisher_iWin</th>\n      <th>Publisher_id Software</th>\n      <th>Publisher_imageepoch Inc.</th>\n      <th>Publisher_inXile Entertainment</th>\n      <th>Publisher_mixi, Inc</th>\n      <th>Publisher_responDESIGN</th>\n      <th>Publisher_nan</th>\n    </tr>\n  </thead>\n  <tbody>\n    <tr>\n      <th>0</th>\n      <td>0</td>\n      <td>0</td>\n      <td>0</td>\n      <td>0</td>\n      <td>0</td>\n      <td>0</td>\n      <td>0</td>\n      <td>0</td>\n      <td>0</td>\n      <td>0</td>\n      <td>...</td>\n      <td>0</td>\n      <td>0</td>\n      <td>0</td>\n      <td>0</td>\n      <td>0</td>\n      <td>0</td>\n      <td>0</td>\n      <td>0</td>\n      <td>0</td>\n      <td>0</td>\n    </tr>\n    <tr>\n      <th>1</th>\n      <td>0</td>\n      <td>0</td>\n      <td>0</td>\n      <td>0</td>\n      <td>0</td>\n      <td>0</td>\n      <td>0</td>\n      <td>0</td>\n      <td>0</td>\n      <td>0</td>\n      <td>...</td>\n      <td>0</td>\n      <td>0</td>\n      <td>0</td>\n      <td>0</td>\n      <td>0</td>\n      <td>0</td>\n      <td>0</td>\n      <td>0</td>\n      <td>0</td>\n      <td>0</td>\n    </tr>\n    <tr>\n      <th>2</th>\n      <td>0</td>\n      <td>0</td>\n      <td>0</td>\n      <td>0</td>\n      <td>0</td>\n      <td>0</td>\n      <td>0</td>\n      <td>0</td>\n      <td>0</td>\n      <td>0</td>\n      <td>...</td>\n      <td>0</td>\n      <td>0</td>\n      <td>0</td>\n      <td>0</td>\n      <td>0</td>\n      <td>0</td>\n      <td>0</td>\n      <td>0</td>\n      <td>0</td>\n      <td>0</td>\n    </tr>\n    <tr>\n      <th>3</th>\n      <td>0</td>\n      <td>0</td>\n      <td>0</td>\n      <td>0</td>\n      <td>0</td>\n      <td>0</td>\n      <td>0</td>\n      <td>0</td>\n      <td>0</td>\n      <td>0</td>\n      <td>...</td>\n      <td>0</td>\n      <td>0</td>\n      <td>0</td>\n      <td>0</td>\n      <td>0</td>\n      <td>0</td>\n      <td>0</td>\n      <td>0</td>\n      <td>0</td>\n      <td>0</td>\n    </tr>\n    <tr>\n      <th>4</th>\n      <td>0</td>\n      <td>0</td>\n      <td>0</td>\n      <td>0</td>\n      <td>0</td>\n      <td>0</td>\n      <td>0</td>\n      <td>0</td>\n      <td>0</td>\n      <td>0</td>\n      <td>...</td>\n      <td>0</td>\n      <td>0</td>\n      <td>0</td>\n      <td>0</td>\n      <td>0</td>\n      <td>0</td>\n      <td>0</td>\n      <td>0</td>\n      <td>0</td>\n      <td>0</td>\n    </tr>\n  </tbody>\n</table>\n<p>5 rows × 579 columns</p>\n</div>"
     },
     "metadata": {},
     "output_type": "execute_result",
     "execution_count": 53
    }
   ],
   "source": [
    "pd.get_dummies(cat_temp_data, dummy_na=True).head()"
   ],
   "metadata": {
    "collapsed": false,
    "pycharm": {
     "name": "#%%\n",
     "is_executing": false
    }
   }
  },
  {
   "cell_type": "code",
   "execution_count": 79,
   "outputs": [
    {
     "data": {
      "text/plain": "<Figure size 432x288 with 1 Axes>",
      "image/png": "[encoded data removed]"
     },
     "metadata": {},
     "output_type": "display_data"
    }
   ],
   "source": [
    "data = pd.read_csv('../datasets/USvideos.csv', sep=\",\")\n",
    "from sklearn.preprocessing import MinMaxScaler, StandardScaler, Normalizer\n",
    "sc1 = MinMaxScaler()\n",
    "sc1_data = sc1.fit_transform(data[['views']])\n",
    "plt.hist(data['views'], 100)\n",
    "plt.show()"
   ],
   "metadata": {
    "collapsed": false,
    "pycharm": {
     "name": "#%%\n",
     "is_executing": false
    }
   }
  },
  {
   "cell_type": "code",
   "execution_count": 80,
   "outputs": [
    {
     "data": {
      "text/plain": "<Figure size 432x288 with 1 Axes>",
      "image/png": "[encoded data removed]"
     },
     "metadata": {},
     "output_type": "display_data"
    }
   ],
   "source": [
    "plt.hist(sc1_data, 100)\n",
    "plt.show()"
   ],
   "metadata": {
    "collapsed": false,
    "pycharm": {
     "name": "#%%\n",
     "is_executing": false
    }
   }
  },
  {
   "cell_type": "code",
   "execution_count": 82,
   "outputs": [
    {
     "data": {
      "text/plain": "<Figure size 432x288 with 1 Axes>",
      "image/png": "[encoded data removed]"
     },
     "metadata": {},
     "output_type": "display_data"
    }
   ],
   "source": [
    "sc2 = StandardScaler()\n",
    "sc2_data = sc2.fit_transform(data[['views']])\n",
    "plt.hist(sc2_data, 100)\n",
    "plt.show()"
   ],
   "metadata": {
    "collapsed": false,
    "pycharm": {
     "name": "#%%\n",
     "is_executing": false
    }
   }
  },
  {
   "cell_type": "code",
   "execution_count": 84,
   "outputs": [
    {
     "data": {
      "text/plain": "<Figure size 432x288 with 1 Axes>",
      "image/png": "[encoded data removed]"
     },
     "metadata": {},
     "output_type": "display_data"
    }
   ],
   "source": [
    "sc3 = Normalizer()\n",
    "sc3_data = sc3.fit_transform(data[['views']])\n",
    "plt.hist(sc3_data, 100)\n",
    "plt.show()\n"
   ],
   "metadata": {
    "collapsed": false,
    "pycharm": {
     "name": "#%%\n",
     "is_executing": false
    }
   }
  }
 ],
 "metadata": {
  "kernelspec": {
   "display_name": "Python 3",
   "language": "python",
   "name": "python3"
  },
  "language_info": {
   "codemirror_mode": {
    "name": "ipython",
    "version": 2
   },
   "file_extension": ".py",
   "mimetype": "text/x-python",
   "name": "python",
   "nbconvert_exporter": "python",
   "pygments_lexer": "ipython2",
   "version": "2.7.6"
  },
  "pycharm": {
   "stem_cell": {
    "cell_type": "raw",
    "source": [],
    "metadata": {
     "collapsed": false
    }
   }
  }
 },
 "nbformat": 4,
 "nbformat_minor": 0
}