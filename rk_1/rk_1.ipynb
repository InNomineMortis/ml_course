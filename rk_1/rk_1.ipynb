{
 "cells": [
  {
   "cell_type": "code",
   "execution_count": 2,
   "metadata": {
    "collapsed": true,
    "pycharm": {
     "is_executing": false
    }
   },
   "outputs": [],
   "source": [
    "import numpy as np\n",
    "import pandas as pd\n",
    "import seaborn as sns\n",
    "import matplotlib.pyplot as plt\n",
    "%matplotlib inline\n",
    "sns.set(style=\"ticks\")"
   ]
  },
  {
   "cell_type": "code",
   "execution_count": 3,
   "outputs": [],
   "source": [
    "data = pd.read_csv(\"../datasets/states_all.csv\", sep=',')"
   ],
   "metadata": {
    "collapsed": false,
    "pycharm": {
     "name": "#%%\n",
     "is_executing": false
    }
   }
  },
  {
   "cell_type": "code",
   "execution_count": 4,
   "outputs": [
    {
     "data": {
      "text/plain": "(1715, 25)"
     },
     "metadata": {},
     "output_type": "execute_result",
     "execution_count": 4
    }
   ],
   "source": [
    "# размер набора данных\n",
    "data.shape\n"
   ],
   "metadata": {
    "collapsed": false,
    "pycharm": {
     "name": "#%%\n",
     "is_executing": false
    }
   }
  },
  {
   "cell_type": "code",
   "execution_count": 5,
   "outputs": [
    {
     "data": {
      "text/plain": "PRIMARY_KEY                      object\nSTATE                            object\nYEAR                              int64\nENROLL                          float64\nTOTAL_REVENUE                   float64\nFEDERAL_REVENUE                 float64\nSTATE_REVENUE                   float64\nLOCAL_REVENUE                   float64\nTOTAL_EXPENDITURE               float64\nINSTRUCTION_EXPENDITURE         float64\nSUPPORT_SERVICES_EXPENDITURE    float64\nOTHER_EXPENDITURE               float64\nCAPITAL_OUTLAY_EXPENDITURE      float64\nGRADES_PK_G                     float64\nGRADES_KG_G                     float64\nGRADES_4_G                      float64\nGRADES_8_G                      float64\nGRADES_12_G                     float64\nGRADES_1_8_G                    float64\nGRADES_9_12_G                   float64\nGRADES_ALL_G                    float64\nAVG_MATH_4_SCORE                float64\nAVG_MATH_8_SCORE                float64\nAVG_READING_4_SCORE             float64\nAVG_READING_8_SCORE             float64\ndtype: object"
     },
     "metadata": {},
     "output_type": "execute_result",
     "execution_count": 5
    }
   ],
   "source": [
    "# типы колонок\n",
    "data.dtypes"
   ],
   "metadata": {
    "collapsed": false,
    "pycharm": {
     "name": "#%%\n",
     "is_executing": false
    }
   }
  },
  {
   "cell_type": "code",
   "execution_count": 6,
   "outputs": [
    {
     "data": {
      "text/plain": "PRIMARY_KEY                        0\nSTATE                              0\nYEAR                               0\nENROLL                           491\nTOTAL_REVENUE                    440\nFEDERAL_REVENUE                  440\nSTATE_REVENUE                    440\nLOCAL_REVENUE                    440\nTOTAL_EXPENDITURE                440\nINSTRUCTION_EXPENDITURE          440\nSUPPORT_SERVICES_EXPENDITURE     440\nOTHER_EXPENDITURE                491\nCAPITAL_OUTLAY_EXPENDITURE       440\nGRADES_PK_G                      173\nGRADES_KG_G                       83\nGRADES_4_G                        83\nGRADES_8_G                        83\nGRADES_12_G                       83\nGRADES_1_8_G                     695\nGRADES_9_12_G                    644\nGRADES_ALL_G                      83\nAVG_MATH_4_SCORE                1150\nAVG_MATH_8_SCORE                1113\nAVG_READING_4_SCORE             1065\nAVG_READING_8_SCORE             1153\ndtype: int64"
     },
     "metadata": {},
     "output_type": "execute_result",
     "execution_count": 6
    }
   ],
   "source": [
    "# проверим, есть ли пропущенные значения\n",
    "data.isnull().sum()\n"
   ],
   "metadata": {
    "collapsed": false,
    "pycharm": {
     "name": "#%%\n",
     "is_executing": false
    }
   }
  },
  {
   "cell_type": "code",
   "execution_count": 7,
   "outputs": [
    {
     "data": {
      "text/plain": "       PRIMARY_KEY       STATE  YEAR  ENROLL  TOTAL_REVENUE  FEDERAL_REVENUE  \\\n0     1992_ALABAMA     ALABAMA  1992     NaN      2678885.0         304177.0   \n1      1992_ALASKA      ALASKA  1992     NaN      1049591.0         106780.0   \n2     1992_ARIZONA     ARIZONA  1992     NaN      3258079.0         297888.0   \n3    1992_ARKANSAS    ARKANSAS  1992     NaN      1711959.0         178571.0   \n4  1992_CALIFORNIA  CALIFORNIA  1992     NaN     26260025.0        2072470.0   \n\n   STATE_REVENUE  LOCAL_REVENUE  TOTAL_EXPENDITURE  INSTRUCTION_EXPENDITURE  \\\n0      1659028.0       715680.0          2653798.0                1481703.0   \n1       720711.0       222100.0           972488.0                 498362.0   \n2      1369815.0      1590376.0          3401580.0                1435908.0   \n3       958785.0       574603.0          1743022.0                 964323.0   \n4     16546514.0      7641041.0         27138832.0               14358922.0   \n\n   ...  GRADES_4_G  GRADES_8_G  GRADES_12_G  GRADES_1_8_G  GRADES_9_12_G  \\\n0  ...     57948.0     58025.0      41167.0           NaN            NaN   \n1  ...      9748.0      8789.0       6714.0           NaN            NaN   \n2  ...     55433.0     49081.0      37410.0           NaN            NaN   \n3  ...     34632.0     36011.0      27651.0           NaN            NaN   \n4  ...    418418.0    363296.0     270675.0           NaN            NaN   \n\n   GRADES_ALL_G  AVG_MATH_4_SCORE  AVG_MATH_8_SCORE  AVG_READING_4_SCORE  \\\n0      731634.0             208.0             252.0                207.0   \n1      122487.0               NaN               NaN                  NaN   \n2      673477.0             215.0             265.0                209.0   \n3      441490.0             210.0             256.0                211.0   \n4     5254844.0             208.0             261.0                202.0   \n\n   AVG_READING_8_SCORE  \n0                  NaN  \n1                  NaN  \n2                  NaN  \n3                  NaN  \n4                  NaN  \n\n[5 rows x 25 columns]",
      "text/html": "<div>\n<style scoped>\n    .dataframe tbody tr th:only-of-type {\n        vertical-align: middle;\n    }\n\n    .dataframe tbody tr th {\n        vertical-align: top;\n    }\n\n    .dataframe thead th {\n        text-align: right;\n    }\n</style>\n<table border=\"1\" class=\"dataframe\">\n  <thead>\n    <tr style=\"text-align: right;\">\n      <th></th>\n      <th>PRIMARY_KEY</th>\n      <th>STATE</th>\n      <th>YEAR</th>\n      <th>ENROLL</th>\n      <th>TOTAL_REVENUE</th>\n      <th>FEDERAL_REVENUE</th>\n      <th>STATE_REVENUE</th>\n      <th>LOCAL_REVENUE</th>\n      <th>TOTAL_EXPENDITURE</th>\n      <th>INSTRUCTION_EXPENDITURE</th>\n      <th>...</th>\n      <th>GRADES_4_G</th>\n      <th>GRADES_8_G</th>\n      <th>GRADES_12_G</th>\n      <th>GRADES_1_8_G</th>\n      <th>GRADES_9_12_G</th>\n      <th>GRADES_ALL_G</th>\n      <th>AVG_MATH_4_SCORE</th>\n      <th>AVG_MATH_8_SCORE</th>\n      <th>AVG_READING_4_SCORE</th>\n      <th>AVG_READING_8_SCORE</th>\n    </tr>\n  </thead>\n  <tbody>\n    <tr>\n      <th>0</th>\n      <td>1992_ALABAMA</td>\n      <td>ALABAMA</td>\n      <td>1992</td>\n      <td>NaN</td>\n      <td>2678885.0</td>\n      <td>304177.0</td>\n      <td>1659028.0</td>\n      <td>715680.0</td>\n      <td>2653798.0</td>\n      <td>1481703.0</td>\n      <td>...</td>\n      <td>57948.0</td>\n      <td>58025.0</td>\n      <td>41167.0</td>\n      <td>NaN</td>\n      <td>NaN</td>\n      <td>731634.0</td>\n      <td>208.0</td>\n      <td>252.0</td>\n      <td>207.0</td>\n      <td>NaN</td>\n    </tr>\n    <tr>\n      <th>1</th>\n      <td>1992_ALASKA</td>\n      <td>ALASKA</td>\n      <td>1992</td>\n      <td>NaN</td>\n      <td>1049591.0</td>\n      <td>106780.0</td>\n      <td>720711.0</td>\n      <td>222100.0</td>\n      <td>972488.0</td>\n      <td>498362.0</td>\n      <td>...</td>\n      <td>9748.0</td>\n      <td>8789.0</td>\n      <td>6714.0</td>\n      <td>NaN</td>\n      <td>NaN</td>\n      <td>122487.0</td>\n      <td>NaN</td>\n      <td>NaN</td>\n      <td>NaN</td>\n      <td>NaN</td>\n    </tr>\n    <tr>\n      <th>2</th>\n      <td>1992_ARIZONA</td>\n      <td>ARIZONA</td>\n      <td>1992</td>\n      <td>NaN</td>\n      <td>3258079.0</td>\n      <td>297888.0</td>\n      <td>1369815.0</td>\n      <td>1590376.0</td>\n      <td>3401580.0</td>\n      <td>1435908.0</td>\n      <td>...</td>\n      <td>55433.0</td>\n      <td>49081.0</td>\n      <td>37410.0</td>\n      <td>NaN</td>\n      <td>NaN</td>\n      <td>673477.0</td>\n      <td>215.0</td>\n      <td>265.0</td>\n      <td>209.0</td>\n      <td>NaN</td>\n    </tr>\n    <tr>\n      <th>3</th>\n      <td>1992_ARKANSAS</td>\n      <td>ARKANSAS</td>\n      <td>1992</td>\n      <td>NaN</td>\n      <td>1711959.0</td>\n      <td>178571.0</td>\n      <td>958785.0</td>\n      <td>574603.0</td>\n      <td>1743022.0</td>\n      <td>964323.0</td>\n      <td>...</td>\n      <td>34632.0</td>\n      <td>36011.0</td>\n      <td>27651.0</td>\n      <td>NaN</td>\n      <td>NaN</td>\n      <td>441490.0</td>\n      <td>210.0</td>\n      <td>256.0</td>\n      <td>211.0</td>\n      <td>NaN</td>\n    </tr>\n    <tr>\n      <th>4</th>\n      <td>1992_CALIFORNIA</td>\n      <td>CALIFORNIA</td>\n      <td>1992</td>\n      <td>NaN</td>\n      <td>26260025.0</td>\n      <td>2072470.0</td>\n      <td>16546514.0</td>\n      <td>7641041.0</td>\n      <td>27138832.0</td>\n      <td>14358922.0</td>\n      <td>...</td>\n      <td>418418.0</td>\n      <td>363296.0</td>\n      <td>270675.0</td>\n      <td>NaN</td>\n      <td>NaN</td>\n      <td>5254844.0</td>\n      <td>208.0</td>\n      <td>261.0</td>\n      <td>202.0</td>\n      <td>NaN</td>\n    </tr>\n  </tbody>\n</table>\n<p>5 rows × 25 columns</p>\n</div>"
     },
     "metadata": {},
     "output_type": "execute_result",
     "execution_count": 7
    }
   ],
   "source": [
    "# первые 5 строк\n",
    "data.head()\n"
   ],
   "metadata": {
    "collapsed": false,
    "pycharm": {
     "name": "#%%\n",
     "is_executing": false
    }
   }
  },
  {
   "cell_type": "code",
   "execution_count": 8,
   "outputs": [
    {
     "name": "stdout",
     "text": [
      "Всего строк: 1715\n"
     ],
     "output_type": "stream"
    }
   ],
   "source": [
    "total_count = data.shape[0]\n",
    "print('Всего строк: {}'.format(total_count))"
   ],
   "metadata": {
    "collapsed": false,
    "pycharm": {
     "name": "#%%\n",
     "is_executing": false
    }
   }
  },
  {
   "cell_type": "code",
   "execution_count": 11,
   "outputs": [
    {
     "name": "stderr",
     "text": [
      "/usr/local/lib/python3.7/dist-packages/numpy/lib/histograms.py:839: RuntimeWarning: invalid value encountered in greater_equal\n",
      "  keep = (tmp_a >= first_edge)\n",
      "/usr/local/lib/python3.7/dist-packages/numpy/lib/histograms.py:840: RuntimeWarning: invalid value encountered in less_equal\n",
      "  keep &= (tmp_a <= last_edge)\n"
     ],
     "output_type": "stream"
    },
    {
     "data": {
      "text/plain": "<Figure size 432x288 with 1 Axes>",
      "image/png": "[encoded data removed]"
     },
     "metadata": {},
     "output_type": "display_data"
    }
   ],
   "source": [
    "from sklearn.preprocessing import MinMaxScaler, StandardScaler, Normalizer\n",
    "sc1 = MinMaxScaler()\n",
    "sc1_data = sc1.fit_transform(data[['ENROLL']])\n",
    "plt.hist(data['ENROLL'], 50)\n",
    "plt.show()"
   ],
   "metadata": {
    "collapsed": false,
    "pycharm": {
     "name": "#%%\n",
     "is_executing": false
    }
   }
  },
  {
   "cell_type": "code",
   "execution_count": 12,
   "outputs": [
    {
     "data": {
      "text/plain": "<Figure size 432x288 with 1 Axes>",
      "image/png": "[encoded data removed]"
     },
     "metadata": {},
     "output_type": "display_data"
    }
   ],
   "source": [
    "plt.hist(sc1_data, 50)\n",
    "plt.show()"
   ],
   "metadata": {
    "collapsed": false,
    "pycharm": {
     "name": "#%%\n",
     "is_executing": false
    }
   }
  },
  {
   "cell_type": "code",
   "execution_count": 13,
   "outputs": [
    {
     "name": "stderr",
     "text": [
      "/usr/local/lib/python3.7/dist-packages/numpy/lib/histograms.py:839: RuntimeWarning: invalid value encountered in greater_equal\n",
      "  keep = (tmp_a >= first_edge)\n",
      "/usr/local/lib/python3.7/dist-packages/numpy/lib/histograms.py:840: RuntimeWarning: invalid value encountered in less_equal\n",
      "  keep &= (tmp_a <= last_edge)\n"
     ],
     "output_type": "stream"
    },
    {
     "data": {
      "text/plain": "<Figure size 432x288 with 1 Axes>",
      "image/png": "[encoded data removed]"
     },
     "metadata": {},
     "output_type": "display_data"
    }
   ],
   "source": [
    "sc2 = StandardScaler()\n",
    "sc2_data = sc2.fit_transform(data[['ENROLL']])\n",
    "plt.hist(sc2_data, 50)\n",
    "plt.show()"
   ],
   "metadata": {
    "collapsed": false,
    "pycharm": {
     "name": "#%%\n",
     "is_executing": false
    }
   }
  },
  {
   "cell_type": "code",
   "execution_count": 23,
   "outputs": [
    {
     "data": {
      "text/plain": "array(['ALABAMA', 'ALASKA', 'ARIZONA', 'ARKANSAS', 'CALIFORNIA',\n       'COLORADO', 'CONNECTICUT', 'DELAWARE', 'DISTRICT_OF_COLUMBIA',\n       'FLORIDA', 'GEORGIA', 'HAWAII', 'IDAHO', 'ILLINOIS', 'INDIANA',\n       'IOWA', 'KANSAS', 'KENTUCKY', 'LOUISIANA', 'MAINE', 'MARYLAND',\n       'MASSACHUSETTS', 'MICHIGAN', 'MINNESOTA', 'MISSISSIPPI',\n       'MISSOURI', 'MONTANA', 'NEBRASKA', 'NEVADA', 'NEW_HAMPSHIRE',\n       'NEW_JERSEY', 'NEW_MEXICO', 'NEW_YORK', 'NORTH_CAROLINA',\n       'NORTH_DAKOTA', 'OHIO', 'OKLAHOMA', 'OREGON', 'PENNSYLVANIA',\n       'RHODE_ISLAND', 'SOUTH_CAROLINA', 'SOUTH_DAKOTA', 'TENNESSEE',\n       'TEXAS', 'UTAH', 'VERMONT', 'VIRGINIA', 'WASHINGTON',\n       'WEST_VIRGINIA', 'WISCONSIN', 'WYOMING', 'DODEA', 'NATIONAL'],\n      dtype=object)"
     },
     "metadata": {},
     "output_type": "execute_result",
     "execution_count": 23
    }
   ],
   "source": [
    "cat_data = np.array(data[['STATE']])\n",
    "from sklearn.preprocessing import LabelEncoder, OneHotEncoder\n",
    "cat_enc = pd.DataFrame({'c1':cat_data.T[0]})\n",
    "le = LabelEncoder()\n",
    "cat_enc_le = le.fit_transform(cat_enc['c1'])\n",
    "cat_enc['c1'].unique()"
   ],
   "metadata": {
    "collapsed": false,
    "pycharm": {
     "name": "#%%\n",
     "is_executing": false
    }
   }
  },
  {
   "cell_type": "code",
   "execution_count": 25,
   "outputs": [],
   "source": [
    "row = np.unique(cat_enc_le)\n"
   ],
   "metadata": {
    "collapsed": false,
    "pycharm": {
     "name": "#%%\n",
     "is_executing": false
    }
   }
  },
  {
   "cell_type": "code",
   "execution_count": 26,
   "outputs": [
    {
     "data": {
      "text/plain": "array(['ALABAMA', 'ALASKA', 'ARIZONA', 'ARKANSAS', 'CALIFORNIA',\n       'COLORADO', 'CONNECTICUT', 'DELAWARE', 'DISTRICT_OF_COLUMBIA',\n       'DODEA', 'FLORIDA', 'GEORGIA', 'HAWAII', 'IDAHO', 'ILLINOIS',\n       'INDIANA', 'IOWA', 'KANSAS', 'KENTUCKY', 'LOUISIANA', 'MAINE',\n       'MARYLAND', 'MASSACHUSETTS', 'MICHIGAN', 'MINNESOTA',\n       'MISSISSIPPI', 'MISSOURI', 'MONTANA', 'NATIONAL', 'NEBRASKA',\n       'NEVADA', 'NEW_HAMPSHIRE', 'NEW_JERSEY', 'NEW_MEXICO', 'NEW_YORK',\n       'NORTH_CAROLINA', 'NORTH_DAKOTA', 'OHIO', 'OKLAHOMA', 'OREGON',\n       'PENNSYLVANIA', 'RHODE_ISLAND', 'SOUTH_CAROLINA', 'SOUTH_DAKOTA',\n       'TENNESSEE', 'TEXAS', 'UTAH', 'VERMONT', 'VIRGINIA', 'WASHINGTON',\n       'WEST_VIRGINIA', 'WISCONSIN', 'WYOMING'], dtype=object)"
     },
     "metadata": {},
     "output_type": "execute_result",
     "execution_count": 26
    }
   ],
   "source": [
    "le.inverse_transform(row)"
   ],
   "metadata": {
    "collapsed": false,
    "pycharm": {
     "name": "#%% \n",
     "is_executing": false
    }
   }
  },
  {
   "cell_type": "code",
   "execution_count": 27,
   "outputs": [
    {
     "data": {
      "text/plain": "(1715, 1)"
     },
     "metadata": {},
     "output_type": "execute_result",
     "execution_count": 27
    }
   ],
   "source": [
    "ohe = OneHotEncoder()\n",
    "cat_enc_ohe = ohe.fit_transform(cat_enc[['c1']])\n",
    "cat_enc.shape"
   ],
   "metadata": {
    "collapsed": false,
    "pycharm": {
     "name": "#%%\n",
     "is_executing": false
    }
   }
  },
  {
   "cell_type": "code",
   "execution_count": 28,
   "outputs": [
    {
     "data": {
      "text/plain": "(1715, 53)"
     },
     "metadata": {},
     "output_type": "execute_result",
     "execution_count": 28
    }
   ],
   "source": [
    "cat_enc_ohe.shape"
   ],
   "metadata": {
    "collapsed": false,
    "pycharm": {
     "name": "#%%\n",
     "is_executing": false
    }
   }
  },
  {
   "cell_type": "code",
   "execution_count": 29,
   "outputs": [
    {
     "data": {
      "text/plain": "<1715x53 sparse matrix of type '<class 'numpy.float64'>'\n\twith 1715 stored elements in Compressed Sparse Row format>"
     },
     "metadata": {},
     "output_type": "execute_result",
     "execution_count": 29
    }
   ],
   "source": [
    "cat_enc_ohe"
   ],
   "metadata": {
    "collapsed": false,
    "pycharm": {
     "name": "#%%\n",
     "is_executing": false
    }
   }
  },
  {
   "cell_type": "code",
   "execution_count": 30,
   "outputs": [
    {
     "data": {
      "text/plain": "matrix([[1., 0., 0., 0., 0., 0., 0., 0., 0., 0., 0., 0., 0., 0., 0., 0.,\n         0., 0., 0., 0., 0., 0., 0., 0., 0., 0., 0., 0., 0., 0., 0., 0.,\n         0., 0., 0., 0., 0., 0., 0., 0., 0., 0., 0., 0., 0., 0., 0., 0.,\n         0., 0., 0., 0., 0.],\n        [0., 1., 0., 0., 0., 0., 0., 0., 0., 0., 0., 0., 0., 0., 0., 0.,\n         0., 0., 0., 0., 0., 0., 0., 0., 0., 0., 0., 0., 0., 0., 0., 0.,\n         0., 0., 0., 0., 0., 0., 0., 0., 0., 0., 0., 0., 0., 0., 0., 0.,\n         0., 0., 0., 0., 0.],\n        [0., 0., 1., 0., 0., 0., 0., 0., 0., 0., 0., 0., 0., 0., 0., 0.,\n         0., 0., 0., 0., 0., 0., 0., 0., 0., 0., 0., 0., 0., 0., 0., 0.,\n         0., 0., 0., 0., 0., 0., 0., 0., 0., 0., 0., 0., 0., 0., 0., 0.,\n         0., 0., 0., 0., 0.],\n        [0., 0., 0., 1., 0., 0., 0., 0., 0., 0., 0., 0., 0., 0., 0., 0.,\n         0., 0., 0., 0., 0., 0., 0., 0., 0., 0., 0., 0., 0., 0., 0., 0.,\n         0., 0., 0., 0., 0., 0., 0., 0., 0., 0., 0., 0., 0., 0., 0., 0.,\n         0., 0., 0., 0., 0.],\n        [0., 0., 0., 0., 1., 0., 0., 0., 0., 0., 0., 0., 0., 0., 0., 0.,\n         0., 0., 0., 0., 0., 0., 0., 0., 0., 0., 0., 0., 0., 0., 0., 0.,\n         0., 0., 0., 0., 0., 0., 0., 0., 0., 0., 0., 0., 0., 0., 0., 0.,\n         0., 0., 0., 0., 0.],\n        [0., 0., 0., 0., 0., 1., 0., 0., 0., 0., 0., 0., 0., 0., 0., 0.,\n         0., 0., 0., 0., 0., 0., 0., 0., 0., 0., 0., 0., 0., 0., 0., 0.,\n         0., 0., 0., 0., 0., 0., 0., 0., 0., 0., 0., 0., 0., 0., 0., 0.,\n         0., 0., 0., 0., 0.],\n        [0., 0., 0., 0., 0., 0., 1., 0., 0., 0., 0., 0., 0., 0., 0., 0.,\n         0., 0., 0., 0., 0., 0., 0., 0., 0., 0., 0., 0., 0., 0., 0., 0.,\n         0., 0., 0., 0., 0., 0., 0., 0., 0., 0., 0., 0., 0., 0., 0., 0.,\n         0., 0., 0., 0., 0.],\n        [0., 0., 0., 0., 0., 0., 0., 1., 0., 0., 0., 0., 0., 0., 0., 0.,\n         0., 0., 0., 0., 0., 0., 0., 0., 0., 0., 0., 0., 0., 0., 0., 0.,\n         0., 0., 0., 0., 0., 0., 0., 0., 0., 0., 0., 0., 0., 0., 0., 0.,\n         0., 0., 0., 0., 0.],\n        [0., 0., 0., 0., 0., 0., 0., 0., 1., 0., 0., 0., 0., 0., 0., 0.,\n         0., 0., 0., 0., 0., 0., 0., 0., 0., 0., 0., 0., 0., 0., 0., 0.,\n         0., 0., 0., 0., 0., 0., 0., 0., 0., 0., 0., 0., 0., 0., 0., 0.,\n         0., 0., 0., 0., 0.],\n        [0., 0., 0., 0., 0., 0., 0., 0., 0., 0., 1., 0., 0., 0., 0., 0.,\n         0., 0., 0., 0., 0., 0., 0., 0., 0., 0., 0., 0., 0., 0., 0., 0.,\n         0., 0., 0., 0., 0., 0., 0., 0., 0., 0., 0., 0., 0., 0., 0., 0.,\n         0., 0., 0., 0., 0.]])"
     },
     "metadata": {},
     "output_type": "execute_result",
     "execution_count": 30
    }
   ],
   "source": [
    "cat_enc_ohe.todense()[0:10]"
   ],
   "metadata": {
    "collapsed": false,
    "pycharm": {
     "name": "#%%\n",
     "is_executing": false
    }
   }
  },
  {
   "cell_type": "code",
   "execution_count": 31,
   "outputs": [
    {
     "data": {
      "text/plain": "                     c1\n0               ALABAMA\n1                ALASKA\n2               ARIZONA\n3              ARKANSAS\n4            CALIFORNIA\n5              COLORADO\n6           CONNECTICUT\n7              DELAWARE\n8  DISTRICT_OF_COLUMBIA\n9               FLORIDA",
      "text/html": "<div>\n<style scoped>\n    .dataframe tbody tr th:only-of-type {\n        vertical-align: middle;\n    }\n\n    .dataframe tbody tr th {\n        vertical-align: top;\n    }\n\n    .dataframe thead th {\n        text-align: right;\n    }\n</style>\n<table border=\"1\" class=\"dataframe\">\n  <thead>\n    <tr style=\"text-align: right;\">\n      <th></th>\n      <th>c1</th>\n    </tr>\n  </thead>\n  <tbody>\n    <tr>\n      <th>0</th>\n      <td>ALABAMA</td>\n    </tr>\n    <tr>\n      <th>1</th>\n      <td>ALASKA</td>\n    </tr>\n    <tr>\n      <th>2</th>\n      <td>ARIZONA</td>\n    </tr>\n    <tr>\n      <th>3</th>\n      <td>ARKANSAS</td>\n    </tr>\n    <tr>\n      <th>4</th>\n      <td>CALIFORNIA</td>\n    </tr>\n    <tr>\n      <th>5</th>\n      <td>COLORADO</td>\n    </tr>\n    <tr>\n      <th>6</th>\n      <td>CONNECTICUT</td>\n    </tr>\n    <tr>\n      <th>7</th>\n      <td>DELAWARE</td>\n    </tr>\n    <tr>\n      <th>8</th>\n      <td>DISTRICT_OF_COLUMBIA</td>\n    </tr>\n    <tr>\n      <th>9</th>\n      <td>FLORIDA</td>\n    </tr>\n  </tbody>\n</table>\n</div>"
     },
     "metadata": {},
     "output_type": "execute_result",
     "execution_count": 31
    }
   ],
   "source": [
    "cat_enc.head(10)"
   ],
   "metadata": {
    "collapsed": false,
    "pycharm": {
     "name": "#%%\n",
     "is_executing": false
    }
   }
  },
  {
   "cell_type": "code",
   "execution_count": 32,
   "outputs": [
    {
     "data": {
      "text/plain": "   c1_ALABAMA  c1_ALASKA  c1_ARIZONA  c1_ARKANSAS  c1_CALIFORNIA  c1_COLORADO  \\\n0           1          0           0            0              0            0   \n1           0          1           0            0              0            0   \n2           0          0           1            0              0            0   \n3           0          0           0            1              0            0   \n4           0          0           0            0              1            0   \n\n   c1_CONNECTICUT  c1_DELAWARE  c1_DISTRICT_OF_COLUMBIA  c1_DODEA  ...  \\\n0               0            0                        0         0  ...   \n1               0            0                        0         0  ...   \n2               0            0                        0         0  ...   \n3               0            0                        0         0  ...   \n4               0            0                        0         0  ...   \n\n   c1_TENNESSEE  c1_TEXAS  c1_UTAH  c1_VERMONT  c1_VIRGINIA  c1_WASHINGTON  \\\n0             0         0        0           0            0              0   \n1             0         0        0           0            0              0   \n2             0         0        0           0            0              0   \n3             0         0        0           0            0              0   \n4             0         0        0           0            0              0   \n\n   c1_WEST_VIRGINIA  c1_WISCONSIN  c1_WYOMING  c1_nan  \n0                 0             0           0       0  \n1                 0             0           0       0  \n2                 0             0           0       0  \n3                 0             0           0       0  \n4                 0             0           0       0  \n\n[5 rows x 54 columns]",
      "text/html": "<div>\n<style scoped>\n    .dataframe tbody tr th:only-of-type {\n        vertical-align: middle;\n    }\n\n    .dataframe tbody tr th {\n        vertical-align: top;\n    }\n\n    .dataframe thead th {\n        text-align: right;\n    }\n</style>\n<table border=\"1\" class=\"dataframe\">\n  <thead>\n    <tr style=\"text-align: right;\">\n      <th></th>\n      <th>c1_ALABAMA</th>\n      <th>c1_ALASKA</th>\n      <th>c1_ARIZONA</th>\n      <th>c1_ARKANSAS</th>\n      <th>c1_CALIFORNIA</th>\n      <th>c1_COLORADO</th>\n      <th>c1_CONNECTICUT</th>\n      <th>c1_DELAWARE</th>\n      <th>c1_DISTRICT_OF_COLUMBIA</th>\n      <th>c1_DODEA</th>\n      <th>...</th>\n      <th>c1_TENNESSEE</th>\n      <th>c1_TEXAS</th>\n      <th>c1_UTAH</th>\n      <th>c1_VERMONT</th>\n      <th>c1_VIRGINIA</th>\n      <th>c1_WASHINGTON</th>\n      <th>c1_WEST_VIRGINIA</th>\n      <th>c1_WISCONSIN</th>\n      <th>c1_WYOMING</th>\n      <th>c1_nan</th>\n    </tr>\n  </thead>\n  <tbody>\n    <tr>\n      <th>0</th>\n      <td>1</td>\n      <td>0</td>\n      <td>0</td>\n      <td>0</td>\n      <td>0</td>\n      <td>0</td>\n      <td>0</td>\n      <td>0</td>\n      <td>0</td>\n      <td>0</td>\n      <td>...</td>\n      <td>0</td>\n      <td>0</td>\n      <td>0</td>\n      <td>0</td>\n      <td>0</td>\n      <td>0</td>\n      <td>0</td>\n      <td>0</td>\n      <td>0</td>\n      <td>0</td>\n    </tr>\n    <tr>\n      <th>1</th>\n      <td>0</td>\n      <td>1</td>\n      <td>0</td>\n      <td>0</td>\n      <td>0</td>\n      <td>0</td>\n      <td>0</td>\n      <td>0</td>\n      <td>0</td>\n      <td>0</td>\n      <td>...</td>\n      <td>0</td>\n      <td>0</td>\n      <td>0</td>\n      <td>0</td>\n      <td>0</td>\n      <td>0</td>\n      <td>0</td>\n      <td>0</td>\n      <td>0</td>\n      <td>0</td>\n    </tr>\n    <tr>\n      <th>2</th>\n      <td>0</td>\n      <td>0</td>\n      <td>1</td>\n      <td>0</td>\n      <td>0</td>\n      <td>0</td>\n      <td>0</td>\n      <td>0</td>\n      <td>0</td>\n      <td>0</td>\n      <td>...</td>\n      <td>0</td>\n      <td>0</td>\n      <td>0</td>\n      <td>0</td>\n      <td>0</td>\n      <td>0</td>\n      <td>0</td>\n      <td>0</td>\n      <td>0</td>\n      <td>0</td>\n    </tr>\n    <tr>\n      <th>3</th>\n      <td>0</td>\n      <td>0</td>\n      <td>0</td>\n      <td>1</td>\n      <td>0</td>\n      <td>0</td>\n      <td>0</td>\n      <td>0</td>\n      <td>0</td>\n      <td>0</td>\n      <td>...</td>\n      <td>0</td>\n      <td>0</td>\n      <td>0</td>\n      <td>0</td>\n      <td>0</td>\n      <td>0</td>\n      <td>0</td>\n      <td>0</td>\n      <td>0</td>\n      <td>0</td>\n    </tr>\n    <tr>\n      <th>4</th>\n      <td>0</td>\n      <td>0</td>\n      <td>0</td>\n      <td>0</td>\n      <td>1</td>\n      <td>0</td>\n      <td>0</td>\n      <td>0</td>\n      <td>0</td>\n      <td>0</td>\n      <td>...</td>\n      <td>0</td>\n      <td>0</td>\n      <td>0</td>\n      <td>0</td>\n      <td>0</td>\n      <td>0</td>\n      <td>0</td>\n      <td>0</td>\n      <td>0</td>\n      <td>0</td>\n    </tr>\n  </tbody>\n</table>\n<p>5 rows × 54 columns</p>\n</div>"
     },
     "metadata": {},
     "output_type": "execute_result",
     "execution_count": 32
    }
   ],
   "source": [
    "pd.get_dummies(cat_enc, dummy_na=True).head()"
   ],
   "metadata": {
    "collapsed": false,
    "pycharm": {
     "name": "#%%\n",
     "is_executing": false
    }
   }
  },
  {
   "cell_type": "code",
   "execution_count": 35,
   "outputs": [
    {
     "data": {
      "text/plain": "<matplotlib.axes._subplots.AxesSubplot at 0x7fbe44b10610>"
     },
     "metadata": {},
     "output_type": "execute_result",
     "execution_count": 35
    },
    {
     "data": {
      "text/plain": "<Figure size 720x720 with 1 Axes>",
      "image/png": "[encoded data removed]"
     },
     "metadata": {},
     "output_type": "display_data"
    }
   ],
   "source": [
    "fig, ax = plt.subplots(figsize=(10,10)) \n",
    "sns.scatterplot(ax=ax, x='STATE', y='ENROLL', data=data)"
   ],
   "metadata": {
    "collapsed": false,
    "pycharm": {
     "name": "#%%\n",
     "is_executing": false
    }
   }
  },
  {
   "cell_type": "code",
   "execution_count": 34,
   "outputs": [
    {
     "data": {
      "text/plain": "<matplotlib.axes._subplots.AxesSubplot at 0x7fbe6e8f43d0>"
     },
     "metadata": {},
     "output_type": "execute_result",
     "execution_count": 34
    },
    {
     "data": {
      "text/plain": "<Figure size 432x288 with 1 Axes>",
      "image/png": "[encoded data removed]"
     },
     "metadata": {},
     "output_type": "display_data"
    }
   ],
   "source": [
    "sns.distplot(data['ENROLL'])"
   ],
   "metadata": {
    "collapsed": false,
    "pycharm": {
     "name": "#%%\n",
     "is_executing": false
    }
   }
  },
  {
   "cell_type": "code",
   "execution_count": 39,
   "outputs": [
    {
     "name": "stderr",
     "text": [
      "/usr/local/lib/python3.7/dist-packages/numpy/lib/histograms.py:839: RuntimeWarning: invalid value encountered in greater_equal\n",
      "  keep = (tmp_a >= first_edge)\n",
      "/usr/local/lib/python3.7/dist-packages/numpy/lib/histograms.py:840: RuntimeWarning: invalid value encountered in less_equal\n",
      "  keep &= (tmp_a <= last_edge)\n"
     ],
     "output_type": "stream"
    },
    {
     "data": {
      "text/plain": "<Figure size 432x288 with 1 Axes>",
      "image/png": "[encoded data removed]"
     },
     "metadata": {},
     "output_type": "display_data"
    }
   ],
   "source": [
    "sc2 = StandardScaler()\n",
    "sc2_data = sc2.fit_transform(data[['ENROLL']])\n",
    "plt.hist(sc2_data, 50)\n",
    "plt.show()"
   ],
   "metadata": {
    "collapsed": false,
    "pycharm": {
     "name": "#%%\n",
     "is_executing": false
    }
   }
  },
  {
   "cell_type": "code",
   "execution_count": 38,
   "outputs": [
    {
     "name": "stderr",
     "text": [
      "/usr/local/lib/python3.7/dist-packages/numpy/lib/histograms.py:839: RuntimeWarning: invalid value encountered in greater_equal\n",
      "  keep = (tmp_a >= first_edge)\n",
      "/usr/local/lib/python3.7/dist-packages/numpy/lib/histograms.py:840: RuntimeWarning: invalid value encountered in less_equal\n",
      "  keep &= (tmp_a <= last_edge)\n"
     ],
     "output_type": "stream"
    },
    {
     "data": {
      "text/plain": "<Figure size 432x288 with 1 Axes>",
      "image/png": "[encoded data removed]"
     },
     "metadata": {},
     "output_type": "display_data"
    }
   ],
   "source": [
    "from sklearn.preprocessing import MinMaxScaler, StandardScaler, Normalizer\n",
    "sc1 = MinMaxScaler()\n",
    "sc1_data = sc1.fit_transform(data[['ENROLL']])\n",
    "plt.hist(data['ENROLL'], 50)\n",
    "plt.show()\n"
   ],
   "metadata": {
    "collapsed": false,
    "pycharm": {
     "name": "#%%\n",
     "is_executing": false
    }
   }
  }
 ],
 "metadata": {
  "kernelspec": {
   "name": "pycharm-dd4de458",
   "language": "python",
   "display_name": "PyCharm (ml_course)"
  },
  "language_info": {
   "codemirror_mode": {
    "name": "ipython",
    "version": 2
   },
   "file_extension": ".py",
   "mimetype": "text/x-python",
   "name": "python",
   "nbconvert_exporter": "python",
   "pygments_lexer": "ipython2",
   "version": "2.7.6"
  },
  "pycharm": {
   "stem_cell": {
    "cell_type": "raw",
    "source": [],
    "metadata": {
     "collapsed": false
    }
   }
  }
 },
 "nbformat": 4,
 "nbformat_minor": 0
}